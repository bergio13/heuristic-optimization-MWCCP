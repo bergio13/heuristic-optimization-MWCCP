{
  "nbformat": 4,
  "nbformat_minor": 0,
  "metadata": {
    "colab": {
      "provenance": [],
      "toc_visible": true
    },
    "kernelspec": {
      "name": "python3",
      "display_name": "Python 3"
    },
    "language_info": {
      "name": "python"
    }
  },
  "cells": [
    {
      "cell_type": "markdown",
      "source": [
        "# Assignment 1"
      ],
      "metadata": {
        "id": "YPCFE6LRt_jH"
      }
    },
    {
      "cell_type": "markdown",
      "source": [
        "## Question 1: Think about a meaningful real-world application for this problem and briefly describe it"
      ],
      "metadata": {
        "id": "zNprH_7QuHmK"
      }
    },
    {
      "cell_type": "markdown",
      "source": [
        "Application: Railway Scheduling and Track Layout\n",
        "\n",
        "- Nodes in U could represent fixed train stations along a route, where trains must stop in a specific order\n",
        "- Nodes in V coul reoresent trains/train routes to be scheduled within the network\n",
        "- Weighetd edges would inidcate the relationship between trains/train routes and tracks, with higher weights representing either higher traffic, longer distance, lower importance in terms of scheduling (in case of for exaple local vs. high speed train)\n",
        "- constraints in C would enforce rules like the fact that certain trains need to arrive before others or that trains using the same tracks do not overlap.\n",
        "\n",
        "The objective then would be to arrange the schedules in V to minimize the crossings of tracks while satisfying all contraints in C. This would lead to improved security and efficiency as minimzing track crossings would reduce the likelihood of collisions or delaysdue to track conflicts."
      ],
      "metadata": {
        "id": "y05g-15WuJdS"
      }
    },
    {
      "cell_type": "markdown",
      "source": [
        "## Question 2: Develop a meaningful deterministic construction heuristic"
      ],
      "metadata": {
        "id": "haIPhlNMxcDC"
      }
    },
    {
      "cell_type": "markdown",
      "source": [
        "A meaningful determinitic contruction heuristic could be one based on a greedy approach:\n",
        "- Inititalize an empty ordered permuation list $\\pi$ for nodes in $V$\n",
        "- Sort the nodes in $V$ based on the precedence constrints in $C$\n",
        "- For every node in $U$ and until V is empty\n",
        "  - look at which nodes in $V$ are connected to it and choose one based on two criteria:\n",
        "    - precedence constraint satisfaction\n",
        "    - cost of placing $v$ in that position ($p$), which is based on the sum of the weights of all edges that would cross if $v$ is placed in $p$\n",
        "  - Add this node to the ordered list $\\pi$ in the specified position and remove it from $V$\n"
      ],
      "metadata": {
        "id": "3q5jgD-lxlrS"
      }
    },
    {
      "cell_type": "markdown",
      "source": [
        "## Question 3: Derive a randomized construction heuristic to be applied iteratively"
      ],
      "metadata": {
        "id": "aVHUvfAJ1TlQ"
      }
    },
    {
      "cell_type": "markdown",
      "source": [
        "The randomized heuristic could follow the same process as the deterministic one, but then, when choosing the node in $V$ to connect to a node in $U$, instead of always choosing the one that has a minimum cost if inserted in that position, we could pick one randomly, with a probability inversely propotional to the cost."
      ],
      "metadata": {
        "id": "bCxvEQw11gHx"
      }
    },
    {
      "cell_type": "code",
      "source": [],
      "metadata": {
        "id": "KM7yQRrbAkm5"
      },
      "execution_count": null,
      "outputs": []
    }
  ]
}