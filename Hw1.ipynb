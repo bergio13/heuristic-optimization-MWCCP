{
  "nbformat": 4,
  "nbformat_minor": 0,
  "metadata": {
    "colab": {
      "provenance": []
    },
    "kernelspec": {
      "name": "python3",
      "display_name": "Python 3"
    },
    "language_info": {
      "name": "python"
    }
  },
  "cells": [
    {
      "cell_type": "markdown",
      "source": [
        "# Assignment 1"
      ],
      "metadata": {
        "id": "YPCFE6LRt_jH"
      }
    },
    {
      "cell_type": "code",
      "source": [
        "from collections import defaultdict, deque\n",
        "import itertools\n",
        "import numpy as np"
      ],
      "metadata": {
        "id": "ZIWVKN2FRQ5_"
      },
      "execution_count": 1,
      "outputs": []
    },
    {
      "cell_type": "code",
      "source": [
        "class Graph:\n",
        "    def __init__(self, U_size, V_size):\n",
        "        self.U = list(range(1, U_size + 1))  # Nodes in set U\n",
        "        self.V = list(range(U_size + 1, U_size + V_size + 1))  # Nodes in fixed layer U\n",
        "        self.edges = []  # List of edges (u, v, weight)\n",
        "        self.constraints = defaultdict(list)  # Constraints as adjacency list for V\n",
        "        self.in_degree = {v: 0 for v in self.V}   # Dictionary to store in-degree of nodes in V\n",
        "\n",
        "    def add_node_U(self, node):\n",
        "        self.U.append(node)\n",
        "\n",
        "    def add_node_V(self, node):\n",
        "        self.V.append(node)\n",
        "        self.in_degree[node] = 0  # Initialize in-degree for nodes in V\n",
        "\n",
        "    def add_edge(self, u, v, weight):\n",
        "        self.edges.append((u, v, weight))\n",
        "\n",
        "    def add_constraint(self, v1, v2):\n",
        "        self.constraints[v1].append(v2)\n",
        "        self.in_degree[v2] += 1  # Update in-degree due to precedence constraint"
      ],
      "metadata": {
        "id": "10mG3jXtbM_C"
      },
      "execution_count": 2,
      "outputs": []
    },
    {
      "cell_type": "code",
      "source": [
        "def load_instance(filename):\n",
        "    with open(filename, 'r') as file:\n",
        "        U_size, V_size, C_size, E_size = map(int, file.readline().split())\n",
        "        graph = Graph(U_size, V_size)\n",
        "\n",
        "        # Read constraints section\n",
        "        line = file.readline().strip()\n",
        "        while line != \"#constraints\":\n",
        "            line = file.readline().strip()\n",
        "\n",
        "        for _ in range(C_size):\n",
        "            v, v_prime = map(int, file.readline().split())\n",
        "            graph.add_constraint(v, v_prime)\n",
        "\n",
        "        # Read edges section\n",
        "        line = file.readline().strip()\n",
        "        while line != \"#edges\":\n",
        "            line = file.readline().strip()\n",
        "\n",
        "        for _ in range(E_size):\n",
        "            u, v, weight = file.readline().split()\n",
        "            graph.add_edge(int(u), int(v), float(weight))\n",
        "\n",
        "    return graph"
      ],
      "metadata": {
        "id": "kpxCV7hay0Me"
      },
      "execution_count": 3,
      "outputs": []
    },
    {
      "cell_type": "code",
      "source": [
        "def cost_function(graph, permutation):\n",
        "    # Create a dictionary for quick lookup of node positions in the current ordering\n",
        "    position = {node: idx for idx, node in enumerate(permutation)}\n",
        "    total_cost = 0\n",
        "    # Iterate over all pairs of edges to count crossings\n",
        "    for (u1, v1, w1), (u2, v2, w2) in itertools.combinations(graph.edges, 2):\n",
        "        # Check if edges cross based on their positions\n",
        "        if (u1 < u2 and position[v1] > position[v2]) or (u1 > u2 and position[v1] < position[v2]):\n",
        "            # Add the sum of weights for the crossing edges to the total cost\n",
        "            total_cost += w1 + w2\n",
        "\n",
        "    return total_cost"
      ],
      "metadata": {
        "id": "Bw-dT1wiSXji"
      },
      "execution_count": 4,
      "outputs": []
    },
    {
      "cell_type": "markdown",
      "source": [
        "## Question 1: Think about a meaningful real-world application for this problem and briefly describe it"
      ],
      "metadata": {
        "id": "zNprH_7QuHmK"
      }
    },
    {
      "cell_type": "markdown",
      "source": [
        "Application: Railway Scheduling and Track Layout\n",
        "\n",
        "- Nodes in $U$ could represent fixed train stations along a route, where trains must stop in a specific order\n",
        "- Nodes in $V$ could reoresent trains/train routes to be scheduled within the network\n",
        "- Weighetd edges would inidcate the relationship between trains/train routes and tracks, with higher weights representing either higher traffic, longer distance, lower importance in terms of scheduling (in case of for exaple local vs. high speed train)\n",
        "- constraints in C would enforce rules like the fact that certain trains need to arrive before others or that trains using the same tracks do not overlap.\n",
        "\n",
        "The objective then would be to arrange the schedules in V to minimize the crossings of tracks while satisfying all contraints in C. This would lead to improved security and efficiency as minimzing track crossings would reduce the likelihood of collisions or delaysdue to track conflicts."
      ],
      "metadata": {
        "id": "y05g-15WuJdS"
      }
    },
    {
      "cell_type": "markdown",
      "source": [
        "## Question 2: Develop a meaningful deterministic construction heuristic"
      ],
      "metadata": {
        "id": "haIPhlNMxcDC"
      }
    },
    {
      "cell_type": "markdown",
      "source": [
        "A meaningful determinitic contruction heuristic could be one based on a greedy approach:\n",
        "- Inititalize an empty ordered permuation list $\\pi$ for nodes in $V$\n",
        "- Compute for each node in $V$ the number of constraints that require other nodes to come before it\n",
        "- Create a list of candidates with nodes in $V$ that have no predecessors\n",
        "\n",
        "- For every node in the candidates and until $V$ is empty\n",
        "  - calculate the total weight of edges connecting it to U\n",
        "  - select the node with the lowest total edge weight to nodes in $U$ and append it to the final permutation list $\\pi$\n",
        "\n",
        "  - update the in-degree of nodes that had this as a constraint reducing it by 1\n",
        "\n",
        "  - if the in-degree of any node in V reaches zero add it to the candidates\n",
        "\n",
        "\n"
      ],
      "metadata": {
        "id": "3q5jgD-lxlrS"
      }
    },
    {
      "cell_type": "code",
      "source": [
        "class DeterministicConstruction:\n",
        "    def __init__(self, graph):\n",
        "        self.graph = graph\n",
        "        self.pi = []  # store the final order of nodes in V\n",
        "\n",
        "    def greedy_construction(self):\n",
        "        # Initialize candidates with in-degree 0 nodes\n",
        "        candidates = deque([v for v in self.graph.V if self.graph.in_degree[v] == 0])\n",
        "\n",
        "        while candidates:\n",
        "            # Select node with lowest edge weight to nodes in U\n",
        "            best_node = None\n",
        "            best_weight_sum = float('inf')  # Minimize total weight\n",
        "\n",
        "            for v in candidates:\n",
        "                # Calculate the sum of edge weights for the current candidate node\n",
        "                weight_sum = sum(weight for u, v2, weight in self.graph.edges if v2 == v)\n",
        "                if weight_sum < best_weight_sum:\n",
        "                    best_weight_sum = weight_sum\n",
        "                    best_node = v\n",
        "\n",
        "            # Add the selected best_node to the pi\n",
        "            self.pi.append(best_node)\n",
        "            candidates.remove(best_node)\n",
        "\n",
        "            # Update in-degrees based on the constraints, and add new candidates\n",
        "            for v_next in self.graph.constraints[best_node]:\n",
        "                self.graph.in_degree[v_next] -= 1\n",
        "                if self.graph.in_degree[v_next] == 0:\n",
        "                    candidates.append(v_next)\n",
        "\n",
        "        return self.pi\n",
        "\n",
        "    def calculate_cost(self):\n",
        "        # Create a dictionary for quick lookup of node positions in the current ordering\n",
        "        position = {node: idx for idx, node in enumerate(self.pi)}\n",
        "        total_cost = 0\n",
        "\n",
        "        # Iterate over all pairs of edges to count crossings\n",
        "        for (u1, v1, w1), (u2, v2, w2) in itertools.combinations(self.graph.edges, 2):\n",
        "            # Check if edges cross based on their positions\n",
        "            if (u1 < u2 and position[v1] > position[v2]) or (u1 > u2 and position[v1] < position[v2]):\n",
        "                # Add the sum of weights for the crossing edges to the total cost\n",
        "                total_cost += w1 + w2\n",
        "\n",
        "        return total_cost\n"
      ],
      "metadata": {
        "id": "P-wY_tX7bV_b"
      },
      "execution_count": 5,
      "outputs": []
    },
    {
      "cell_type": "code",
      "source": [
        "# Example usage with a small problem instance\n",
        "graph = Graph(5, 5)\n",
        "\n",
        "# Adding edges with weights\n",
        "graph.add_edge(1, 7, 1)\n",
        "graph.add_edge(2, 8, 2)\n",
        "graph.add_edge(3, 9, 1)\n",
        "graph.add_edge(4, 10, 3)\n",
        "graph.add_edge(5, 6, 11)\n",
        "\n",
        "# Adding precedence constraints\n",
        "graph.add_constraint(7, 10)\n",
        "graph.add_constraint(8, 9)\n",
        "\n",
        "# Create an MWCCP solution instance and use the greedy heuristic\n",
        "solution = DeterministicConstruction(graph)\n",
        "ordering = solution.greedy_construction()\n",
        "\n",
        "\n",
        "print(\"The initial ordering of nodes in V:\", ordering)\n",
        "\n",
        "print(solution.calculate_cost())"
      ],
      "metadata": {
        "colab": {
          "base_uri": "https://localhost:8080/"
        },
        "id": "JsCzSZm0Hd0x",
        "outputId": "8fbfc85a-aa9c-4612-8c7d-be91a070c19e"
      },
      "execution_count": 6,
      "outputs": [
        {
          "output_type": "stream",
          "name": "stdout",
          "text": [
            "The initial ordering of nodes in V: [7, 8, 9, 10, 6]\n",
            "0\n"
          ]
        }
      ]
    },
    {
      "cell_type": "code",
      "source": [
        "permutation = np.random.permutation(graph.V)\n",
        "print(permutation)\n",
        "\n",
        "obj_cost = cost_function(graph, permutation)\n",
        "print(obj_cost)\n",
        "\n",
        "obj_cost = cost_function(graph, ordering)\n",
        "print(obj_cost)"
      ],
      "metadata": {
        "colab": {
          "base_uri": "https://localhost:8080/"
        },
        "id": "9zXnqT2xRHdp",
        "outputId": "fb3ddf2d-0711-44b9-8718-82c7f68ed01a"
      },
      "execution_count": 7,
      "outputs": [
        {
          "output_type": "stream",
          "name": "stdout",
          "text": [
            "[ 6  7  9  8 10]\n",
            "54\n",
            "0\n"
          ]
        }
      ]
    },
    {
      "cell_type": "code",
      "source": [
        "graph = load_instance('in.txt')\n",
        "\n",
        "solution = DeterministicConstruction(graph)\n",
        "ordering = solution.greedy_construction()\n",
        "\n",
        "print(\"The initial ordering of nodes in V:\", ordering)\n",
        "\n",
        "print(solution.calculate_cost())\n"
      ],
      "metadata": {
        "colab": {
          "base_uri": "https://localhost:8080/",
          "height": 347
        },
        "id": "bHR4_y2fF22F",
        "outputId": "6e3c2964-9426-4e5b-fd84-173da6173768"
      },
      "execution_count": null,
      "outputs": [
        {
          "output_type": "error",
          "ename": "FileNotFoundError",
          "evalue": "[Errno 2] No such file or directory: 'in.txt'",
          "traceback": [
            "\u001b[0;31m---------------------------------------------------------------------------\u001b[0m",
            "\u001b[0;31mFileNotFoundError\u001b[0m                         Traceback (most recent call last)",
            "\u001b[0;32m<ipython-input-9-2df26626a73a>\u001b[0m in \u001b[0;36m<cell line: 1>\u001b[0;34m()\u001b[0m\n\u001b[0;32m----> 1\u001b[0;31m \u001b[0mgraph\u001b[0m \u001b[0;34m=\u001b[0m \u001b[0mload_instance\u001b[0m\u001b[0;34m(\u001b[0m\u001b[0;34m'in.txt'\u001b[0m\u001b[0;34m)\u001b[0m\u001b[0;34m\u001b[0m\u001b[0;34m\u001b[0m\u001b[0m\n\u001b[0m\u001b[1;32m      2\u001b[0m \u001b[0;34m\u001b[0m\u001b[0m\n\u001b[1;32m      3\u001b[0m \u001b[0msolution\u001b[0m \u001b[0;34m=\u001b[0m \u001b[0mDeterministicConstruction\u001b[0m\u001b[0;34m(\u001b[0m\u001b[0mgraph\u001b[0m\u001b[0;34m)\u001b[0m\u001b[0;34m\u001b[0m\u001b[0;34m\u001b[0m\u001b[0m\n\u001b[1;32m      4\u001b[0m \u001b[0mordering\u001b[0m \u001b[0;34m=\u001b[0m \u001b[0msolution\u001b[0m\u001b[0;34m.\u001b[0m\u001b[0mgreedy_construction\u001b[0m\u001b[0;34m(\u001b[0m\u001b[0;34m)\u001b[0m\u001b[0;34m\u001b[0m\u001b[0;34m\u001b[0m\u001b[0m\n\u001b[1;32m      5\u001b[0m \u001b[0;34m\u001b[0m\u001b[0m\n",
            "\u001b[0;32m<ipython-input-4-f48e5758131b>\u001b[0m in \u001b[0;36mload_instance\u001b[0;34m(filename)\u001b[0m\n\u001b[1;32m      1\u001b[0m \u001b[0;32mdef\u001b[0m \u001b[0mload_instance\u001b[0m\u001b[0;34m(\u001b[0m\u001b[0mfilename\u001b[0m\u001b[0;34m)\u001b[0m\u001b[0;34m:\u001b[0m\u001b[0;34m\u001b[0m\u001b[0;34m\u001b[0m\u001b[0m\n\u001b[0;32m----> 2\u001b[0;31m     \u001b[0;32mwith\u001b[0m \u001b[0mopen\u001b[0m\u001b[0;34m(\u001b[0m\u001b[0mfilename\u001b[0m\u001b[0;34m,\u001b[0m \u001b[0;34m'r'\u001b[0m\u001b[0;34m)\u001b[0m \u001b[0;32mas\u001b[0m \u001b[0mfile\u001b[0m\u001b[0;34m:\u001b[0m\u001b[0;34m\u001b[0m\u001b[0;34m\u001b[0m\u001b[0m\n\u001b[0m\u001b[1;32m      3\u001b[0m         \u001b[0mU_size\u001b[0m\u001b[0;34m,\u001b[0m \u001b[0mV_size\u001b[0m\u001b[0;34m,\u001b[0m \u001b[0mC_size\u001b[0m\u001b[0;34m,\u001b[0m \u001b[0mE_size\u001b[0m \u001b[0;34m=\u001b[0m \u001b[0mmap\u001b[0m\u001b[0;34m(\u001b[0m\u001b[0mint\u001b[0m\u001b[0;34m,\u001b[0m \u001b[0mfile\u001b[0m\u001b[0;34m.\u001b[0m\u001b[0mreadline\u001b[0m\u001b[0;34m(\u001b[0m\u001b[0;34m)\u001b[0m\u001b[0;34m.\u001b[0m\u001b[0msplit\u001b[0m\u001b[0;34m(\u001b[0m\u001b[0;34m)\u001b[0m\u001b[0;34m)\u001b[0m\u001b[0;34m\u001b[0m\u001b[0;34m\u001b[0m\u001b[0m\n\u001b[1;32m      4\u001b[0m         \u001b[0mgraph\u001b[0m \u001b[0;34m=\u001b[0m \u001b[0mGraph\u001b[0m\u001b[0;34m(\u001b[0m\u001b[0mU_size\u001b[0m\u001b[0;34m,\u001b[0m \u001b[0mV_size\u001b[0m\u001b[0;34m)\u001b[0m\u001b[0;34m\u001b[0m\u001b[0;34m\u001b[0m\u001b[0m\n\u001b[1;32m      5\u001b[0m \u001b[0;34m\u001b[0m\u001b[0m\n",
            "\u001b[0;31mFileNotFoundError\u001b[0m: [Errno 2] No such file or directory: 'in.txt'"
          ]
        }
      ]
    },
    {
      "cell_type": "markdown",
      "source": [
        "## Question 3: Derive a randomized construction heuristic to be applied iteratively"
      ],
      "metadata": {
        "id": "aVHUvfAJ1TlQ"
      }
    },
    {
      "cell_type": "markdown",
      "source": [
        "The randomized heuristic could follow the same process as the deterministic one, but then, when choosing the node in $V$ to add to the final permutation list $\\pi$, instead of always choosing the one that has a minimum weighted sum of edges to $U$, pick one randomly, with a probability inversely propotional to this sum."
      ],
      "metadata": {
        "id": "bCxvEQw11gHx"
      }
    },
    {
      "cell_type": "code",
      "source": [
        "class RandomizedConstruction:\n",
        "    def __init__(self, graph):\n",
        "        self.graph = graph\n",
        "        self.pi = []  # This will store the final order of nodes in V\n",
        "\n",
        "    def greedy_construction(self):\n",
        "        # Initialize candidates with in-degree 0 nodes\n",
        "        candidates = deque([v for v in self.graph.V if self.graph.in_degree[v] == 0])\n",
        "\n",
        "        while candidates:\n",
        "            # Select node with lowest edge weight to nodes in U\n",
        "            best_node = None\n",
        "\n",
        "            sums = []\n",
        "            for v in candidates:\n",
        "                # Calculate the sum of edge weights for the current candidate node\n",
        "                weight_sum = sum(weight for u, v2, weight in self.graph.edges if v2 == v)\n",
        "                sums.append(weight_sum)\n",
        "\n",
        "            probs = sums / np.sum(sums)\n",
        "            probs = 1 / probs\n",
        "            probs = np.exp(probs) / np.sum(np.exp(probs), axis=0)\n",
        "\n",
        "            best_node = np.random.choice(candidates, p=probs)\n",
        "\n",
        "            # Add the selected best_node to the pi\n",
        "            self.pi.append(best_node)\n",
        "            candidates.remove(best_node)\n",
        "            # Update in-degrees based on the constraints, and add new candidates\n",
        "            for v_next in self.graph.constraints[best_node]:\n",
        "                self.graph.in_degree[v_next] -= 1\n",
        "                if self.graph.in_degree[v_next] == 0:\n",
        "                    candidates.append(v_next)\n",
        "\n",
        "        return self.pi\n",
        "\n",
        "    def calculate_cost(self):\n",
        "        # Create a dictionary for quick lookup of node positions in the current ordering\n",
        "        position = {node: idx for idx, node in enumerate(self.pi)}\n",
        "        total_cost = 0\n",
        "\n",
        "        # Iterate over all pairs of edges to count crossings\n",
        "        for (u1, v1, w1), (u2, v2, w2) in itertools.combinations(self.graph.edges, 2):\n",
        "            # Check if edges cross based on their positions\n",
        "            if (u1 < u2 and position[v1] > position[v2]) or (u1 > u2 and position[v1] < position[v2]):\n",
        "                # Add the sum of weights for the crossing edges to the total cost\n",
        "                total_cost += w1 + w2\n",
        "\n",
        "        return total_cost"
      ],
      "metadata": {
        "id": "R-jjFW6HCz1F"
      },
      "execution_count": 8,
      "outputs": []
    },
    {
      "cell_type": "code",
      "source": [
        "graph = Graph(5, 5)\n",
        "\n",
        "# Adding edges with weights\n",
        "graph.add_edge(1, 7, 1)\n",
        "graph.add_edge(2, 8, 2)\n",
        "graph.add_edge(3, 9, 1)\n",
        "graph.add_edge(4, 10, 3)\n",
        "graph.add_edge(5, 6, 11)\n",
        "\n",
        "# Adding precedence constraints\n",
        "graph.add_constraint(7, 10)\n",
        "graph.add_constraint(8, 9)\n",
        "\n",
        "\n",
        "solution = RandomizedConstruction(graph)\n",
        "ordering = solution.greedy_construction()\n",
        "\n",
        "\n",
        "print(\"The initial ordering of nodes in V:\", ordering)\n",
        "\n",
        "print(solution.calculate_cost())"
      ],
      "metadata": {
        "colab": {
          "base_uri": "https://localhost:8080/"
        },
        "id": "xXQCWiwWSakB",
        "outputId": "edcfd699-2855-405b-b851-dd21e90af0b6"
      },
      "execution_count": 88,
      "outputs": [
        {
          "output_type": "stream",
          "name": "stdout",
          "text": [
            "The initial ordering of nodes in V: [7, 8, 9, 10, 6]\n",
            "0\n"
          ]
        }
      ]
    },
    {
      "cell_type": "code",
      "source": [
        "graph = load_instance('in.txt')\n",
        "\n",
        "solution = RandomizedConstruction(graph)\n",
        "ordering = solution.greedy_construction()\n",
        "\n",
        "print(\"The initial ordering of nodes in V:\", ordering)\n",
        "\n",
        "print(solution.calculate_cost())\n"
      ],
      "metadata": {
        "colab": {
          "base_uri": "https://localhost:8080/"
        },
        "id": "y_GovumtbtHT",
        "outputId": "79f6be56-908a-4394-d249-3f30c1119477"
      },
      "execution_count": 90,
      "outputs": [
        {
          "output_type": "stream",
          "name": "stdout",
          "text": [
            "The initial ordering of nodes in V: [35, 48, 43, 39, 31, 26, 49, 27, 45, 34, 37, 40, 38, 46, 30, 41, 28, 33, 42, 32, 29, 36, 47, 50, 44]\n",
            "92952.0\n"
          ]
        }
      ]
    },
    {
      "cell_type": "markdown",
      "source": [
        "## 4. Develop or make use of a framework for basic local search which is able to deal with: different neighborhood structures and different step functions (first-improvement, best-improvement, random)\n"
      ],
      "metadata": {
        "id": "PX9_K3ibbqYJ"
      }
    },
    {
      "cell_type": "code",
      "source": [
        "import random\n",
        "class LocalSearch:\n",
        "    def __init__(self, initial_solution, neighborhood_function, step_function, objective_function, max_iter=500):\n",
        "        \"\"\"\n",
        "        Local Search framework.\n",
        "\n",
        "        Args:\n",
        "        - initial_solution: Starting solution for the search\n",
        "        - neighborhood_function: Function to generate neighbor solutions\n",
        "        - step_function: Function to select next step in search\n",
        "        - objective_function: Function to compute the cost of a solution\n",
        "        - max_iter: Maximum number of iterations for the search\n",
        "        \"\"\"\n",
        "        self.current_solution = initial_solution\n",
        "        self.neighborhood_function = neighborhood_function\n",
        "        self.step_function = step_function\n",
        "        self.objective_function = objective_function\n",
        "        self.max_iter = max_iter\n",
        "\n",
        "    def local_search(self):\n",
        "          best_solution = self.current_solution\n",
        "          best_cost = self.objective_function(best_solution)\n",
        "\n",
        "          for i in range(self.max_iter):\n",
        "\n",
        "            neighbors = self.neighborhood_function(self.current_solution)\n",
        "            next_solution = self.step_function(neighbors, self.objective_function)\n",
        "            next_cost = self.objective_function(next_solution)\n",
        "\n",
        "            if next_cost < best_cost:\n",
        "              best_solution = next_solution\n",
        "              best_cost = next_cost\n",
        "              continue\n",
        "\n",
        "\n",
        "            if best_cost == 0:\n",
        "              break\n",
        "\n",
        "            self.current_solution = next_solution\n",
        "\n",
        "\n",
        "          print(\"Required iterations:\", i)\n",
        "          return best_solution, best_cost\n",
        "\n",
        "\n",
        "def best_improvement(neighbors, objective_function):\n",
        "    if not neighbors:\n",
        "      return None\n",
        "\n",
        "    best_neighbor = None\n",
        "    best_cost = float('inf')\n",
        "\n",
        "    for neighbor in neighbors:\n",
        "      cost = objective_function(neighbor)\n",
        "      if cost < best_cost:\n",
        "        best_neighbor = neighbor\n",
        "        best_cost = cost\n",
        "\n",
        "    return best_neighbor\n",
        "\n",
        "\n",
        "def first_improvement(neighbors, objective_function):\n",
        "    for neighbor in neighbors:\n",
        "      if objective_function(neighbor) < objective_function(neighbors[0]):\n",
        "        return neighbor\n",
        "    return neighbors[0]\n",
        "\n",
        "\n",
        "def random_neighbor(neighbors, objective_function):\n",
        "  return random.choice(neighbors)\n",
        "\n",
        "\n",
        "def cost_function(graph, permutation): # same function as above\n",
        "    if permutation is None:\n",
        "        return float('inf')\n",
        "    # Create a dictionary for quick lookup of node positions in the current ordering\n",
        "    position = {node: idx for idx, node in enumerate(permutation)}\n",
        "    total_cost = 0\n",
        "    # Iterate over all pairs of edges to count crossings\n",
        "    for (u1, v1, w1), (u2, v2, w2) in itertools.combinations(graph.edges, 2):\n",
        "        # Check if edges cross based on their positions\n",
        "        if (u1 < u2 and position[v1] > position[v2]) or (u1 > u2 and position[v1] < position[v2]):\n",
        "            # Add the sum of weights for the crossing edges to the total cost\n",
        "            total_cost += w1 + w2\n",
        "\n",
        "    return total_cost"
      ],
      "metadata": {
        "id": "5sHPAdYSdpb_"
      },
      "execution_count": 93,
      "outputs": []
    },
    {
      "cell_type": "markdown",
      "source": [
        "## 5. Develop at least three different meaningful neighborhood structures"
      ],
      "metadata": {
        "id": "2u6dPFpVcXNT"
      }
    },
    {
      "cell_type": "code",
      "source": [
        "def is_valid_operator(solution, constraints):\n",
        "    position = {node: idx for idx, node in enumerate(solution)}\n",
        "    for first, second in constraints:\n",
        "      if position[second] < position[first]:\n",
        "        return False\n",
        "    return True"
      ],
      "metadata": {
        "id": "CtiUDOYCv79c"
      },
      "execution_count": 70,
      "outputs": []
    },
    {
      "cell_type": "markdown",
      "source": [
        "### 1. Swap operator"
      ],
      "metadata": {
        "id": "HFiC3bFHjsV4"
      }
    },
    {
      "cell_type": "code",
      "source": [
        "def swap_neighborhood(solution, constraints):\n",
        "    if solution is None:\n",
        "        return []\n",
        "\n",
        "    neighbors = []\n",
        "\n",
        "    for i in range(len(solution) - 1):\n",
        "      v1, v2 = solution[i], solution[i + 1]\n",
        "      neighbor = solution.copy()\n",
        "      neighbor[i], neighbor[i + 1] = neighbor[i + 1], neighbor[i]\n",
        "      if is_valid_operator(neighbor, constraints) and neighbor not in neighbors:\n",
        "        neighbors.append(neighbor)\n",
        "\n",
        "    return neighbors"
      ],
      "metadata": {
        "id": "-bEsNzzRce_d"
      },
      "execution_count": 71,
      "outputs": []
    },
    {
      "cell_type": "code",
      "source": [
        "#initial_solution = np.random.permutation(graph.V)\n",
        "#initial_solution = ordering\n",
        "initial_solution = [6, 8, 9, 7, 10]\n",
        "\n",
        "print(\"The initial ordering of nodes in V:\", initial_solution)\n",
        "print(cost_function(graph, initial_solution))\n",
        "\n",
        "constraints = [(key, item[0]) for key, item in graph.constraints.items() if len(item)>0]\n",
        "\n",
        "neighborhood_function = lambda sol: swap_neighborhood(sol, constraints)\n",
        "objective_function = lambda sol: cost_function(graph, sol)\n",
        "\n",
        "# Step functions\n",
        "for step_fun in [best_improvement, first_improvement, random_neighbor]:\n",
        "    print(\"----\")\n",
        "    local_search = LocalSearch(initial_solution, neighborhood_function, step_fun, objective_function)\n",
        "    best_solution, best_cost = local_search.local_search()\n",
        "\n",
        "    print(step_fun.__name__)\n",
        "    print(\"Improvement:\", best_solution)\n",
        "    print(best_cost)"
      ],
      "metadata": {
        "colab": {
          "base_uri": "https://localhost:8080/"
        },
        "id": "H7AFAnnsk492",
        "outputId": "fee3edeb-4d4c-42be-f00c-0b1782962bfc"
      },
      "execution_count": 72,
      "outputs": [
        {
          "output_type": "stream",
          "name": "stdout",
          "text": [
            "The initial ordering of nodes in V: [6, 8, 9, 7, 10]\n",
            "56\n",
            "----\n",
            "Required iterations: 11\n",
            "best_improvement\n",
            "Improvement: [7, 8, 9, 10, 6]\n",
            "0\n",
            "----\n",
            "Required iterations: 11\n",
            "first_improvement\n",
            "Improvement: [7, 8, 9, 10, 6]\n",
            "0\n",
            "----\n",
            "Required iterations: 22\n",
            "random_neighbor\n",
            "Improvement: [7, 8, 9, 10, 6]\n",
            "0\n"
          ]
        }
      ]
    },
    {
      "cell_type": "markdown",
      "source": [
        "### 2. Insert operator"
      ],
      "metadata": {
        "id": "oYeRaVKLjwFW"
      }
    },
    {
      "cell_type": "code",
      "source": [
        "def insert_neighborhood(solution, constraints):\n",
        "   if solution is None:\n",
        "        return []\n",
        "\n",
        "   neighbors = []\n",
        "   solution = list(solution)\n",
        "\n",
        "   for i in range(len(solution)):\n",
        "      for j in range(len(solution)):\n",
        "        if i != j:\n",
        "          neighbor = solution.copy()\n",
        "          neighbor.insert(j, neighbor.pop(i))\n",
        "          if is_valid_operator(neighbor, constraints) and neighbor not in neighbors:\n",
        "            neighbors.append(neighbor)\n",
        "\n",
        "   return neighbors"
      ],
      "metadata": {
        "id": "LpTjl53Xm2UT"
      },
      "execution_count": 73,
      "outputs": []
    },
    {
      "cell_type": "code",
      "source": [
        "initial_solution = ordering\n",
        "#initial_solution = np.random.permutation(graph.V)\n",
        "initial_solution = [6, 8, 7, 10, 9]\n",
        "print(\"The initial ordering of nodes in V:\", initial_solution)\n",
        "print(cost_function(graph, initial_solution))\n",
        "\n",
        "neighborhood_function = lambda sol: insert_neighborhood(sol, constraints)\n",
        "objective_function = lambda sol: cost_function(graph, sol)\n",
        "\n",
        "# Improvement step function\n",
        "for step_fun in [best_improvement, first_improvement, random_neighbor]:\n",
        "    print(\"----\")\n",
        "    local_search = LocalSearch(initial_solution, neighborhood_function, step_fun, objective_function)\n",
        "    best_solution, best_cost = local_search.local_search()\n",
        "\n",
        "    print(step_fun.__name__)\n",
        "    print(\"Improvement:\", best_solution)\n",
        "    print(best_cost)"
      ],
      "metadata": {
        "colab": {
          "base_uri": "https://localhost:8080/"
        },
        "id": "YZ_14IPCWZdZ",
        "outputId": "b7168009-f71c-4513-c553-919446d10a84"
      },
      "execution_count": 74,
      "outputs": [
        {
          "output_type": "stream",
          "name": "stdout",
          "text": [
            "The initial ordering of nodes in V: [6, 8, 7, 10, 9]\n",
            "58\n",
            "----\n",
            "Required iterations: 5\n",
            "best_improvement\n",
            "Improvement: [7, 8, 9, 10, 6]\n",
            "0\n",
            "----\n",
            "Required iterations: 9\n",
            "first_improvement\n",
            "Improvement: [7, 8, 9, 10, 6]\n",
            "0\n",
            "----\n",
            "Required iterations: 8\n",
            "random_neighbor\n",
            "Improvement: [7, 8, 9, 10, 6]\n",
            "0\n"
          ]
        }
      ]
    },
    {
      "cell_type": "markdown",
      "source": [
        "### 3. two-opt operator"
      ],
      "metadata": {
        "id": "f4Y7peojkZoC"
      }
    },
    {
      "cell_type": "code",
      "source": [
        "def two_opt_neighborhood(solution, constraints):\n",
        "  if solution is None:\n",
        "        return []\n",
        "\n",
        "  neighbors = []\n",
        "\n",
        "  for i in range(len(solution)):\n",
        "    for j in range(i + 1, len(solution)):\n",
        "      neighbor = solution.copy()\n",
        "      neighbor[i: j+1] = list(reversed(neighbor[i:j+1]))\n",
        "      if is_valid_operator(neighbor, constraints) and neighbor not in neighbors:\n",
        "        neighbors.append(neighbor)\n",
        "  return neighbors"
      ],
      "metadata": {
        "id": "txMaDK6IWqy9"
      },
      "execution_count": 75,
      "outputs": []
    },
    {
      "cell_type": "code",
      "source": [
        "initial_solution = ordering\n",
        "initial_solution = [6, 8, 7, 10, 9]\n",
        "\n",
        "print(\"The initial ordering of nodes in V:\", initial_solution)\n",
        "print(cost_function(graph, initial_solution))\n",
        "\n",
        "neighborhood_function = lambda sol: two_opt_neighborhood(sol, constraints)\n",
        "objective_function = lambda sol: cost_function(graph, sol)\n",
        "\n",
        "for step_fun in [best_improvement, first_improvement, random_neighbor]:\n",
        "    print(\"----\")\n",
        "    local_search = LocalSearch(initial_solution, neighborhood_function, step_fun, objective_function)\n",
        "    best_solution, best_cost = local_search.local_search()\n",
        "\n",
        "    print(step_fun.__name__)\n",
        "    print(\"Improvement:\", best_solution)\n",
        "    print(best_cost)"
      ],
      "metadata": {
        "colab": {
          "base_uri": "https://localhost:8080/"
        },
        "id": "a0WSacPNfmty",
        "outputId": "61354358-28fe-4571-bbee-092bb8bd40a0"
      },
      "execution_count": 77,
      "outputs": [
        {
          "output_type": "stream",
          "name": "stdout",
          "text": [
            "The initial ordering of nodes in V: [6, 8, 7, 10, 9]\n",
            "58\n",
            "----\n",
            "Required iterations: 3\n",
            "best_improvement\n",
            "Improvement: [7, 8, 9, 10, 6]\n",
            "0\n",
            "----\n",
            "Required iterations: 499\n",
            "first_improvement\n",
            "Improvement: [7, 8, 9, 6, 10]\n",
            "14\n",
            "----\n",
            "Required iterations: 4\n",
            "random_neighbor\n",
            "Improvement: [7, 8, 9, 10, 6]\n",
            "0\n"
          ]
        }
      ]
    },
    {
      "cell_type": "markdown",
      "source": [
        "## 6. Develop or make use of a Variable Neighborhood Descent (VND) framework which uses your neighborhood structures."
      ],
      "metadata": {
        "id": "Dlp2bDuPjqjM"
      }
    },
    {
      "cell_type": "code",
      "source": [
        "class VND:\n",
        "    def __init__(self, initial_solution, neighborhood_structures, constraints, objective_function, step_function, max_iter=500):\n",
        "        \"\"\"\n",
        "        Variable Neighborhood Descent framework.\n",
        "\n",
        "        Args:\n",
        "        - initial_solution: Starting solution for the search\n",
        "        - neighborhood_structures: List of neighborhood functions to use\n",
        "        - objective_function: Function to compute the cost of a solution\n",
        "        - max_iter: Maximum number of iterations for the search\n",
        "        \"\"\"\n",
        "        self.current_solution = initial_solution\n",
        "        self.neighborhood_structures = neighborhood_structures\n",
        "        self.objective_function = objective_function\n",
        "        self.step_function = step_function\n",
        "        self.max_iter = max_iter\n",
        "\n",
        "\n",
        "    def vnd(self):\n",
        "        best_solution = self.current_solution\n",
        "        best_cost = self.objective_function(best_solution)\n",
        "        l = 0\n",
        "\n",
        "        for i in range(self.max_iter):\n",
        "\n",
        "            # select neighborhood structure l\n",
        "            neighborhood_function = self.neighborhood_structures[l]\n",
        "\n",
        "\n",
        "            neighbors = neighborhood_function(self.current_solution, constraints)\n",
        "            next_solution = self.step_function(neighbors, self.objective_function) # find local optimum in neighborhood\n",
        "\n",
        "            if next_solution is not None:\n",
        "                next_cost = self.objective_function(next_solution)\n",
        "\n",
        "                if next_cost < best_cost:\n",
        "                    self.current_solution = best_solution\n",
        "                    best_solution = next_solution\n",
        "                    best_cost = next_cost\n",
        "                    l = 0\n",
        "                    continue\n",
        "                else:\n",
        "                    l += 1\n",
        "\n",
        "            if l >= len(self.neighborhood_structures):\n",
        "                break\n",
        "\n",
        "            if best_cost == 0:\n",
        "                break\n",
        "\n",
        "        print(\"Required iterations:\", i + 1)\n",
        "        return best_solution, best_cost"
      ],
      "metadata": {
        "id": "YAb2X5ek08Z8"
      },
      "execution_count": 97,
      "outputs": []
    },
    {
      "cell_type": "code",
      "source": [
        "neighborhood_structures = [swap_neighborhood, insert_neighborhood, two_opt_neighborhood]\n",
        "\n",
        "#initial_solution = [6, 7, 8, 9, 10]\n",
        "initial_solution = ordering\n",
        "constraints = [(key, item[0]) for key, item in graph.constraints.items() if len(item)>0]\n",
        "\n",
        "print(\"The initial ordering of nodes in V:\", initial_solution)\n",
        "print(cost_function(graph, initial_solution))\n",
        "\n",
        "objective_function = lambda sol: cost_function(graph, sol)\n",
        "\n",
        "variable_neigh_descent = VND(initial_solution, neighborhood_structures, constraints, objective_function, best_improvement)\n",
        "\n",
        "best_solution, best_cost = variable_neigh_descent.vnd()\n",
        "\n",
        "print(\"Improvement:\", best_solution)\n",
        "print(best_cost)"
      ],
      "metadata": {
        "colab": {
          "base_uri": "https://localhost:8080/"
        },
        "id": "rBHs6fLwY6Ke",
        "outputId": "b389316e-b526-4664-946f-cfded519d41f"
      },
      "execution_count": 98,
      "outputs": [
        {
          "output_type": "stream",
          "name": "stdout",
          "text": [
            "The initial ordering of nodes in V: [35, 48, 43, 39, 31, 26, 49, 27, 45, 34, 37, 40, 38, 46, 30, 41, 28, 33, 42, 32, 29, 36, 47, 50, 44]\n",
            "92952.0\n",
            "Required iterations: 75\n",
            "Improvement: [35, 33, 31, 38, 40, 41, 37, 44, 45, 49, 28, 29, 46, 47, 32, 50, 42, 39, 48, 26, 30, 27, 43, 34, 36]\n",
            "80249.0\n"
          ]
        }
      ]
    },
    {
      "cell_type": "markdown",
      "source": [
        "## 7. Implement a Greedy Randomized Adaptive Search Procedure (GRASP) using your randomized construction heuristic and an effective neighborhood structure with one step function or (a variant of) your VND. Note that the union of existing neighborhood structures also constitutes a (composite) neighborhood structure."
      ],
      "metadata": {
        "id": "8bOcMM-p1ebF"
      }
    },
    {
      "cell_type": "code",
      "source": [],
      "metadata": {
        "id": "AxXcSsNh1fgZ"
      },
      "execution_count": null,
      "outputs": []
    }
  ]
}