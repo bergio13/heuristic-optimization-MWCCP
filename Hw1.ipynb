{
  "nbformat": 4,
  "nbformat_minor": 0,
  "metadata": {
    "colab": {
      "provenance": [],
      "toc_visible": true
    },
    "kernelspec": {
      "name": "python3",
      "display_name": "Python 3"
    },
    "language_info": {
      "name": "python"
    }
  },
  "cells": [
    {
      "cell_type": "markdown",
      "source": [
        "# Assignment 1"
      ],
      "metadata": {
        "id": "YPCFE6LRt_jH"
      }
    },
    {
      "cell_type": "markdown",
      "source": [
        "## Question 1: Think about a meaningful real-world application for this problem and briefly describe it"
      ],
      "metadata": {
        "id": "zNprH_7QuHmK"
      }
    },
    {
      "cell_type": "markdown",
      "source": [
        "Application: Railway Scheduling and Track Layout\n",
        "\n",
        "- Nodes in $U$ could represent fixed train stations along a route, where trains must stop in a specific order\n",
        "- Nodes in $V$ could reoresent trains/train routes to be scheduled within the network\n",
        "- Weighetd edges would inidcate the relationship between trains/train routes and tracks, with higher weights representing either higher traffic, longer distance, lower importance in terms of scheduling (in case of for exaple local vs. high speed train)\n",
        "- constraints in C would enforce rules like the fact that certain trains need to arrive before others or that trains using the same tracks do not overlap.\n",
        "\n",
        "The objective then would be to arrange the schedules in V to minimize the crossings of tracks while satisfying all contraints in C. This would lead to improved security and efficiency as minimzing track crossings would reduce the likelihood of collisions or delaysdue to track conflicts."
      ],
      "metadata": {
        "id": "y05g-15WuJdS"
      }
    },
    {
      "cell_type": "markdown",
      "source": [
        "## Question 2: Develop a meaningful deterministic construction heuristic"
      ],
      "metadata": {
        "id": "haIPhlNMxcDC"
      }
    },
    {
      "cell_type": "markdown",
      "source": [
        "A meaningful determinitic contruction heuristic could be one based on a greedy approach:\n",
        "- Inititalize an empty ordered permuation list $\\pi$ for nodes in $V$\n",
        "- Compute for each node in $V$ the number of constraints that require other nodes to come before it\n",
        "- Create a list of candidates with nodes in $V$ that have no predecessors\n",
        "\n",
        "- For every node in the candidates and until $V$ is empty\n",
        "  - calculate the total weight of edges connecting it to U\n",
        "  - select the node with the lowest total edge weight to nodes in $U$ and append it to the final permutation list $\\pi$\n",
        "\n",
        "  - update the in-degree of nodes that had this as a constraint reducing it by 1\n",
        "\n",
        "  - if the in-degree of any node in V reaches zero add it to the candidates\n",
        "\n",
        "\n"
      ],
      "metadata": {
        "id": "3q5jgD-lxlrS"
      }
    },
    {
      "cell_type": "markdown",
      "source": [
        "## Question 3: Derive a randomized construction heuristic to be applied iteratively"
      ],
      "metadata": {
        "id": "aVHUvfAJ1TlQ"
      }
    },
    {
      "cell_type": "markdown",
      "source": [
        "The randomized heuristic could follow the same process as the deterministic one, but then, when choosing the node in $V$ to add to the final permutation list $\\pi$, instead of always choosing the one that has a minimum weighted sum of edges to $U$, pick one randomly, with a probability inversely propotional to this sum."
      ],
      "metadata": {
        "id": "bCxvEQw11gHx"
      }
    },
    {
      "cell_type": "code",
      "source": [
        "def load_instance(filename):\n",
        "    with open(filename, 'r') as file:\n",
        "        U_size, V_size, C_size, E_size = map(int, file.readline().split())\n",
        "        graph = Graph(U_size, V_size)\n",
        "\n",
        "        # Read constraints section\n",
        "        line = file.readline().strip()\n",
        "        while line != \"#constraints\":\n",
        "            line = file.readline().strip()\n",
        "\n",
        "        for _ in range(C_size):\n",
        "            v, v_prime = map(int, file.readline().split())\n",
        "            graph.add_constraint(v, v_prime)\n",
        "\n",
        "        # Read edges section\n",
        "        line = file.readline().strip()\n",
        "        while line != \"#edges\":\n",
        "            line = file.readline().strip()\n",
        "\n",
        "        for _ in range(E_size):\n",
        "            u, v, weight = file.readline().split()\n",
        "            graph.add_edge(int(u), int(v), float(weight))\n",
        "\n",
        "    return graph"
      ],
      "metadata": {
        "id": "kpxCV7hay0Me"
      },
      "execution_count": null,
      "outputs": []
    },
    {
      "cell_type": "markdown",
      "source": [
        "### Construction"
      ],
      "metadata": {
        "id": "j1Sg9Yd1QqLf"
      }
    },
    {
      "cell_type": "code",
      "source": [
        "from collections import defaultdict, deque\n",
        "import itertools\n",
        "\n",
        "class Graph:\n",
        "    def __init__(self, U_size, V_size):\n",
        "        self.U = list(range(1, U_size + 1))  # Nodes in set U\n",
        "        self.V = list(range(U_size + 1, U_size + V_size + 1))  # Nodes in fixed layer U\n",
        "        self.edges = []  # List of edges (u, v, weight)\n",
        "        self.constraints = defaultdict(list)  # Constraints as adjacency list for V\n",
        "        self.in_degree = {v: 0 for v in self.V}   # Dictionary to store in-degree of nodes in V\n",
        "\n",
        "    def add_node_U(self, node):\n",
        "        self.U.append(node)\n",
        "\n",
        "    def add_node_V(self, node):\n",
        "        self.V.append(node)\n",
        "        self.in_degree[node] = 0  # Initialize in-degree for nodes in V\n",
        "\n",
        "    def add_edge(self, u, v, weight):\n",
        "        self.edges.append((u, v, weight))\n",
        "\n",
        "    def add_constraint(self, v1, v2):\n",
        "        self.constraints[v1].append(v2)\n",
        "        self.in_degree[v2] += 1  # Update in-degree due to precedence constraint\n",
        "\n",
        "class MWCCPSolution:\n",
        "    def __init__(self, graph):\n",
        "        self.graph = graph\n",
        "        self.pi = []  # This will store the final order of nodes in V\n",
        "\n",
        "    def greedy_construction(self):\n",
        "        # Initialize candidates with in-degree 0 nodes\n",
        "        candidates = deque([v for v in self.graph.V if self.graph.in_degree[v] == 0])\n",
        "\n",
        "        while candidates:\n",
        "            # Select node with lowest edge weight to nodes in U\n",
        "            best_node = None\n",
        "            best_weight_sum = float('inf')  # Minimize total weight\n",
        "\n",
        "            for v in candidates:\n",
        "                # Calculate the sum of edge weights for the current candidate node\n",
        "                weight_sum = sum(weight for u, v2, weight in self.graph.edges if v2 == v)\n",
        "                if weight_sum < best_weight_sum:\n",
        "                    best_weight_sum = weight_sum\n",
        "                    best_node = v\n",
        "\n",
        "            # Add the selected best_node to the pi\n",
        "            self.pi.append(best_node)\n",
        "            candidates.remove(best_node)\n",
        "\n",
        "            # Update in-degrees based on the constraints, and add new candidates\n",
        "            for v_next in self.graph.constraints[best_node]:\n",
        "                self.graph.in_degree[v_next] -= 1\n",
        "                if self.graph.in_degree[v_next] == 0:\n",
        "                    candidates.append(v_next)\n",
        "\n",
        "        return self.pi\n",
        "\n",
        "    def calculate_cost(self):\n",
        "        # Create a dictionary for quick lookup of node positions in the current ordering\n",
        "        position = {node: idx for idx, node in enumerate(self.pi)}\n",
        "        total_cost = 0\n",
        "\n",
        "        # Iterate over all pairs of edges to count crossings\n",
        "        for (u1, v1, w1), (u2, v2, w2) in itertools.combinations(self.graph.edges, 2):\n",
        "            # Check if edges cross based on their positions\n",
        "            if (u1 < u2 and position[v1] > position[v2]) or (u1 > u2 and position[v1] < position[v2]):\n",
        "                # Add the sum of weights for the crossing edges to the total cost\n",
        "                total_cost += w1 + w2\n",
        "\n",
        "        return total_cost"
      ],
      "metadata": {
        "id": "R-jjFW6HCz1F"
      },
      "execution_count": null,
      "outputs": []
    },
    {
      "cell_type": "markdown",
      "source": [
        "### Tests"
      ],
      "metadata": {
        "id": "D1Te5M5NMvRg"
      }
    },
    {
      "cell_type": "code",
      "source": [
        "# Example usage with a small problem instance\n",
        "graph = Graph(5, 5)\n",
        "\n",
        "# Adding edges with weights\n",
        "graph.add_edge(1, 7, 1)\n",
        "graph.add_edge(2, 8, 2)\n",
        "graph.add_edge(3, 9, 1)\n",
        "graph.add_edge(4, 10, 3)\n",
        "graph.add_edge(5, 6, 11)\n",
        "\n",
        "# Adding precedence constraints\n",
        "graph.add_constraint(7, 10)\n",
        "graph.add_constraint(8, 9)\n",
        "\n",
        "# Create an MWCCP solution instance and use the greedy heuristic\n",
        "solution = MWCCPSolution(graph)\n",
        "ordering = solution.greedy_construction()\n",
        "\n",
        "\n",
        "print(\"The initial ordering of nodes in V:\", ordering)\n",
        "\n",
        "print(solution.calculate_cost())"
      ],
      "metadata": {
        "colab": {
          "base_uri": "https://localhost:8080/"
        },
        "id": "JsCzSZm0Hd0x",
        "outputId": "7f293a46-110a-4950-9836-af9ac0e84302"
      },
      "execution_count": null,
      "outputs": [
        {
          "output_type": "stream",
          "name": "stdout",
          "text": [
            "The initial ordering of nodes in V: [7, 8, 9, 10, 6]\n",
            "0\n"
          ]
        }
      ]
    },
    {
      "cell_type": "code",
      "source": [
        "graph = load_instance('in.txt')\n",
        "\n",
        "solution = MWCCPSolution(graph)\n",
        "ordering = solution.greedy_construction()\n",
        "\n",
        "print(\"The initial ordering of nodes in V:\", ordering)\n",
        "\n",
        "print(solution.calculate_cost())\n"
      ],
      "metadata": {
        "colab": {
          "base_uri": "https://localhost:8080/"
        },
        "id": "bHR4_y2fF22F",
        "outputId": "915e9689-86d6-4f9d-bd23-e747f5744335"
      },
      "execution_count": null,
      "outputs": [
        {
          "output_type": "stream",
          "name": "stdout",
          "text": [
            "The initial ordering of nodes in V: [35, 43, 39, 48, 27, 49, 26, 31, 30, 34, 37, 38, 45, 46, 28, 40, 33, 41, 32, 42, 36, 47, 50, 29, 44]\n",
            "94914.0\n"
          ]
        }
      ]
    },
    {
      "cell_type": "code",
      "source": [],
      "metadata": {
        "id": "Bw-dT1wiSXji"
      },
      "execution_count": null,
      "outputs": []
    }
  ]
}