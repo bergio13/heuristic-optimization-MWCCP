{
 "cells": [
  {
   "cell_type": "markdown",
   "metadata": {
    "id": "YPCFE6LRt_jH"
   },
   "source": [
    "# Assignment 1"
   ]
  },
  {
   "cell_type": "code",
   "execution_count": 6,
   "metadata": {
    "ExecuteTime": {
     "end_time": "2024-11-03T19:09:01.410069Z",
     "start_time": "2024-11-03T19:09:01.279984Z"
    },
    "id": "ZIWVKN2FRQ5_"
   },
   "outputs": [],
   "source": [
    "from collections import defaultdict, deque\n",
    "import itertools\n",
    "import numpy as np\n",
    "\n",
    "import time"
   ]
  },
  {
   "cell_type": "code",
   "execution_count": 7,
   "metadata": {
    "ExecuteTime": {
     "end_time": "2024-11-03T19:09:01.569318Z",
     "start_time": "2024-11-03T19:09:01.566261Z"
    },
    "id": "10mG3jXtbM_C"
   },
   "outputs": [],
   "source": [
    "class Graph:\n",
    "    def __init__(self, U_size, V_size):\n",
    "        self.U = list(range(1, U_size + 1))  # Nodes in set U\n",
    "        self.V = list(range(U_size + 1, U_size + V_size + 1))  # Nodes in fixed layer U\n",
    "        self.edges = []  # List of edges (u, v, weight)\n",
    "        self.constraints = defaultdict(list)  # Constraints as adjacency list for V\n",
    "        self.in_degree = {v: 0 for v in self.V}  # Dictionary to store in-degree of nodes in V\n",
    "\n",
    "    def add_node_U(self, node):\n",
    "        self.U.append(node)\n",
    "\n",
    "    def add_node_V(self, node):\n",
    "        self.V.append(node)\n",
    "        self.in_degree[node] = 0  # Initialize in-degree for nodes in V\n",
    "\n",
    "    def add_edge(self, u, v, weight):\n",
    "        self.edges.append((u, v, weight))\n",
    "\n",
    "    def add_constraint(self, v1, v2):\n",
    "        self.constraints[v1].append(v2)\n",
    "        self.in_degree[v2] += 1  # Update in-degree due to precedence constraint"
   ]
  },
  {
   "cell_type": "code",
   "execution_count": 8,
   "metadata": {
    "ExecuteTime": {
     "end_time": "2024-11-03T19:09:01.581281Z",
     "start_time": "2024-11-03T19:09:01.578544Z"
    },
    "id": "kpxCV7hay0Me"
   },
   "outputs": [],
   "source": [
    "def load_instance(filename):\n",
    "    with open(filename, 'r') as file:\n",
    "        U_size, V_size, C_size, E_size = map(int, file.readline().split())\n",
    "        graph = Graph(U_size, V_size)\n",
    "\n",
    "        # Read constraints section\n",
    "        line = file.readline().strip()\n",
    "        while line != \"#constraints\":\n",
    "            line = file.readline().strip()\n",
    "\n",
    "        for _ in range(C_size):\n",
    "            v, v_prime = map(int, file.readline().split())\n",
    "            graph.add_constraint(v, v_prime)\n",
    "\n",
    "        # Read edges section\n",
    "        line = file.readline().strip()\n",
    "        while line != \"#edges\":\n",
    "            line = file.readline().strip()\n",
    "\n",
    "        for _ in range(E_size):\n",
    "            u, v, weight = file.readline().split()\n",
    "            graph.add_edge(int(u), int(v), float(weight))\n",
    "\n",
    "    return graph"
   ]
  },
  {
   "cell_type": "code",
   "execution_count": 9,
   "metadata": {
    "ExecuteTime": {
     "end_time": "2024-11-03T19:09:01.604062Z",
     "start_time": "2024-11-03T19:09:01.601767Z"
    },
    "id": "Bw-dT1wiSXji"
   },
   "outputs": [],
   "source": [
    "def cost_function(graph, permutation):\n",
    "    # Create a dictionary for quick lookup of node positions in the current ordering\n",
    "    position = {node: idx for idx, node in enumerate(permutation)}\n",
    "    total_cost = 0\n",
    "    # Iterate over all pairs of edges to count crossings\n",
    "    for (u1, v1, w1), (u2, v2, w2) in itertools.combinations(graph.edges, 2):\n",
    "        # Check if edges cross based on their positions\n",
    "        if (u1 < u2 and position[v1] > position[v2]) or (u1 > u2 and position[v1] < position[v2]):\n",
    "            # Add the sum of weights for the crossing edges to the total cost\n",
    "            total_cost += w1 + w2\n",
    "\n",
    "    return total_cost"
   ]
  },
  {
   "cell_type": "markdown",
   "metadata": {
    "id": "zNprH_7QuHmK"
   },
   "source": [
    "## Question 1: Think about a meaningful real-world application for this problem and briefly describe it"
   ]
  },
  {
   "cell_type": "markdown",
   "metadata": {
    "id": "y05g-15WuJdS"
   },
   "source": [
    "Application: Railway Scheduling and Track Layout\n",
    "\n",
    "- Nodes in $U$ could represent fixed train stations along a route, where trains must stop in a specific order\n",
    "- Nodes in $V$ could reoresent trains/train routes to be scheduled within the network\n",
    "- Weighetd edges would inidcate the relationship between trains/train routes and tracks, with higher weights representing either higher traffic, longer distance, lower importance in terms of scheduling (in case of for exaple local vs. high speed train)\n",
    "- constraints in C would enforce rules like the fact that certain trains need to arrive before others or that trains using the same tracks do not overlap.\n",
    "\n",
    "The objective then would be to arrange the schedules in V to minimize the crossings of tracks while satisfying all contraints in C. This would lead to improved security and efficiency as minimzing track crossings would reduce the likelihood of collisions or delaysdue to track conflicts."
   ]
  },
  {
   "cell_type": "markdown",
   "metadata": {
    "id": "haIPhlNMxcDC"
   },
   "source": [
    "## Question 2: Develop a meaningful deterministic construction heuristic"
   ]
  },
  {
   "cell_type": "markdown",
   "metadata": {
    "id": "3q5jgD-lxlrS"
   },
   "source": [
    "A meaningful determinitic contruction heuristic could be one based on a greedy approach:\n",
    "- Inititalize an empty ordered permuation list $\\pi$ for nodes in $V$\n",
    "- Compute for each node in $V$ the number of constraints that require other nodes to come before it\n",
    "- Create a list of candidates with nodes in $V$ that have no predecessors\n",
    "\n",
    "- For every node in the candidates and until $V$ is empty\n",
    "  - calculate the total weight of edges connecting it to U\n",
    "  - select the node with the lowest total edge weight to nodes in $U$ and append it to the final permutation list $\\pi$\n",
    "\n",
    "  - update the in-degree of nodes that had this as a constraint reducing it by 1\n",
    "\n",
    "  - if the in-degree of any node in V reaches zero add it to the candidates\n",
    "\n",
    "\n"
   ]
  },
  {
   "cell_type": "code",
   "execution_count": 10,
   "metadata": {
    "ExecuteTime": {
     "end_time": "2024-11-03T19:09:01.614698Z",
     "start_time": "2024-11-03T19:09:01.611491Z"
    },
    "id": "P-wY_tX7bV_b"
   },
   "outputs": [],
   "source": [
    "class DeterministicConstruction:\n",
    "    def __init__(self, graph):\n",
    "        self.graph = graph\n",
    "        self.pi = []  # store the final order of nodes in V\n",
    "\n",
    "    def greedy_construction(self):\n",
    "        # Initialize candidates with in-degree 0 nodes\n",
    "        candidates = deque([v for v in self.graph.V if self.graph.in_degree[v] == 0])\n",
    "\n",
    "        while candidates:\n",
    "            # Select node with lowest edge weight to nodes in U\n",
    "            best_node = None\n",
    "            best_weight_sum = float('inf')  # Minimize total weight\n",
    "\n",
    "            for v in candidates:\n",
    "                # Calculate the sum of edge weights for the current candidate node\n",
    "                weight_sum = sum(weight for u, v2, weight in self.graph.edges if v2 == v)\n",
    "                if weight_sum < best_weight_sum:\n",
    "                    best_weight_sum = weight_sum\n",
    "                    best_node = v\n",
    "\n",
    "            # Add the selected best_node to the pi\n",
    "            self.pi.append(best_node)\n",
    "            candidates.remove(best_node)\n",
    "\n",
    "            # Update in-degrees based on the constraints, and add new candidates\n",
    "            for v_next in self.graph.constraints[best_node]:\n",
    "                self.graph.in_degree[v_next] -= 1\n",
    "                if self.graph.in_degree[v_next] == 0:\n",
    "                    candidates.append(v_next)\n",
    "\n",
    "        return self.pi\n",
    "\n",
    "    def calculate_cost(self):\n",
    "        # Create a dictionary for quick lookup of node positions in the current ordering\n",
    "        position = {node: idx for idx, node in enumerate(self.pi)}\n",
    "        total_cost = 0\n",
    "\n",
    "        # Iterate over all pairs of edges to count crossings\n",
    "        for (u1, v1, w1), (u2, v2, w2) in itertools.combinations(self.graph.edges, 2):\n",
    "            # Check if edges cross based on their positions\n",
    "            if (u1 < u2 and position[v1] > position[v2]) or (u1 > u2 and position[v1] < position[v2]):\n",
    "                # Add the sum of weights for the crossing edges to the total cost\n",
    "                total_cost += w1 + w2\n",
    "\n",
    "        return total_cost\n"
   ]
  },
  {
   "cell_type": "code",
   "execution_count": 11,
   "metadata": {
    "ExecuteTime": {
     "end_time": "2024-11-03T19:09:01.621451Z",
     "start_time": "2024-11-03T19:09:01.619338Z"
    },
    "colab": {
     "base_uri": "https://localhost:8080/"
    },
    "id": "JsCzSZm0Hd0x",
    "outputId": "8fbfc85a-aa9c-4612-8c7d-be91a070c19e"
   },
   "outputs": [
    {
     "name": "stdout",
     "output_type": "stream",
     "text": [
      "The initial ordering of nodes in V: [7, 8, 9, 10, 6]\n",
      "0\n"
     ]
    }
   ],
   "source": [
    "# Example usage with a small problem instance\n",
    "graph = Graph(5, 5)\n",
    "\n",
    "# Adding edges with weights\n",
    "graph.add_edge(1, 7, 1)\n",
    "graph.add_edge(2, 8, 2)\n",
    "graph.add_edge(3, 9, 1)\n",
    "graph.add_edge(4, 10, 3)\n",
    "graph.add_edge(5, 6, 11)\n",
    "\n",
    "# Adding precedence constraints\n",
    "graph.add_constraint(7, 10)\n",
    "graph.add_constraint(8, 9)\n",
    "\n",
    "# Create an MWCCP solution instance and use the greedy heuristic\n",
    "solution = DeterministicConstruction(graph)\n",
    "ordering = solution.greedy_construction()\n",
    "\n",
    "print(\"The initial ordering of nodes in V:\", ordering)\n",
    "\n",
    "print(solution.calculate_cost())"
   ]
  },
  {
   "cell_type": "code",
   "execution_count": 12,
   "metadata": {
    "ExecuteTime": {
     "end_time": "2024-11-03T19:09:01.625940Z",
     "start_time": "2024-11-03T19:09:01.623104Z"
    },
    "colab": {
     "base_uri": "https://localhost:8080/"
    },
    "id": "9zXnqT2xRHdp",
    "outputId": "fb3ddf2d-0711-44b9-8718-82c7f68ed01a"
   },
   "outputs": [
    {
     "name": "stdout",
     "output_type": "stream",
     "text": [
      "[ 9 10  7  8  6]\n",
      "14\n",
      "0\n"
     ]
    }
   ],
   "source": [
    "permutation = np.random.permutation(graph.V)\n",
    "print(permutation)\n",
    "\n",
    "obj_cost = cost_function(graph, permutation)\n",
    "print(obj_cost)\n",
    "\n",
    "obj_cost = cost_function(graph, ordering)\n",
    "print(obj_cost)"
   ]
  },
  {
   "cell_type": "code",
   "execution_count": 13,
   "metadata": {
    "ExecuteTime": {
     "end_time": "2024-11-03T19:09:01.632928Z",
     "start_time": "2024-11-03T19:09:01.626702Z"
    },
    "colab": {
     "base_uri": "https://localhost:8080/",
     "height": 347
    },
    "id": "bHR4_y2fF22F",
    "outputId": "6e3c2964-9426-4e5b-fd84-173da6173768"
   },
   "outputs": [
    {
     "name": "stdout",
     "output_type": "stream",
     "text": [
      "The initial ordering of nodes in V: [35, 43, 39, 48, 27, 49, 26, 31, 30, 34, 37, 38, 45, 46, 28, 40, 33, 41, 32, 42, 36, 47, 50, 29, 44]\n",
      "94914.0\n"
     ]
    }
   ],
   "source": [
    "graph_loaded = load_instance('in.txt')\n",
    "\n",
    "solution = DeterministicConstruction(graph_loaded)\n",
    "ordering = solution.greedy_construction()\n",
    "\n",
    "print(\"The initial ordering of nodes in V:\", ordering)\n",
    "\n",
    "print(solution.calculate_cost())\n"
   ]
  },
  {
   "cell_type": "markdown",
   "metadata": {
    "id": "aVHUvfAJ1TlQ"
   },
   "source": [
    "## Question 3: Derive a randomized construction heuristic to be applied iteratively"
   ]
  },
  {
   "cell_type": "markdown",
   "metadata": {
    "id": "bCxvEQw11gHx"
   },
   "source": [
    "The randomized heuristic could follow the same process as the deterministic one, but then, when choosing the node in $V$ to add to the final permutation list $\\pi$, instead of always choosing the one that has a minimum weighted sum of edges to $U$, pick one randomly, with a probability inversely propotional to this sum."
   ]
  },
  {
   "cell_type": "code",
   "execution_count": null,
   "metadata": {
    "ExecuteTime": {
     "end_time": "2024-11-03T19:09:01.659690Z",
     "start_time": "2024-11-03T19:09:01.655833Z"
    },
    "id": "R-jjFW6HCz1F"
   },
   "outputs": [],
   "source": [
    "class RandomizedConstruction:\n",
    "    def __init__(self, graph):\n",
    "        self.graph = graph\n",
    "        self.pi = []  # This will store the final order of nodes in V\n",
    "\n",
    "    def greedy_construction(self):\n",
    "        # Initialize candidates with in-degree 0 nodes\n",
    "        candidates = deque([v for v in self.graph.V if self.graph.in_degree[v] == 0])\n",
    "\n",
    "        while candidates:\n",
    "            # Select node with lowest edge weight to nodes in U\n",
    "            best_node = None\n",
    "\n",
    "            sums = []\n",
    "            for v in candidates:\n",
    "                # Calculate the sum of edge weights for the current candidate node\n",
    "                weight_sum = sum(weight for u, v2, weight in self.graph.edges if v2 == v)\n",
    "                sums.append(weight_sum)\n",
    "\n",
    "            probs = sums / np.sum(sums)\n",
    "            probs = 1 / probs\n",
    "            probs = np.exp(probs) / np.sum(np.exp(probs), axis=0)\n",
    "\n",
    "            best_node = np.random.choice(candidates, p=probs)\n",
    "\n",
    "            # Add the selected best_node to the pi\n",
    "            self.pi.append(best_node)\n",
    "            candidates.remove(best_node)\n",
    "            # Update in-degrees based on the constraints, and add new candidates\n",
    "            for v_next in self.graph.constraints[best_node]:\n",
    "                self.graph.in_degree[v_next] -= 1\n",
    "                if self.graph.in_degree[v_next] == 0:\n",
    "                    candidates.append(v_next)\n",
    "\n",
    "        return self.pi\n",
    "\n",
    "    def calculate_cost(self):\n",
    "        # Create a dictionary for quick lookup of node positions in the current ordering\n",
    "        position = {node: idx for idx, node in enumerate(self.pi)}\n",
    "        total_cost = 0\n",
    "\n",
    "        # Iterate over all pairs of edges to count crossings\n",
    "        for (u1, v1, w1), (u2, v2, w2) in itertools.combinations(self.graph.edges, 2):\n",
    "            # Check if edges cross based on their positions\n",
    "            if (u1 < u2 and position[v1] > position[v2]) or (u1 > u2 and position[v1] < position[v2]):\n",
    "                # Add the sum of weights for the crossing edges to the total cost\n",
    "                total_cost += w1 + w2\n",
    "\n",
    "        return total_cost\n",
    "    \n",
    "class RandomizedConstruction_v2:\n",
    "    def __init__(self, graph, alpha):\n",
    "        self.graph = graph\n",
    "        self.alpha = alpha\n",
    "        self.pi = []\n",
    "\n",
    "    def randomized_construction(self):\n",
    "        # Initialize candidates with in-degree 0 nodes\n",
    "        candidates = deque([v for v in self.graph.V if self.graph.in_degree[v] == 0])\n",
    "\n",
    "        while candidates:\n",
    "            # Calculate cost for each candidate by temporarily appending it to the current solution\n",
    "            candidates_costs = []\n",
    "            for el in candidates:\n",
    "                self.pi.append(el)  # Temporarily add to the solution\n",
    "                cost = self.calculate_cost()  # Calculate the cost with this candidate included\n",
    "                candidates_costs.append((el, cost))\n",
    "                self.pi.pop()  # Remove to restore original solution for next candidate evaluation\n",
    "\n",
    "            # Sort candidates by cost in ascending order\n",
    "            candidates_costs.sort(key=lambda x: x[1])\n",
    "            cmin = candidates_costs[0][1]\n",
    "            cmax = candidates_costs[-1][1]\n",
    "            thresh = cmin + self.alpha * (cmax - cmin)\n",
    "\n",
    "            # Create the restricted candidate list (RCL) based on threshold\n",
    "            rcl = [el for el, cost in candidates_costs if cost <= thresh]\n",
    "            if not rcl:\n",
    "                break\n",
    "\n",
    "            # Randomly select from the RCL\n",
    "            best_node = np.random.choice(rcl)\n",
    "            self.pi.append(best_node)\n",
    "            candidates.remove(best_node)\n",
    "\n",
    "            # Update in-degrees based on the constraints, adding new candidates as in-degrees drop to 0\n",
    "            for v_next in self.graph.constraints[best_node]:\n",
    "                self.graph.in_degree[v_next] -= 1\n",
    "                if self.graph.in_degree[v_next] == 0:\n",
    "                    candidates.append(v_next)\n",
    "        if len(self.pi) == len(self.graph.V):\n",
    "            return self.pi\n",
    "        else:\n",
    "            return self.pi + [v for v in self.graph.V if v not in self.pi]\n",
    "\n",
    "\n",
    "    def calculate_cost(self):\n",
    "        # Create a dictionary for quick lookup of node positions in the current ordering\n",
    "        position = {node: idx for idx, node in enumerate(self.pi)}\n",
    "        total_cost = 0\n",
    "\n",
    "        # Iterate over all pairs of edges to count crossings\n",
    "        for (u1, v1, w1), (u2, v2, w2) in itertools.combinations(self.graph.edges, 2):\n",
    "            # Only calculate crossings if both nodes of each edge are in `self.pi`\n",
    "            if v1 in position and v2 in position:\n",
    "                # Check if edges cross based on their positions\n",
    "                if (u1 < u2 and position[v1] > position[v2]) or (u1 > u2 and position[v1] < position[v2]):\n",
    "                    # Add the sum of weights for the crossing edges to the total cost\n",
    "                    total_cost += w1 + w2\n",
    "\n",
    "        return total_cost\n",
    "\n"
   ]
  },
  {
   "cell_type": "code",
   "execution_count": 15,
   "metadata": {
    "ExecuteTime": {
     "end_time": "2024-11-03T19:09:01.671055Z",
     "start_time": "2024-11-03T19:09:01.667549Z"
    },
    "colab": {
     "base_uri": "https://localhost:8080/"
    },
    "id": "xXQCWiwWSakB",
    "outputId": "edcfd699-2855-405b-b851-dd21e90af0b6"
   },
   "outputs": [
    {
     "name": "stdout",
     "output_type": "stream",
     "text": [
      "The initial ordering of nodes in V: [7, 10, 8, 9, 6]\n",
      "9\n"
     ]
    }
   ],
   "source": [
    "graph = Graph(5, 5)\n",
    "\n",
    "# Adding edges with weights\n",
    "graph.add_edge(1, 7, 1)\n",
    "graph.add_edge(2, 8, 2)\n",
    "graph.add_edge(3, 9, 1)\n",
    "graph.add_edge(4, 10, 3)\n",
    "graph.add_edge(5, 6, 11)\n",
    "\n",
    "# Adding precedence constraints\n",
    "graph.add_constraint(7, 10)\n",
    "graph.add_constraint(8, 9)\n",
    "\n",
    "solution = RandomizedConstruction(graph)\n",
    "ordering = solution.greedy_construction()\n",
    "\n",
    "print(\"The initial ordering of nodes in V:\", ordering)\n",
    "\n",
    "print(solution.calculate_cost())"
   ]
  },
  {
   "cell_type": "code",
   "execution_count": 16,
   "metadata": {
    "ExecuteTime": {
     "end_time": "2024-11-03T19:09:01.680281Z",
     "start_time": "2024-11-03T19:09:01.671950Z"
    },
    "colab": {
     "base_uri": "https://localhost:8080/"
    },
    "id": "y_GovumtbtHT",
    "outputId": "79f6be56-908a-4394-d249-3f30c1119477"
   },
   "outputs": [
    {
     "name": "stdout",
     "output_type": "stream",
     "text": [
      "The initial ordering of nodes in V: [48, 35, 43, 39, 49, 31, 27, 26, 30, 38, 34, 46, 37, 45, 42, 28, 41, 36, 50, 47, 33, 40, 44, 29, 32]\n",
      "96210.0\n"
     ]
    }
   ],
   "source": [
    "graph_loaded = load_instance('in.txt')\n",
    "\n",
    "solution = RandomizedConstruction(graph_loaded)\n",
    "ordering = solution.greedy_construction()\n",
    "\n",
    "print(\"The initial ordering of nodes in V:\", ordering)\n",
    "\n",
    "print(solution.calculate_cost())\n"
   ]
  },
  {
   "cell_type": "markdown",
   "metadata": {
    "id": "PX9_K3ibbqYJ"
   },
   "source": [
    "## 4. Develop or make use of a framework for basic local search which is able to deal with: different neighborhood structures and different step functions (first-improvement, best-improvement, random)\n"
   ]
  },
  {
   "cell_type": "code",
   "execution_count": 17,
   "metadata": {
    "ExecuteTime": {
     "end_time": "2024-11-03T19:09:01.686047Z",
     "start_time": "2024-11-03T19:09:01.681963Z"
    },
    "id": "5sHPAdYSdpb_"
   },
   "outputs": [],
   "source": [
    "import random\n",
    "\n",
    "\n",
    "class LocalSearch:\n",
    "    def __init__(self, initial_solution, neighborhood_function, step_function, objective_function, max_iter=500):\n",
    "        \"\"\"\n",
    "        Local Search framework.\n",
    "\n",
    "        Args:\n",
    "        - initial_solution: Starting solution for the search\n",
    "        - neighborhood_function: Function to generate neighbor solutions\n",
    "        - step_function: Function to select next step in search\n",
    "        - objective_function: Function to compute the cost of a solution\n",
    "        - max_iter: Maximum number of iterations for the search\n",
    "        \"\"\"\n",
    "        self.current_solution = initial_solution\n",
    "        self.neighborhood_function = neighborhood_function\n",
    "        self.step_function = step_function\n",
    "        self.objective_function = objective_function\n",
    "        self.max_iter = max_iter\n",
    "\n",
    "    def local_search(self):\n",
    "        best_solution = self.current_solution\n",
    "        best_cost = self.objective_function(best_solution)\n",
    "\n",
    "        for i in range(self.max_iter):\n",
    "\n",
    "            neighbors = self.neighborhood_function(self.current_solution)\n",
    "            next_solution = self.step_function(neighbors, self.objective_function)\n",
    "            next_cost = self.objective_function(next_solution)\n",
    "\n",
    "            if next_cost < best_cost:\n",
    "                best_solution = next_solution\n",
    "                best_cost = next_cost\n",
    "                continue\n",
    "\n",
    "            if best_cost == 0:\n",
    "                break\n",
    "\n",
    "            self.current_solution = next_solution\n",
    "\n",
    "        print(\"Required iterations:\", i)\n",
    "        return best_solution, best_cost\n",
    "\n",
    "\n",
    "def best_improvement(neighbors, objective_function):\n",
    "    if not neighbors:\n",
    "        return None\n",
    "\n",
    "    best_neighbor = None\n",
    "    best_cost = float('inf')\n",
    "\n",
    "    for neighbor in neighbors:\n",
    "        cost = objective_function(neighbor)\n",
    "        if cost < best_cost:\n",
    "            best_neighbor = neighbor\n",
    "            best_cost = cost\n",
    "\n",
    "    return best_neighbor\n",
    "\n",
    "\n",
    "def first_improvement(neighbors, objective_function):\n",
    "    for neighbor in neighbors:\n",
    "        if objective_function(neighbor) < objective_function(neighbors[0]):\n",
    "            return neighbor\n",
    "    return neighbors[0]\n",
    "\n",
    "\n",
    "def random_neighbor(neighbors, objective_function):\n",
    "    return random.choice(neighbors)\n",
    "\n",
    "\n",
    "def cost_function(graph, permutation):  # same function as above\n",
    "    if permutation is None:\n",
    "        return float('inf')\n",
    "    # Create a dictionary for quick lookup of node positions in the current ordering\n",
    "    position = {node: idx for idx, node in enumerate(permutation)}\n",
    "    total_cost = 0\n",
    "    # Iterate over all pairs of edges to count crossings\n",
    "    for (u1, v1, w1), (u2, v2, w2) in itertools.combinations(graph.edges, 2):\n",
    "        # Check if edges cross based on their positions\n",
    "        if (u1 < u2 and position[v1] > position[v2]) or (u1 > u2 and position[v1] < position[v2]):\n",
    "            # Add the sum of weights for the crossing edges to the total cost\n",
    "            total_cost += w1 + w2\n",
    "\n",
    "    return total_cost"
   ]
  },
  {
   "cell_type": "markdown",
   "metadata": {
    "id": "2u6dPFpVcXNT"
   },
   "source": [
    "## 5. Develop at least three different meaningful neighborhood structures"
   ]
  },
  {
   "cell_type": "code",
   "execution_count": 18,
   "metadata": {
    "ExecuteTime": {
     "end_time": "2024-11-03T19:09:01.713642Z",
     "start_time": "2024-11-03T19:09:01.711748Z"
    },
    "id": "CtiUDOYCv79c"
   },
   "outputs": [],
   "source": [
    "def is_valid_operator(solution, constraints):\n",
    "    position = {node: idx for idx, node in enumerate(solution)}\n",
    "    for first, second in constraints:\n",
    "        if position[second] < position[first]:\n",
    "            return False\n",
    "    return True"
   ]
  },
  {
   "cell_type": "markdown",
   "metadata": {
    "id": "HFiC3bFHjsV4"
   },
   "source": [
    "### 1. Swap operator"
   ]
  },
  {
   "cell_type": "code",
   "execution_count": 19,
   "metadata": {
    "ExecuteTime": {
     "end_time": "2024-11-03T19:09:01.728274Z",
     "start_time": "2024-11-03T19:09:01.726203Z"
    },
    "id": "-bEsNzzRce_d"
   },
   "outputs": [],
   "source": [
    "def swap_neighborhood(solution, constraints):\n",
    "    if solution is None:\n",
    "        return []\n",
    "\n",
    "    neighbors = []\n",
    "    if not isinstance(solution, list):\n",
    "        solution = list(solution)\n",
    "\n",
    "    for i in range(len(solution) - 1):\n",
    "        neighbor = solution.copy()\n",
    "        neighbor[i], neighbor[i + 1] = neighbor[i + 1], neighbor[i]\n",
    "        if is_valid_operator(neighbor, constraints) and neighbor not in neighbors:\n",
    "            neighbors.append(neighbor)\n",
    "\n",
    "    return neighbors"
   ]
  },
  {
   "cell_type": "code",
   "execution_count": 20,
   "metadata": {
    "ExecuteTime": {
     "end_time": "2024-11-03T19:09:01.737271Z",
     "start_time": "2024-11-03T19:09:01.734484Z"
    },
    "colab": {
     "base_uri": "https://localhost:8080/"
    },
    "id": "H7AFAnnsk492",
    "outputId": "fee3edeb-4d4c-42be-f00c-0b1782962bfc"
   },
   "outputs": [
    {
     "name": "stdout",
     "output_type": "stream",
     "text": [
      "The initial ordering of nodes in V: [6, 8, 9, 7, 10]\n",
      "56\n",
      "----\n",
      "Required iterations: 11\n",
      "best_improvement\n",
      "Improvement: [7, 8, 9, 10, 6]\n",
      "0\n",
      "----\n",
      "Required iterations: 11\n",
      "first_improvement\n",
      "Improvement: [7, 8, 9, 10, 6]\n",
      "0\n",
      "----\n",
      "Required iterations: 58\n",
      "random_neighbor\n",
      "Improvement: [7, 8, 9, 10, 6]\n",
      "0\n"
     ]
    }
   ],
   "source": [
    "#initial_solution = np.random.permutation(graph.V)\n",
    "# initial_solution = ordering\n",
    "initial_solution = [6, 8, 9, 7, 10]\n",
    "\n",
    "print(\"The initial ordering of nodes in V:\", initial_solution)\n",
    "print(cost_function(graph, initial_solution))\n",
    "\n",
    "constraints = [(key, item[0]) for key, item in graph.constraints.items() if len(item) > 0]\n",
    "\n",
    "neighborhood_function = lambda sol: swap_neighborhood(sol, constraints)\n",
    "objective_function = lambda sol: cost_function(graph, sol)\n",
    "\n",
    "# Step functions\n",
    "for step_fun in [best_improvement, first_improvement, random_neighbor]:\n",
    "    print(\"----\")\n",
    "    local_search = LocalSearch(initial_solution, neighborhood_function, step_fun, objective_function)\n",
    "    best_solution, best_cost = local_search.local_search()\n",
    "\n",
    "    print(step_fun.__name__)\n",
    "    print(\"Improvement:\", best_solution)\n",
    "    print(best_cost)"
   ]
  },
  {
   "cell_type": "markdown",
   "metadata": {
    "id": "oYeRaVKLjwFW"
   },
   "source": [
    "### 2. Insert operator"
   ]
  },
  {
   "cell_type": "code",
   "execution_count": 21,
   "metadata": {
    "ExecuteTime": {
     "end_time": "2024-11-03T19:09:01.763261Z",
     "start_time": "2024-11-03T19:09:01.760926Z"
    },
    "id": "LpTjl53Xm2UT"
   },
   "outputs": [],
   "source": [
    "def insert_neighborhood(solution, constraints):\n",
    "    if solution is None:\n",
    "        return []\n",
    "\n",
    "    neighbors = set()\n",
    "    solution = list(solution)\n",
    "\n",
    "    for i in range(len(solution)):\n",
    "        for j in range(len(solution)):\n",
    "            if i != j:\n",
    "                neighbor = solution.copy()\n",
    "                neighbor.insert(j, neighbor.pop(i))\n",
    "                neighbor = tuple(neighbor)\n",
    "                if is_valid_operator(neighbor, constraints) and neighbor not in neighbors:\n",
    "                    neighbors.add(neighbor)\n",
    "\n",
    "    return list(neighbors)"
   ]
  },
  {
   "cell_type": "code",
   "execution_count": 22,
   "metadata": {
    "ExecuteTime": {
     "end_time": "2024-11-03T19:09:01.774746Z",
     "start_time": "2024-11-03T19:09:01.771753Z"
    },
    "colab": {
     "base_uri": "https://localhost:8080/"
    },
    "id": "YZ_14IPCWZdZ",
    "outputId": "b7168009-f71c-4513-c553-919446d10a84"
   },
   "outputs": [
    {
     "name": "stdout",
     "output_type": "stream",
     "text": [
      "The initial ordering of nodes in V: [6, 8, 7, 10, 9]\n",
      "58\n",
      "----\n",
      "Required iterations: 5\n",
      "best_improvement\n",
      "Improvement: (7, 8, 9, 10, 6)\n",
      "0\n",
      "----\n",
      "Required iterations: 5\n",
      "first_improvement\n",
      "Improvement: (7, 8, 9, 10, 6)\n",
      "0\n",
      "----\n",
      "Required iterations: 42\n",
      "random_neighbor\n",
      "Improvement: (7, 8, 9, 10, 6)\n",
      "0\n"
     ]
    }
   ],
   "source": [
    "#initial_solution = ordering\n",
    "#initial_solution = np.random.permutation(graph.V)\n",
    "\n",
    "initial_solution = [6, 8, 7, 10, 9]\n",
    "print(\"The initial ordering of nodes in V:\", initial_solution)\n",
    "print(cost_function(graph, initial_solution))\n",
    "\n",
    "neighborhood_function = lambda sol: insert_neighborhood(sol, constraints)\n",
    "objective_function = lambda sol: cost_function(graph, sol)\n",
    "\n",
    "# Improvement step function\n",
    "for step_fun in [best_improvement, first_improvement, random_neighbor]:\n",
    "    print(\"----\")\n",
    "    local_search = LocalSearch(initial_solution, neighborhood_function, step_fun, objective_function)\n",
    "    best_solution, best_cost = local_search.local_search()\n",
    "\n",
    "    print(step_fun.__name__)\n",
    "    print(\"Improvement:\", best_solution)\n",
    "    print(best_cost)\n"
   ]
  },
  {
   "cell_type": "markdown",
   "metadata": {
    "id": "f4Y7peojkZoC"
   },
   "source": [
    "### 3. two-opt operator"
   ]
  },
  {
   "cell_type": "code",
   "execution_count": 23,
   "metadata": {
    "ExecuteTime": {
     "end_time": "2024-11-03T19:09:01.777640Z",
     "start_time": "2024-11-03T19:09:01.775568Z"
    },
    "id": "txMaDK6IWqy9"
   },
   "outputs": [],
   "source": [
    "def two_opt_neighborhood(solution, constraints):\n",
    "    if solution is None:\n",
    "        return []\n",
    "\n",
    "    neighbors = set()\n",
    "\n",
    "    for i in range(len(solution)):\n",
    "        neighbor_first = tuple(solution[:i])\n",
    "        for j in range(i + 1, len(solution)):\n",
    "            neighbor = neighbor_first + tuple(reversed(solution[i: j + 1])) + tuple(solution[j + 1:])\n",
    "            # neighbor[i: j+1] = list(reversed(neighbor[i:j+1]))\n",
    "            if is_valid_operator(neighbor, constraints) and neighbor not in neighbors:\n",
    "                neighbors.add(neighbor)\n",
    "    return list(neighbors)"
   ]
  },
  {
   "cell_type": "code",
   "execution_count": 24,
   "metadata": {
    "ExecuteTime": {
     "end_time": "2024-11-03T19:09:01.795540Z",
     "start_time": "2024-11-03T19:09:01.792563Z"
    },
    "colab": {
     "base_uri": "https://localhost:8080/"
    },
    "id": "a0WSacPNfmty",
    "outputId": "61354358-28fe-4571-bbee-092bb8bd40a0"
   },
   "outputs": [
    {
     "name": "stdout",
     "output_type": "stream",
     "text": [
      "The initial ordering of nodes in V: [6, 8, 7, 10, 9]\n",
      "58\n",
      "----\n",
      "Required iterations: 3\n",
      "best_improvement\n",
      "Improvement: (7, 8, 9, 10, 6)\n",
      "0\n",
      "----\n",
      "Required iterations: 3\n",
      "first_improvement\n",
      "Improvement: (7, 8, 9, 10, 6)\n",
      "0\n",
      "----\n",
      "Required iterations: 80\n",
      "random_neighbor\n",
      "Improvement: (7, 8, 9, 10, 6)\n",
      "0\n"
     ]
    }
   ],
   "source": [
    "#initial_solution = ordering\n",
    "\n",
    "initial_solution = [6, 8, 7, 10, 9]\n",
    "\n",
    "print(\"The initial ordering of nodes in V:\", initial_solution)\n",
    "print(cost_function(graph, initial_solution))\n",
    "\n",
    "neighborhood_function = lambda sol: two_opt_neighborhood(sol, constraints)\n",
    "objective_function = lambda sol: cost_function(graph, sol)\n",
    "\n",
    "for step_fun in [best_improvement, first_improvement, random_neighbor]:\n",
    "    print(\"----\")\n",
    "    local_search = LocalSearch(initial_solution, neighborhood_function, step_fun, objective_function)\n",
    "    best_solution, best_cost = local_search.local_search()\n",
    "\n",
    "    print(step_fun.__name__)\n",
    "    print(\"Improvement:\", best_solution)\n",
    "    print(best_cost)\n"
   ]
  },
  {
   "cell_type": "markdown",
   "metadata": {
    "id": "Dlp2bDuPjqjM"
   },
   "source": [
    "## 6. Develop or make use of a Variable Neighborhood Descent (VND) framework which uses your neighborhood structures."
   ]
  },
  {
   "cell_type": "code",
   "execution_count": 25,
   "metadata": {
    "ExecuteTime": {
     "end_time": "2024-11-03T19:09:01.817193Z",
     "start_time": "2024-11-03T19:09:01.814203Z"
    },
    "id": "YAb2X5ek08Z8"
   },
   "outputs": [],
   "source": [
    "class VND:\n",
    "    def __init__(self, initial_solution, neighborhood_structures, constraints, objective_function, step_function,\n",
    "                 max_iter=500, verbose=True):\n",
    "        \"\"\"\n",
    "        Variable Neighborhood Descent framework.\n",
    "\n",
    "        Args:\n",
    "        - initial_solution: Starting solution for the search\n",
    "        - neighborhood_structures: List of neighborhood functions to use\n",
    "        - constraints: List of constraints for the problem\n",
    "        - objective_function: Function to compute the cost of a solution\n",
    "        - step_function: Function to select next step in search\n",
    "        - max_iter: Maximum number of iterations for the search\n",
    "        \"\"\"\n",
    "        self.current_solution = initial_solution\n",
    "        self.neighborhood_structures = neighborhood_structures\n",
    "        self.objective_function = objective_function\n",
    "        self.step_function = step_function\n",
    "        self.max_iter = max_iter\n",
    "        self.constraints = constraints\n",
    "        self.verbose = verbose\n",
    "\n",
    "    def vnd(self, solution=None):\n",
    "        if solution is not None:\n",
    "            self.current_solution = solution\n",
    "\n",
    "        best_solution = self.current_solution\n",
    "        best_cost = self.objective_function(best_solution)\n",
    "        l = 0\n",
    "\n",
    "        for i in range(self.max_iter):\n",
    "\n",
    "            # select neighborhood structure l\n",
    "            neighborhood_function = self.neighborhood_structures[l]\n",
    "\n",
    "            neighbors = neighborhood_function(self.current_solution, self.constraints)\n",
    "            next_solution = self.step_function(neighbors, self.objective_function)  # find local optimum in neighborhood\n",
    "\n",
    "            if next_solution is not None:\n",
    "                next_cost = self.objective_function(next_solution)\n",
    "\n",
    "                if next_cost < best_cost:\n",
    "                    self.current_solution = best_solution\n",
    "                    best_solution = next_solution\n",
    "                    best_cost = next_cost\n",
    "                    l = 0\n",
    "                    continue\n",
    "                else:\n",
    "                    l += 1\n",
    "\n",
    "            if l >= len(self.neighborhood_structures):\n",
    "                break\n",
    "\n",
    "            if best_cost == 0:\n",
    "                break\n",
    "        \n",
    "        if self.verbose:\n",
    "            print(\"Required iterations for VND:\", i + 1)\n",
    "        return best_solution, best_cost"
   ]
  },
  {
   "cell_type": "code",
   "execution_count": 26,
   "metadata": {
    "ExecuteTime": {
     "end_time": "2024-11-03T19:09:06.904378Z",
     "start_time": "2024-11-03T19:09:01.835596Z"
    },
    "colab": {
     "base_uri": "https://localhost:8080/"
    },
    "id": "rBHs6fLwY6Ke",
    "outputId": "b389316e-b526-4664-946f-cfded519d41f"
   },
   "outputs": [
    {
     "name": "stdout",
     "output_type": "stream",
     "text": [
      "The initial ordering of nodes in V: [48, 35, 43, 39, 49, 31, 27, 26, 30, 38, 34, 46, 37, 45, 42, 28, 41, 36, 50, 47, 33, 40, 44, 29, 32]\n",
      "96210.0\n",
      "Required iterations for VND: 6\n",
      "Improvement: (33, 48, 35, 43, 39, 49, 31, 27, 26, 30, 38, 34, 46, 37, 45, 42, 28, 41, 36, 50, 47, 40, 44, 29, 32)\n",
      "92663.0\n"
     ]
    }
   ],
   "source": [
    "neighborhood_structures = [swap_neighborhood, insert_neighborhood, two_opt_neighborhood]\n",
    "\n",
    "# initial_solution = [6, 7, 8, 9, 10]\n",
    "initial_solution = ordering\n",
    "graph = graph_loaded\n",
    "constraints = [(key, item[0]) for key, item in graph.constraints.items() if len(item) > 0]\n",
    "\n",
    "print(\"The initial ordering of nodes in V:\", initial_solution)\n",
    "print(cost_function(graph, initial_solution))\n",
    "\n",
    "objective_function = lambda sol: cost_function(graph, sol)\n",
    "\n",
    "variable_neigh_descent = VND(initial_solution, neighborhood_structures, constraints, objective_function,\n",
    "                             best_improvement)\n",
    "\n",
    "best_solution, best_cost = variable_neigh_descent.vnd()\n",
    "\n",
    "print(\"Improvement:\", best_solution)\n",
    "print(best_cost)"
   ]
  },
  {
   "cell_type": "markdown",
   "metadata": {
    "id": "8bOcMM-p1ebF"
   },
   "source": [
    "## 7. Implement a Greedy Randomized Adaptive Search Procedure (GRASP) using your randomized construction heuristic and an effective neighborhood structure with one step function or (a variant of) your VND. Note that the union of existing neighborhood structures also constitutes a (composite) neighborhood structure."
   ]
  },
  {
   "cell_type": "code",
   "execution_count": null,
   "metadata": {
    "ExecuteTime": {
     "end_time": "2024-11-03T19:09:06.906656Z",
     "start_time": "2024-11-03T19:09:06.905353Z"
    },
    "id": "AxXcSsNh1fgZ"
   },
   "outputs": [],
   "source": [
    "class GRASP:\n",
    "    def __init__(self, graph, alpha, max_iterations, neighborhood_structures, objective_function, step_function, constraints, max_iter_vnd=100):\n",
    "        \"\"\"\n",
    "        GRASP framework with randomized construction and local search.\n",
    "\n",
    "        Args:\n",
    "        - graph: The input graph structure.\n",
    "        - alpha: Parameter for controlling greediness in construction phase (0 = purely greedy, 1 = purely random).\n",
    "        - max_iterations: Maximum number of GRASP iterations.\n",
    "        - neighborhood_structures: List of neighborhood functions for local search.\n",
    "        - objective_function: Function to compute the cost of a solution.\n",
    "        - step_function: Function for selecting the best solution in a neighborhood.\n",
    "        \"\"\"\n",
    "        self.graph = graph\n",
    "        self.alpha = alpha\n",
    "        self.max_iterations = max_iterations\n",
    "        self.neighborhood_structures = neighborhood_structures\n",
    "        self.objective_function = objective_function\n",
    "        self.step_function = step_function\n",
    "        self.constraints = constraints\n",
    "        self.max_iter_vnd = max_iter_vnd\n",
    "\n",
    "    def run(self):\n",
    "        best_solution = None\n",
    "        best_cost = float('inf')\n",
    "\n",
    "        for iteration in range(self.max_iterations):\n",
    "            # Construction Phase: Generate an initial solution\n",
    "            constructor = RandomizedConstruction_v2(self.graph, self.alpha)\n",
    "            initial_solution = constructor.randomized_construction()\n",
    "            while len(initial_solution) != len(self.graph.V):\n",
    "                initial_solution = constructor.randomized_construction()\n",
    "\n",
    "            # Local Search Phase: Refine the initial solution\n",
    "            local_search_constructor = VND(initial_solution, self.neighborhood_structures, self.constraints, self.objective_function, self.step_function, self.max_iter_vnd)\n",
    "            local_search_solution, local_search_cost = local_search_constructor.vnd()\n",
    "\n",
    "\n",
    "            # Update the best solution if the improved solution is better\n",
    "            if local_search_cost < best_cost:\n",
    "                best_solution = local_search_solution\n",
    "                best_cost = local_search_cost\n",
    "\n",
    "            print(f\"Iteration {iteration + 1}: Cost = {local_search_cost}, Best Cost = {best_cost}\")\n",
    "\n",
    "            if best_cost == 0:\n",
    "                break\n",
    "\n",
    "        return best_solution, best_cost\n"
   ]
  },
  {
   "cell_type": "code",
   "execution_count": null,
   "metadata": {},
   "outputs": [],
   "source": [
    "graph = load_instance('in.txt')\n",
    "neighborhood_structures = [swap_neighborhood, insert_neighborhood, two_opt_neighborhood]\n",
    "constraints = [(key, item[0]) for key, item in graph.constraints.items() if len(item)>0]\n",
    "objective_function = lambda sol: cost_function(graph, sol)\n",
    "step_function = first_improvement\n",
    "\n",
    "grasp = GRASP(graph, 0.5, 50, neighborhood_structures, objective_function, step_function, constraints)\n",
    "best_solution, best_cost = grasp.run()\n",
    "\n",
    "print(\"Improvement:\", best_solution)\n",
    "print(best_cost)"
   ]
  },
  {
   "cell_type": "markdown",
   "metadata": {},
   "source": [
    "## 8. Implement one of the following metaheuristics:\n",
    "### • General Variable Neighborhood Search (GVNS) on top of your VND\n",
    "### • Simulated Annealing (SA)\n",
    "### • Tabu Search (TS)"
   ]
  },
  {
   "cell_type": "code",
   "execution_count": 34,
   "metadata": {
    "ExecuteTime": {
     "end_time": "2024-11-03T19:11:03.111567Z",
     "start_time": "2024-11-03T19:11:03.104598Z"
    }
   },
   "outputs": [],
   "source": [
    "def swap_neighborhood_shake(solution, constraints):\n",
    "    if solution is None:\n",
    "        return []\n",
    "\n",
    "    # Randomly select two nodes to swap\n",
    "    while True:\n",
    "        i, j = random.sample(range(len(solution)), 2)\n",
    "        neighbor = solution.copy() if isinstance(solution, list) else list(solution)\n",
    "        neighbor[i], neighbor[j] = neighbor[j], neighbor[i]\n",
    "        if is_valid_operator(neighbor, constraints):\n",
    "            return neighbor\n",
    "        \n",
    "def n_swap_neighborhood_shake_generator(n=2):\n",
    "    def shake(solution, constraints):\n",
    "        if solution is None:\n",
    "            return []\n",
    "        \n",
    "        neighbor = solution.copy() if isinstance(solution, list) else list(solution)\n",
    "        for _ in range(n):\n",
    "            neighbor = swap_neighborhood_shake(neighbor, constraints)\n",
    "        return neighbor\n",
    "    \n",
    "    return shake    \n",
    "        \n",
    "def insert_neighborhood_shake(solution, constraints):\n",
    "    if solution is None:\n",
    "        return []\n",
    "\n",
    "    # Randomly select two nodes to swap\n",
    "    while True:\n",
    "        i, j = random.sample(range(len(solution)), 2)\n",
    "        neighbor = solution.copy() if isinstance(solution, list) else list(solution)\n",
    "        neighbor.insert(j, neighbor.pop(i))\n",
    "        if is_valid_operator(neighbor, constraints):\n",
    "            return neighbor\n",
    "        \n",
    "        \n",
    "def two_opt_neighborhood_shake(solution, constraints):\n",
    "    if solution is None:\n",
    "        return []\n",
    "\n",
    "    # Randomly select two nodes to swap\n",
    "    while True:\n",
    "        i, j = random.sample(range(len(solution)), 2)\n",
    "        neighbor_first = tuple(solution[:i])\n",
    "        neighbor = neighbor_first + tuple(reversed(solution[i: j + 1])) + tuple(solution[j + 1:])\n",
    "        if is_valid_operator(neighbor, constraints):\n",
    "            return neighbor"
   ]
  },
  {
   "cell_type": "code",
   "execution_count": 43,
   "metadata": {
    "ExecuteTime": {
     "end_time": "2024-11-03T20:31:40.862968Z",
     "start_time": "2024-11-03T20:31:40.843948Z"
    }
   },
   "outputs": [],
   "source": [
    "class GVNS:\n",
    "    def __init__(self, initial_solution, shaking_neighbourhood, local_search_neighbourhoods, constraints,\n",
    "                 objective_function, max_iter=500, verbose=True):\n",
    "        \"\"\"\n",
    "        General Variable Neighborhood Search framework.\n",
    "\n",
    "        Args:\n",
    "        - initial_solution: Starting solution for the search\n",
    "        - shaking_neighbourhood: Neighborhood function for shaking\n",
    "        - local_search_neighbourhoods: List of neighborhood functions for local search\n",
    "        - objective_function: Function to compute the cost of a solution\n",
    "        - max_iter: Maximum number of iterations for the search\n",
    "        \"\"\"\n",
    "        self.current_solution = initial_solution\n",
    "        self.shaking_neighbourhood = shaking_neighbourhood\n",
    "        self.local_search_neighbourhoods = local_search_neighbourhoods\n",
    "        self.objective_function = objective_function\n",
    "        self.max_iter = max_iter\n",
    "        self.constraints = constraints\n",
    "        self.VND = VND(initial_solution, local_search_neighbourhoods, constraints, objective_function, best_improvement, max_iter, False)\n",
    "        self.verbose = verbose\n",
    "\n",
    "    def find_solution(self):\n",
    "        self.current_solution, best_cost = self.VND.vnd()\n",
    "        best_solution = self.current_solution\n",
    "\n",
    "        for i in range(self.max_iter):\n",
    "            k = 0\n",
    "            while k < len(self.shaking_neighbourhood):\n",
    "                # pick random solution from the shaking neighbourhood\n",
    "                shaken_x = self.shaking_neighbourhood[k](best_solution, self.constraints)\n",
    "                new_solution, new_cost = self.VND.vnd(shaken_x)\n",
    "\n",
    "                if new_cost < best_cost:\n",
    "                    best_solution, best_cost = new_solution, new_cost\n",
    "                    k = 0\n",
    "                else:\n",
    "                    k += 1\n",
    "\n",
    "            if best_cost == 0:\n",
    "                break\n",
    "        if self.verbose:\n",
    "            print(\"Required iterations for GVNS:\", i + 1)\n",
    "        return best_solution, best_cost"
   ]
  },
  {
   "cell_type": "code",
   "execution_count": 42,
   "metadata": {
    "ExecuteTime": {
     "end_time": "2024-11-03T20:01:56.047104Z",
     "start_time": "2024-11-03T19:15:16.114251Z"
    }
   },
   "outputs": [
    {
     "name": "stdout",
     "output_type": "stream",
     "text": [
      "The initial ordering of nodes in V: [48, 35, 43, 39, 49, 31, 27, 26, 30, 38, 34, 46, 37, 45, 42, 28, 41, 36, 50, 47, 33, 40, 44, 29, 32]\n",
      "96210.0\n",
      "Required iterations for GVNS: 50\n",
      "Improvement: [35, 33, 31, 38, 40, 37, 41, 44, 49, 28, 29, 37, 41, 44, 49, 28, 29, 45, 46, 47, 32, 50, 42, 39, 48, 26, 30, 27, 43, 34, 36]\n",
      "80230.0\n"
     ]
    }
   ],
   "source": [
    "shaking_neighbourhood = [swap_neighborhood_shake, n_swap_neighborhood_shake_generator(2), n_swap_neighborhood_shake_generator(3), insert_neighborhood_shake, two_opt_neighborhood_shake]\n",
    "local_search_neighbourhoods = [swap_neighborhood, insert_neighborhood, two_opt_neighborhood]\n",
    "\n",
    "# initial_solution = ordering\n",
    "# initial_solution = [6, 8, 7, 10, 9]\n",
    "graph = graph_loaded\n",
    "initial_solution = ordering\n",
    "constraints = [(key, item[0]) for key, item in graph.constraints.items() if len(item) > 0]\n",
    "\n",
    "print(\"The initial ordering of nodes in V:\", initial_solution)\n",
    "print(cost_function(graph, initial_solution))\n",
    "\n",
    "objective_function = lambda sol: cost_function(graph, sol)\n",
    "\n",
    "gvns = GVNS(initial_solution, shaking_neighbourhood, local_search_neighbourhoods, constraints, objective_function, max_iter=50)\n",
    "\n",
    "best_solution, best_cost = gvns.find_solution()\n",
    "\n",
    "print(\"Improvement:\", best_solution)\n",
    "print(best_cost)\n"
   ]
  },
  {
   "cell_type": "code",
   "execution_count": null,
   "metadata": {},
   "outputs": [],
   "source": []
  }
 ],
 "metadata": {
  "colab": {
   "provenance": []
  },
  "kernelspec": {
   "display_name": "Python 3 (ipykernel)",
   "language": "python",
   "name": "python3"
  },
  "language_info": {
   "name": "python"
  }
 },
 "nbformat": 4,
 "nbformat_minor": 0
}
