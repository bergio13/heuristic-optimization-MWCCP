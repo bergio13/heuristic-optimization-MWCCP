{
  "nbformat": 4,
  "nbformat_minor": 0,
  "metadata": {
    "colab": {
      "provenance": [],
      "toc_visible": true
    },
    "kernelspec": {
      "name": "python3",
      "display_name": "Python 3 (ipykernel)",
      "language": "python"
    },
    "language_info": {
      "name": "python"
    }
  },
  "cells": [
    {
      "metadata": {
        "ExecuteTime": {
          "end_time": "2025-01-06T20:46:30.654466Z",
          "start_time": "2025-01-06T20:46:30.649743Z"
        },
        "id": "Vm6zo2Ko5Ew9"
      },
      "cell_type": "code",
      "source": [
        "from collections import defaultdict, deque\n",
        "import itertools\n",
        "import numpy as np\n",
        "import random\n",
        "from enum import Enum\n",
        "from typing import List, Tuple, Generator, Type\n",
        "from dataclasses import dataclass\n",
        "import time\n",
        "import os\n",
        "import bisect\n",
        "from statistics import mean\n",
        "from matplotlib import pyplot as plt\n",
        "from torch.backends.cudnn import deterministic\n",
        "from ConfigSpace import ConfigurationSpace\n",
        "from smac import HyperparameterOptimizationFacade, Scenario\n",
        "from scipy.stats import ttest_rel, wilcoxon\n",
        "import re\n",
        "import statistics\n",
        "from scipy.stats import norm\n",
        "import scipy"
      ],
      "outputs": [],
      "execution_count": null
    },
    {
      "cell_type": "code",
      "metadata": {
        "id": "c9TyLcN79j0Q",
        "ExecuteTime": {
          "end_time": "2025-01-05T18:26:39.131893Z",
          "start_time": "2025-01-05T18:26:39.117203Z"
        }
      },
      "source": [
        "def list_files_in_folder(folder_path):\n",
        "    items = []\n",
        "    try:\n",
        "        for item in os.listdir(folder_path):\n",
        "            item_path = os.path.join(folder_path, item)\n",
        "\n",
        "            # Check if it's a file and not a directory (excluding .ipynb_checkpoints)\n",
        "            if os.path.isfile(item_path) and '.ipynb_checkpoints' not in item and \"GVNS\" not in item and \"VND\" not in item and \"GRASP\" not in item:\n",
        "                items.append(item_path)\n",
        "        return items\n",
        "    except FileNotFoundError:\n",
        "        print(f\"Folder not found: {folder_path}\")\n",
        "        return []\n",
        "\n",
        "folder_path = \"content/competition\"\n",
        "test_folder_path_small = \"content/test/small\"\n",
        "test_folder_path_med = \"content/test/med\"\n",
        "test_folder_path_med_large = \"content/test/med_large\"\n",
        "test_folder_path_large = \"content/test/large\"\n",
        "\n",
        "\n",
        "items = list_files_in_folder(folder_path)\n",
        "items_test_small = list_files_in_folder(test_folder_path_small)\n",
        "items_test_med = list_files_in_folder(test_folder_path_med)\n",
        "items_test_med_large = list_files_in_folder(test_folder_path_med_large)\n",
        "items_test_large = list_files_in_folder(test_folder_path_large)\n",
        "\n",
        "class Graph:\n",
        "    def __init__(self, U_size, V_size):\n",
        "        self.U = list(range(1, U_size + 1))  # Nodes in fixed layer U\n",
        "        self.V = list(range(U_size + 1, U_size + V_size + 1))  # Nodes in V\n",
        "        self.edges = []  # List of edges (u, v, weight)\n",
        "        self.constraints = defaultdict(list)  # Constraints as adjacency list for V\n",
        "        self.in_degree = {v: 0 for v in self.V}   # Dictionary to store in-degree of nodes in V\n",
        "        self.node_edges = defaultdict(list)  # Edges connected to each node\n",
        "        self.solution_costs = {}  # Store costs for each solution\n",
        "\n",
        "    def add_node_U(self, node):\n",
        "        self.U.append(node)\n",
        "\n",
        "    def add_node_V(self, node):\n",
        "        self.V.append(node)\n",
        "        self.in_degree[node] = 0  # Initialize in-degree for nodes in V\n",
        "\n",
        "    def add_edge(self, u, v, weight):\n",
        "        self.edges.append((u, v, weight))\n",
        "        self.node_edges[u].append((v, weight))\n",
        "        self.node_edges[v].append((u, weight))\n",
        "\n",
        "    def add_constraint(self, v1, v2):\n",
        "        self.constraints[v1].append(v2)\n",
        "        self.in_degree[v2] += 1  # Update in-degree due to precedence constraint\n",
        "\n",
        "def verify_solution(graph, solution: List[int]) -> bool:\n",
        "        \"\"\"Verify if a solution is valid.\"\"\"\n",
        "        # Check if all nodes are present exactly once\n",
        "        if set(solution) != set(graph.V):\n",
        "            return False\n",
        "\n",
        "        # Check if constraints are satisfied\n",
        "        positions = {node: idx for idx, node in enumerate(solution)}\n",
        "        for v1 in graph.V:\n",
        "            for v2 in graph.constraints[v1]:\n",
        "                if positions[v1] >= positions[v2]:\n",
        "                    return False\n",
        "        return True\n",
        "\n",
        "# Utility function for timing\n",
        "class Timer:\n",
        "    def __enter__(self):\n",
        "        self.start = time.perf_counter()\n",
        "        return self\n",
        "\n",
        "    def __exit__(self, *args):\n",
        "        self.end = time.perf_counter()\n",
        "        self.delta = self.end - self.start\n",
        "\n",
        "\n",
        "def load_instance(filename):\n",
        "    with open(filename, 'r') as file:\n",
        "        U_size, V_size, C_size, E_size = map(int, file.readline().split())\n",
        "        graph = Graph(U_size, V_size)\n",
        "\n",
        "        # Read constraints section\n",
        "        line = file.readline().strip()\n",
        "        while line != \"#constraints\":\n",
        "            line = file.readline().strip()\n",
        "\n",
        "        for _ in range(C_size):\n",
        "            v, v_prime = map(int, file.readline().split())\n",
        "            graph.add_constraint(v, v_prime)\n",
        "\n",
        "        # Read edges section\n",
        "        line = file.readline().strip()\n",
        "        while line != \"#edges\":\n",
        "            line = file.readline().strip()\n",
        "\n",
        "        for _ in range(E_size):\n",
        "            u, v, weight = file.readline().split()\n",
        "            graph.add_edge(int(u), int(v), float(weight))\n",
        "\n",
        "    return graph\n",
        "\n",
        "class BinaryIndexedTree:\n",
        "    def __init__(self, size):\n",
        "        self.size = size\n",
        "        self.tree = [0] * (size + 1)\n",
        "\n",
        "    def update(self, idx, val):\n",
        "        idx += 1  # Convert to 1-based indexing\n",
        "        while idx <= self.size:\n",
        "            self.tree[idx] += val\n",
        "            idx += idx & (-idx)\n",
        "\n",
        "    def query(self, idx):\n",
        "        idx += 1  # Convert to 1-based indexing\n",
        "        total = 0\n",
        "        while idx > 0:\n",
        "            total += self.tree[idx]\n",
        "            idx -= idx & (-idx)\n",
        "        return total\n",
        "\n",
        "def cost_function_bit(graph, permutation):\n",
        "    \"\"\"\n",
        "    Alternative implementation using Binary Indexed Tree for very large graphs.\n",
        "    Time complexity: O(E log E) where E is number of edges.\n",
        "\n",
        "    Args:\n",
        "        graph: Graph object containing edges and weights\n",
        "        permutation: List representing the ordering of nodes in layer V\n",
        "\n",
        "    Returns:\n",
        "        float: Total cost of crossings\n",
        "    \"\"\"\n",
        "\n",
        "    tuple_permutation = tuple(permutation)\n",
        "\n",
        "    cost = graph.solution_costs.get(tuple_permutation, None)\n",
        "\n",
        "    if cost is not None:\n",
        "        return cost\n",
        "\n",
        "    position = {node: idx for idx, node in enumerate(permutation)}\n",
        "    max_pos = len(permutation)\n",
        "\n",
        "    # Sort edges by u value\n",
        "    edges = [(u, position[v], w) for u, v, w in graph.edges]\n",
        "    edges.sort()\n",
        "\n",
        "    total_cost = 0\n",
        "    bit = BinaryIndexedTree(max_pos)\n",
        "    weight_sum = BinaryIndexedTree(max_pos)\n",
        "\n",
        "    # Process edges in order of increasing u\n",
        "    for i, (u, pos_v, w) in enumerate(edges):\n",
        "        # Count crossings with previous edges\n",
        "        crossings = bit.query(max_pos - 1) - bit.query(pos_v)\n",
        "        total_cost += crossings * w\n",
        "\n",
        "        # Add contribution from weights of crossed edges\n",
        "        weight_contribution = (weight_sum.query(max_pos - 1) -\n",
        "                             weight_sum.query(pos_v))\n",
        "        total_cost += weight_contribution\n",
        "\n",
        "        # Update BITs\n",
        "        bit.update(pos_v, 1)\n",
        "        weight_sum.update(pos_v, w)\n",
        "\n",
        "    graph.solution_costs[tuple_permutation] = total_cost\n",
        "\n",
        "    return total_cost"
      ],
      "outputs": [],
      "execution_count": null
    },
    {
      "cell_type": "code",
      "source": [
        "from typing import List, Optional\n",
        "\n",
        "class DeterministicConstruction:\n",
        "    \"\"\"\n",
        "    A deterministic construction algorithm using a fast heuristic based on\n",
        "    U-layer positions and edge weights.\n",
        "    \"\"\"\n",
        "\n",
        "    def __init__(self, graph: 'Graph'):\n",
        "        self.graph = graph\n",
        "        self.pi: List[int] = []\n",
        "        self._precompute_node_metrics()\n",
        "\n",
        "    def _precompute_node_metrics(self) -> None:\n",
        "        \"\"\"\n",
        "        Precompute node metrics for efficient lookup:\n",
        "        - Total edge weight per node\n",
        "        - Average U-layer position of connected nodes\n",
        "        \"\"\"\n",
        "        self.node_weights = defaultdict(int)\n",
        "        self.avg_u_positions = defaultdict(float)\n",
        "        self.u_connections = defaultdict(list)\n",
        "\n",
        "        # Compute total weights and collect U positions\n",
        "        for u, v, weight in self.graph.edges:\n",
        "            self.node_weights[v] += weight\n",
        "            self.u_connections[v].append(u)\n",
        "\n",
        "        # Compute average U position\n",
        "        for v in self.graph.V:\n",
        "            if self.u_connections[v]:\n",
        "                self.avg_u_positions[v] = sum(self.u_connections[v]) / len(self.u_connections[v])\n",
        "            else:\n",
        "                self.avg_u_positions[v] = len(self.graph.U) / 2  # Middle position if no connections\n",
        "\n",
        "    def _get_best_candidate(self, candidates: deque, current_len: int) -> Optional[int]:\n",
        "        \"\"\"\n",
        "        Select best candidate based on a simple scoring function that considers:\n",
        "        1. Average position in U layer (prefer nodes whose U connections align with current position)\n",
        "        2. Edge weights (prefer heavier edges)\n",
        "\n",
        "        Args:\n",
        "            candidates: Collection of candidate nodes\n",
        "            current_len: Current length of placement\n",
        "\n",
        "        Returns:\n",
        "            Best candidate node or None if candidates is empty\n",
        "        \"\"\"\n",
        "        if not candidates:\n",
        "            return None\n",
        "\n",
        "        # Target position in U layer based on current placement\n",
        "        target_u_pos = (current_len / len(self.graph.V)) * len(self.graph.U)\n",
        "\n",
        "        # Find node that best matches target position and has appropriate weight\n",
        "        best_node = min(\n",
        "            candidates,\n",
        "            key=lambda v: (\n",
        "                abs(self.avg_u_positions[v] - target_u_pos) * 0.9 +  # Position alignment\n",
        "                -self.node_weights[v] * 0.1 # Weight consideration (negative to prefer higher weights)\n",
        "            )\n",
        "        )\n",
        "\n",
        "        return best_node\n",
        "\n",
        "    def verify_solution(self) -> bool:\n",
        "        \"\"\"Verify if the constructed solution satisfies all constraints.\"\"\"\n",
        "        positions = {node: idx for idx, node in enumerate(self.pi)}\n",
        "\n",
        "        if set(self.pi) != set(self.graph.V):\n",
        "            return False\n",
        "\n",
        "        for v1 in self.graph.V:\n",
        "            for v2 in self.graph.constraints[v1]:\n",
        "                if positions[v1] > positions[v2]:\n",
        "                    return False\n",
        "\n",
        "        return True\n",
        "\n",
        "    def greedy_construction(self) -> List[int]:\n",
        "        \"\"\"\n",
        "        Construct a solution using a fast greedy approach.\n",
        "\n",
        "        Returns:\n",
        "            Ordered list of nodes representing the solution\n",
        "        \"\"\"\n",
        "        self.pi = []\n",
        "        in_degree = self.graph.in_degree.copy()\n",
        "        candidates = deque([v for v in self.graph.V if in_degree[v] == 0])\n",
        "        nodes_placed = 0\n",
        "\n",
        "        while candidates:\n",
        "            best_node = self._get_best_candidate(candidates, len(self.pi))\n",
        "            if best_node is None:\n",
        "                break\n",
        "\n",
        "            self.pi.append(best_node)\n",
        "            candidates.remove(best_node)\n",
        "            nodes_placed += 1\n",
        "\n",
        "            # Update in-degrees and add new candidates\n",
        "            for v_next in self.graph.constraints[best_node]:\n",
        "                in_degree[v_next] -= 1\n",
        "                if in_degree[v_next] == 0:\n",
        "                    candidates.append(v_next)\n",
        "\n",
        "        if nodes_placed != len(self.graph.V):\n",
        "            raise ValueError(\"Graph contains a cycle or is disconnected!\")\n",
        "\n",
        "        if not self.verify_solution():\n",
        "            raise ValueError(\"Construction resulted in invalid solution!\")\n",
        "\n",
        "        return self.pi"
      ],
      "metadata": {
        "id": "0Q1-SJXj-xHE",
        "ExecuteTime": {
          "end_time": "2025-01-05T18:25:34.286604Z",
          "start_time": "2025-01-05T18:25:34.278292Z"
        }
      },
      "outputs": [],
      "execution_count": null
    },
    {
      "cell_type": "code",
      "source": [
        "results = []  # Store (item_name, time, cost) for each solution\n",
        "for item in items_test_small:\n",
        "    graph = load_instance(item)\n",
        "    with Timer() as t:\n",
        "        solution = DeterministicConstruction(graph)\n",
        "        ordering = solution.greedy_construction()\n",
        "    cost = cost_function_bit(graph, ordering)  # Cost computation outside the timing block\n",
        "    results.append((item, t.delta, cost))\n",
        "\n",
        "print(f\"{'Item':<50} {'Time (s)':<10} {'Cost':<10}\")\n",
        "print(\"-\" * 70)\n",
        "for item, time_taken, cost in results:\n",
        "    print(f\"{item:<50} {time_taken:<10.6f} {cost:<10}\")"
      ],
      "metadata": {
        "colab": {
          "base_uri": "https://localhost:8080/"
        },
        "id": "P0qXa65Za5RO",
        "outputId": "b19d7899-8472-487c-8cf2-bd46a19cb0c0",
        "ExecuteTime": {
          "end_time": "2025-01-05T18:25:35.547949Z",
          "start_time": "2025-01-05T18:25:35.537960Z"
        }
      },
      "outputs": [
        {
          "name": "stdout",
          "output_type": "stream",
          "text": [
            "Item                                               Time (s)   Cost      \n",
            "----------------------------------------------------------------------\n",
            "content/test/small/inst_50_4_00006                 0.000130   3184.0    \n",
            "content/test/small/inst_50_4_00001                 0.000205   76753.0   \n",
            "content/test/small/inst_50_4_00008                 0.000132   1542.0    \n",
            "content/test/small/inst_50_4_00009                 0.000088   1471.0    \n",
            "content/test/small/inst_50_4_00007                 0.000094   2694.0    \n",
            "content/test/small/inst_50_4_00010                 0.000092   966.0     \n",
            "content/test/small/inst_50_4_00002                 0.000109   26152.0   \n",
            "content/test/small/inst_50_4_00005                 0.000101   4178.0    \n",
            "content/test/small/inst_50_4_00004                 0.000092   7328.0    \n",
            "content/test/small/inst_50_4_00003                 0.000094   13128.0   \n"
          ]
        }
      ],
      "execution_count": null
    },
    {
      "cell_type": "markdown",
      "source": [
        "# Task 1"
      ],
      "metadata": {
        "id": "XajAvD4o5WYK"
      }
    },
    {
      "cell_type": "markdown",
      "source": [
        "## GA"
      ],
      "metadata": {
        "id": "qAY9FBk7EkE4"
      }
    },
    {
      "cell_type": "code",
      "source": [
        "import abc\n",
        "\n",
        "\n",
        "@dataclass\n",
        "class GAParameters:\n",
        "    population_size: int = 100\n",
        "    generations: int = 100\n",
        "    elite_size: int = 10\n",
        "    tournament_size: int = 5\n",
        "    mutation_rate: float = 0.3\n",
        "    crossover_rate: float = 0.8\n",
        "    constraint_penalty: float = 100000\n",
        "\n",
        "    def __hash__(self):\n",
        "        return hash((self.population_size, self.generations, self.elite_size, self.tournament_size, self.mutation_rate, self.crossover_rate, self.constraint_penalty))\n",
        "\n",
        "    def __eq__(self, other):\n",
        "        return hash(self) == hash(other) if isinstance(other, GAParameters) else False\n",
        "\n",
        "    def __str__(self):\n",
        "        return f\"GAParameters(population_size={self.population_size}, generations={self.generations}, elite_size={self.elite_size}, tournament_size={self.tournament_size}, mutation_rate={self.mutation_rate}, crossover_rate={self.crossover_rate}, constraint_penalty={self.constraint_penalty})\"\n",
        "\n",
        "    def __repr__(self):\n",
        "        return str(self)\n",
        "\n",
        "class GeneticAlgorithm:\n",
        "    def __init__(self, params: GAParameters = None, verbose: bool = False):\n",
        "        self.params = params or GAParameters()\n",
        "        self.best_solution = None\n",
        "        self.best_fitness = float('-inf')\n",
        "        self.generation_stats = []\n",
        "        self.verbose = verbose\n",
        "\n",
        "    # Abstract methods\n",
        "    @abc.abstractmethod\n",
        "    def fitness(self, permutation: List[int]) -> float:\n",
        "        pass\n",
        "\n",
        "    @abc.abstractmethod\n",
        "    def _init_population(self) -> List[List[int]]:\n",
        "        pass\n",
        "\n",
        "    @abc.abstractmethod\n",
        "    def _generate_new_generation(self, population: List[any], fitnesses: List[float]) -> List[any]:\n",
        "        pass\n",
        "\n",
        "    def _tournament_selection(self, population: List[any], fitnesses: List[float]) -> any:\n",
        "        \"\"\"Tournament selection for parent selection\"\"\"\n",
        "        tournament = random.sample(range(len(population)), min(self.params.tournament_size, len(population))) # Select k individuals\n",
        "        winner = max(tournament, key=lambda i: fitnesses[i]) # Choose winner\n",
        "        return population[winner]\n",
        "\n",
        "    def run_generation(self, population: List[any]) -> Tuple[List[any], List[float]]:\n",
        "        # Evaluate fitness of each individual\n",
        "        fitnesses = [self.fitness(ind) for ind in population]\n",
        "\n",
        "        # Store statistics\n",
        "        gen_best_fitness = max(fitnesses)\n",
        "        gen_avg_fitness = mean(fitnesses)\n",
        "        self.generation_stats.append((gen_best_fitness, gen_avg_fitness))\n",
        "\n",
        "        # Update best solution\n",
        "        best_idx = fitnesses.index(gen_best_fitness)\n",
        "        if fitnesses[best_idx] > self.best_fitness:\n",
        "            self.best_fitness = fitnesses[best_idx]\n",
        "            self.best_solution = population[best_idx]\n",
        "\n",
        "        # Create next generation\n",
        "        population = self._generate_new_generation(population, fitnesses)\n",
        "\n",
        "        return population, fitnesses\n",
        "\n",
        "    def run(self) -> Tuple[List[int], float]:\n",
        "        \"\"\"Execute the genetic algorithm\"\"\"\n",
        "        # Initialize population\n",
        "        population = self._init_population()\n",
        "\n",
        "        for generation in range(self.params.generations):\n",
        "            if self.verbose:\n",
        "                print(f\"Generation {generation + 1}/{self.params.generations}\")\n",
        "            population, _ = self.run_generation(population)\n",
        "\n",
        "        return self.best_solution, - self.best_fitness\n",
        "\n",
        "\n",
        "class GeneticAlgorithmMWCCP(GeneticAlgorithm):\n",
        "    def __init__(self, graph: 'Graph', params: GAParameters = None, verbose: bool = True):\n",
        "        self.graph = graph\n",
        "        super().__init__(params, verbose=verbose)\n",
        "\n",
        "    def fitness(self, V_order: List[int]) -> float:\n",
        "        \"\"\"Calculate fitness with penalty\"\"\"\n",
        "        crossing_cost = cost_function_bit(self.graph, V_order)\n",
        "\n",
        "        # Penalty for violated constraints\n",
        "        penalty = self._calculate_constraint_violations(V_order) * self.params.constraint_penalty if self.params.constraint_penalty > 0 else 0\n",
        "        return - crossing_cost - penalty\n",
        "\n",
        "    def _calculate_constraint_violations(self, V_order: List[int]) -> int:\n",
        "        \"\"\"Count number of violated constraints\"\"\"\n",
        "        violations = 0\n",
        "        positions = {v: i for i, v in enumerate(V_order)}\n",
        "\n",
        "        for v1 in V_order:\n",
        "            for v2 in self.graph.constraints[v1]:\n",
        "                if positions[v1] > positions[v2]:\n",
        "                    violations += 1\n",
        "        return violations\n",
        "\n",
        "    def _order_crossover(self, parent1: List[int], parent2: List[int]) -> List[int]:\n",
        "        \"\"\"Implement Order Crossover (OX) operator\"\"\"\n",
        "        size = len(parent1)\n",
        "        start, end = sorted(random.sample(range(size), 2))\n",
        "\n",
        "        # Create a mapping for fast lookup\n",
        "        p1_segment = set(parent1[start:end])\n",
        "\n",
        "        # Initialize child with the segment from parent1\n",
        "        child = [-1] * size\n",
        "        child[start:end] = parent1[start:end]\n",
        "\n",
        "        # Fill remaining positions with elements from parent2\n",
        "        j = end\n",
        "        for i in range(size):\n",
        "            current = parent2[(end + i) % size]\n",
        "            if current not in p1_segment:\n",
        "                child[j % size] = current\n",
        "                j += 1\n",
        "\n",
        "        return child\n",
        "\n",
        "    def _swap_mutation(self, individual: List[int]) -> List[int]:\n",
        "        \"\"\"Swap mutation with variable number of swaps\"\"\"\n",
        "        if random.random() < self.params.mutation_rate:\n",
        "            num_swaps = random.randint(1, max(1, len(individual) // 10))\n",
        "            mutated = individual.copy()\n",
        "            for _ in range(num_swaps):\n",
        "                i, j = random.sample(range(len(mutated)), 2)\n",
        "                mutated[i], mutated[j] = mutated[j], mutated[i]\n",
        "            return mutated\n",
        "        return individual\n",
        "\n",
        "    def _repair_individual(self, individual: List[int]) -> List[int]:\n",
        "        in_degree = self.graph.in_degree.copy()\n",
        "        adjacency_list = self.graph.constraints\n",
        "        index_map = {val: idx for idx, val in enumerate(individual)}\n",
        "\n",
        "        queue = deque(v for v in self.graph.V if in_degree[v] == 0)\n",
        "        repaired = []\n",
        "        remaining = set(individual)\n",
        "\n",
        "        while queue:\n",
        "            candidates = [v for v in queue if v in remaining]\n",
        "            if not candidates:\n",
        "                candidates = list(remaining)\n",
        "\n",
        "            v = min(candidates, key=index_map.get)\n",
        "            repaired.append(v)\n",
        "            remaining.remove(v)\n",
        "            queue.remove(v)\n",
        "\n",
        "            for neighbor in adjacency_list[v]:\n",
        "                if neighbor in remaining:\n",
        "                    in_degree[neighbor] -= 1\n",
        "                    if in_degree[neighbor] == 0:\n",
        "                        queue.append(neighbor)\n",
        "\n",
        "        return repaired\n",
        "\n",
        "    def is_valid(self, individual: List[int]) -> bool:\n",
        "        \"\"\"Check if an individual satisfies all constraints.\"\"\"\n",
        "        positions = {v: i for i, v in enumerate(individual)}\n",
        "        for v1 in individual:\n",
        "            for v2 in self.graph.constraints[v1]:\n",
        "                if positions[v1] > positions[v2]:\n",
        "                    return False\n",
        "        return True\n",
        "\n",
        "    def _init_population(self) -> List[List[int]]:\n",
        "        \"\"\"Initialize population\"\"\"\n",
        "        population = [random.sample(self.graph.V, len(self.graph.V)) for _ in range(self.params.population_size)]\n",
        "        population = [self._repair_individual(ind) if not self.is_valid(ind) else ind for ind in population]\n",
        "\n",
        "        return population\n",
        "\n",
        "    def _generate_new_generation(self, population: List[List[int]], fitnesses: List[float]) -> List[List[int]]:\n",
        "        next_generation = []\n",
        "\n",
        "        # Elitism\n",
        "        elite_indices = sorted(range(len(fitnesses)), key=lambda i: fitnesses[i], reverse=True)\n",
        "        next_generation.extend([population[i] for i in elite_indices[:self.params.elite_size]])\n",
        "\n",
        "        # Generate offspring\n",
        "        while len(next_generation) < self.params.population_size:\n",
        "            if random.random() < self.params.crossover_rate:\n",
        "                parent1 = self._tournament_selection(population, fitnesses)\n",
        "                parent2 = self._tournament_selection(population, fitnesses)\n",
        "                child = self._order_crossover(parent1, parent2)\n",
        "            else:\n",
        "                child = self._tournament_selection(population, fitnesses).copy()\n",
        "\n",
        "            child = self._swap_mutation(child)\n",
        "            child = self._repair_individual(child)\n",
        "            next_generation.append(child)\n",
        "\n",
        "        return next_generation\n",
        "\n",
        "    def get_statistics(self) -> List[Tuple[float, float]]:\n",
        "        \"\"\"Return generation statistics\"\"\"\n",
        "        return self.generation_stats\n",
        "\n",
        "def solve_mwccp(graph: 'Graph', params: GAParameters = None) -> Tuple[List[int], float]:\n",
        "    \"\"\"Convenience function to solve MWCCP\"\"\"\n",
        "    ga = GeneticAlgorithmMWCCP(graph, params)\n",
        "    solution, cost = ga.run()\n",
        "    return solution, cost"
      ],
      "metadata": {
        "id": "I2BBlpFWJhL2",
        "ExecuteTime": {
          "end_time": "2025-01-05T18:25:37.604994Z",
          "start_time": "2025-01-05T18:25:37.586290Z"
        }
      },
      "outputs": [],
      "execution_count": null
    },
    {
      "metadata": {
        "ExecuteTime": {
          "end_time": "2025-01-05T18:25:38.340039Z",
          "start_time": "2025-01-05T18:25:38.329216Z"
        },
        "id": "jx_wGX545ExE"
      },
      "cell_type": "code",
      "source": [
        "import dataclasses\n",
        "\n",
        "PARAMETER_RANGES = {\n",
        "    \"population_size\": (10, 200),\n",
        "    \"generations\": (10, 200),\n",
        "    \"elite_size\": (0, 20),\n",
        "    \"tournament_size\": (3, 20),\n",
        "    \"mutation_rate\": (0.1, 0.5),\n",
        "    \"crossover_rate\": (0.5, 1),\n",
        "    \"constraint_penalty\": (100000, 1000000)\n",
        "}\n",
        "\n",
        "class GeneticAlgorithmParameterOptimization(GeneticAlgorithm):\n",
        "    def __init__(self, instances_paths: List[str], params: GAParameters = None):\n",
        "        self.instances = [load_instance(path) for path in instances_paths]\n",
        "        params.constraint_penalty = 0  # Disable constraint penalty\n",
        "        self.cache = {}\n",
        "        super().__init__(params, verbose=True)\n",
        "\n",
        "    def fitness(self, params: GAParameters) -> float:\n",
        "        \"\"\"Calculate fitness with penalty\"\"\"\n",
        "        params_hash = hash(params)\n",
        "        if params_hash in self.cache:\n",
        "            return self.cache[params_hash]\n",
        "        time_start = time.perf_counter()\n",
        "        total_cost = 0\n",
        "        for graph in self.instances:\n",
        "            ga = GeneticAlgorithmMWCCP(graph, params, verbose=False)\n",
        "            _, cost = ga.run()\n",
        "            total_cost += cost\n",
        "        time_end = time.perf_counter()\n",
        "        time_taken = time_end - time_start\n",
        "        fitness = - (total_cost + time_taken)\n",
        "        self.cache[params_hash] = fitness\n",
        "\n",
        "        return fitness\n",
        "\n",
        "    def _init_population(self) -> List[GAParameters]:\n",
        "        \"\"\"Initialize population\"\"\"\n",
        "        population = [GAParameters(\n",
        "            population_size=random.randint(*PARAMETER_RANGES[\"population_size\"]),\n",
        "            generations=random.randint(*PARAMETER_RANGES[\"generations\"]),\n",
        "            elite_size=random.randint(*PARAMETER_RANGES[\"elite_size\"]),\n",
        "            tournament_size=random.randint(*PARAMETER_RANGES[\"tournament_size\"]),\n",
        "            mutation_rate=random.uniform(*PARAMETER_RANGES[\"mutation_rate\"]),\n",
        "            crossover_rate=random.uniform(*PARAMETER_RANGES[\"crossover_rate\"]),\n",
        "            constraint_penalty=random.randint(*PARAMETER_RANGES[\"constraint_penalty\"])\n",
        "        ) for _ in range(self.params.population_size)]\n",
        "\n",
        "        return population\n",
        "\n",
        "    def _mutate(self, individual: GAParameters) -> GAParameters:\n",
        "        \"\"\"Mutate an individual\"\"\"\n",
        "        for field in PARAMETER_RANGES.keys():\n",
        "            if random.random() < self.params.mutation_rate:\n",
        "                value_range = (PARAMETER_RANGES[field][1] - PARAMETER_RANGES[field][0]) / 10\n",
        "                old_value = getattr(individual, field)\n",
        "                new_value = old_value + (random.uniform(-value_range, value_range) if isinstance(old_value, float) else random.randint(-int(value_range), int(value_range)))\n",
        "                new_value = max(PARAMETER_RANGES[field][0], min(PARAMETER_RANGES[field][1], new_value))\n",
        "                setattr(individual, field, new_value)\n",
        "        return individual\n",
        "\n",
        "    def weighted_random_probability(self, population: List[GAParameters], fitnesses: List[float]) -> GAParameters:\n",
        "        min_fitness = min(fitnesses)\n",
        "        normalized_fitnesses = [f - min_fitness for f in fitnesses]\n",
        "        total_fitness = sum(normalized_fitnesses)\n",
        "        probabilities = [f / total_fitness for f in normalized_fitnesses]\n",
        "\n",
        "        return probabilities\n",
        "\n",
        "    def _generate_new_generation(self, population: List[GAParameters], fitnesses: List[float]) -> List[GAParameters]:\n",
        "        next_generation = []\n",
        "\n",
        "        # Elitism\n",
        "        elite_indices = sorted(range(len(fitnesses)), key=lambda i: fitnesses[i], reverse=True)\n",
        "        next_generation.extend([population[i] for i in elite_indices[:self.params.elite_size]])\n",
        "\n",
        "        # Generate offspring\n",
        "        while len(next_generation) < self.params.population_size:\n",
        "            probabilities = self.weighted_random_probability(population, fitnesses)\n",
        "            if random.random() < self.params.crossover_rate:\n",
        "                parent1, parent2 = random.choices(population, weights=probabilities, k=2)\n",
        "                child = GAParameters(\n",
        "                    population_size=parent1.population_size if random.random() < 0.5 else parent2.population_size,\n",
        "                    generations=parent1.generations if random.random() < 0.5 else parent2.generations,\n",
        "                    elite_size=parent1.elite_size if random.random() < 0.5 else parent2.elite_size,\n",
        "                    tournament_size=parent1.tournament_size if random.random() < 0.5 else parent2.tournament_size,\n",
        "                    mutation_rate=parent1.mutation_rate if random.random() < 0.5 else parent2.mutation_rate,\n",
        "                    crossover_rate=parent1.crossover_rate if random.random() < 0.5 else parent2.crossover_rate,\n",
        "                    constraint_penalty=parent1.constraint_penalty if random.random() < 0.5 else parent2.constraint_penalty\n",
        "                )\n",
        "            else:\n",
        "                child = self._tournament_selection(population, fitnesses)\n",
        "\n",
        "            child = self._mutate(child)\n",
        "            next_generation.append(child)\n",
        "\n",
        "        return next_generation\n",
        "\n",
        "    def run_generation(self, population: List[any]) -> Tuple[List[any], List[float]]:\n",
        "        best_params, best_fitness = super().run_generation(population)\n",
        "        print(f\"Parameters: {best_params}\")\n",
        "        print(f\"Fitness: {best_fitness}\")\n",
        "        return best_params, best_fitness\n"
      ],
      "outputs": [],
      "execution_count": null
    },
    {
      "cell_type": "code",
      "source": [
        "graph = load_instance(items_test_med[0])\n",
        "cost_function_bit(graph, graph.V)"
      ],
      "metadata": {
        "colab": {
          "base_uri": "https://localhost:8080/"
        },
        "id": "GD2UbL9rQW7s",
        "outputId": "020d957f-663f-48ac-f380-8b23f804da57",
        "ExecuteTime": {
          "end_time": "2025-01-05T18:25:41.442797Z",
          "start_time": "2025-01-05T18:25:41.435026Z"
        }
      },
      "outputs": [
        {
          "data": {
            "text/plain": [
              "863420.0"
            ]
          },
          "execution_count": 6,
          "metadata": {},
          "output_type": "execute_result"
        }
      ],
      "execution_count": null
    },
    {
      "cell_type": "code",
      "source": [
        "params = GAParameters(\n",
        "    population_size=100,\n",
        "    generations=200,\n",
        "    elite_size=10,\n",
        "    tournament_size=10,\n",
        "    mutation_rate=0.2,\n",
        "    crossover_rate=0.8,\n",
        "    constraint_penalty=10000000\n",
        ")\n",
        "# Solve the problem\n",
        "solution, cost = solve_mwccp(graph, params)\n",
        "print(f\"Minimum weighted crossing cost: {cost}\")"
      ],
      "metadata": {
        "colab": {
          "base_uri": "https://localhost:8080/"
        },
        "id": "hAH6kLxRPquJ",
        "outputId": "07fd784f-6398-43f3-cac0-3fb1d2aed67f",
        "ExecuteTime": {
          "end_time": "2025-01-05T12:38:40.541657Z",
          "start_time": "2025-01-05T12:37:50.755465Z"
        }
      },
      "outputs": [
        {
          "name": "stdout",
          "output_type": "stream",
          "text": [
            "Generation 1/200\n",
            "Generation 2/200\n",
            "Generation 3/200\n",
            "Generation 4/200\n",
            "Generation 5/200\n",
            "Generation 6/200\n",
            "Generation 7/200\n",
            "Generation 8/200\n",
            "Generation 9/200\n",
            "Generation 10/200\n",
            "Generation 11/200\n",
            "Generation 12/200\n",
            "Generation 13/200\n",
            "Generation 14/200\n",
            "Generation 15/200\n",
            "Generation 16/200\n",
            "Generation 17/200\n",
            "Generation 18/200\n",
            "Generation 19/200\n",
            "Generation 20/200\n",
            "Generation 21/200\n",
            "Generation 22/200\n",
            "Generation 23/200\n",
            "Generation 24/200\n",
            "Generation 25/200\n",
            "Generation 26/200\n",
            "Generation 27/200\n",
            "Generation 28/200\n",
            "Generation 29/200\n",
            "Generation 30/200\n",
            "Generation 31/200\n",
            "Generation 32/200\n",
            "Generation 33/200\n",
            "Generation 34/200\n",
            "Generation 35/200\n",
            "Generation 36/200\n",
            "Generation 37/200\n",
            "Generation 38/200\n",
            "Generation 39/200\n",
            "Generation 40/200\n",
            "Generation 41/200\n",
            "Generation 42/200\n",
            "Generation 43/200\n",
            "Generation 44/200\n",
            "Generation 45/200\n",
            "Generation 46/200\n",
            "Generation 47/200\n",
            "Generation 48/200\n",
            "Generation 49/200\n",
            "Generation 50/200\n",
            "Generation 51/200\n",
            "Generation 52/200\n",
            "Generation 53/200\n",
            "Generation 54/200\n",
            "Generation 55/200\n",
            "Generation 56/200\n",
            "Generation 57/200\n",
            "Generation 58/200\n",
            "Generation 59/200\n",
            "Generation 60/200\n",
            "Generation 61/200\n",
            "Generation 62/200\n",
            "Generation 63/200\n",
            "Generation 64/200\n",
            "Generation 65/200\n",
            "Generation 66/200\n",
            "Generation 67/200\n",
            "Generation 68/200\n",
            "Generation 69/200\n",
            "Generation 70/200\n",
            "Generation 71/200\n",
            "Generation 72/200\n",
            "Generation 73/200\n",
            "Generation 74/200\n",
            "Generation 75/200\n",
            "Generation 76/200\n",
            "Generation 77/200\n",
            "Generation 78/200\n",
            "Generation 79/200\n",
            "Generation 80/200\n",
            "Generation 81/200\n",
            "Generation 82/200\n",
            "Generation 83/200\n",
            "Generation 84/200\n",
            "Generation 85/200\n",
            "Generation 86/200\n",
            "Generation 87/200\n",
            "Generation 88/200\n",
            "Generation 89/200\n",
            "Generation 90/200\n",
            "Generation 91/200\n",
            "Generation 92/200\n",
            "Generation 93/200\n",
            "Generation 94/200\n",
            "Generation 95/200\n",
            "Generation 96/200\n",
            "Generation 97/200\n",
            "Generation 98/200\n",
            "Generation 99/200\n",
            "Generation 100/200\n",
            "Generation 101/200\n",
            "Generation 102/200\n",
            "Generation 103/200\n",
            "Generation 104/200\n",
            "Generation 105/200\n",
            "Generation 106/200\n",
            "Generation 107/200\n",
            "Generation 108/200\n",
            "Generation 109/200\n",
            "Generation 110/200\n",
            "Generation 111/200\n",
            "Generation 112/200\n",
            "Generation 113/200\n",
            "Generation 114/200\n",
            "Generation 115/200\n",
            "Generation 116/200\n",
            "Generation 117/200\n",
            "Generation 118/200\n",
            "Generation 119/200\n",
            "Generation 120/200\n",
            "Generation 121/200\n",
            "Generation 122/200\n",
            "Generation 123/200\n",
            "Generation 124/200\n",
            "Generation 125/200\n",
            "Generation 126/200\n",
            "Generation 127/200\n",
            "Generation 128/200\n",
            "Generation 129/200\n",
            "Generation 130/200\n",
            "Generation 131/200\n",
            "Generation 132/200\n",
            "Generation 133/200\n",
            "Generation 134/200\n",
            "Generation 135/200\n",
            "Generation 136/200\n",
            "Generation 137/200\n",
            "Generation 138/200\n",
            "Generation 139/200\n",
            "Generation 140/200\n",
            "Generation 141/200\n",
            "Generation 142/200\n",
            "Generation 143/200\n",
            "Generation 144/200\n",
            "Generation 145/200\n",
            "Generation 146/200\n",
            "Generation 147/200\n",
            "Generation 148/200\n",
            "Generation 149/200\n",
            "Generation 150/200\n",
            "Generation 151/200\n",
            "Generation 152/200\n",
            "Generation 153/200\n",
            "Generation 154/200\n",
            "Generation 155/200\n",
            "Generation 156/200\n",
            "Generation 157/200\n",
            "Generation 158/200\n",
            "Generation 159/200\n",
            "Generation 160/200\n",
            "Generation 161/200\n",
            "Generation 162/200\n",
            "Generation 163/200\n",
            "Generation 164/200\n",
            "Generation 165/200\n",
            "Generation 166/200\n",
            "Generation 167/200\n",
            "Generation 168/200\n",
            "Generation 169/200\n",
            "Generation 170/200\n",
            "Generation 171/200\n",
            "Generation 172/200\n",
            "Generation 173/200\n",
            "Generation 174/200\n",
            "Generation 175/200\n",
            "Generation 176/200\n",
            "Generation 177/200\n",
            "Generation 178/200\n",
            "Generation 179/200\n",
            "Generation 180/200\n",
            "Generation 181/200\n",
            "Generation 182/200\n",
            "Generation 183/200\n",
            "Generation 184/200\n",
            "Generation 185/200\n",
            "Generation 186/200\n",
            "Generation 187/200\n",
            "Generation 188/200\n",
            "Generation 189/200\n",
            "Generation 190/200\n",
            "Generation 191/200\n",
            "Generation 192/200\n",
            "Generation 193/200\n",
            "Generation 194/200\n",
            "Generation 195/200\n",
            "Generation 196/200\n",
            "Generation 197/200\n",
            "Generation 198/200\n",
            "Generation 199/200\n",
            "Generation 200/200\n",
            "Minimum weighted crossing cost: 751432.0\n"
          ]
        }
      ],
      "execution_count": null
    },
    {
      "cell_type": "code",
      "source": [
        "instance_name = os.path.basename(items[0])\n",
        "with open(f\"{instance_name}_ga.txt\", \"w\") as f:\n",
        "    f.write(instance_name + \"\\n\")\n",
        "    f.write(\" \".join(map(str, solution)) + \"\\n\")"
      ],
      "metadata": {
        "id": "6AtP6c1fbU0p"
      },
      "execution_count": null,
      "outputs": []
    },
    {
      "metadata": {
        "ExecuteTime": {
          "end_time": "2025-01-04T18:41:03.931902Z",
          "start_time": "2025-01-04T17:43:37.922057Z"
        },
        "id": "ubEpJEOq5ExH",
        "outputId": "bdc2b488-96cd-4159-ed37-da25bd5513c8"
      },
      "cell_type": "code",
      "source": [
        "# Optimize parameters\n",
        "instances = [*items_test_small]\n",
        "optimizer_params = GAParameters(\n",
        "    population_size=20,\n",
        "    generations=25,\n",
        "    elite_size=3,\n",
        "    tournament_size=5,\n",
        "    mutation_rate=0.2,\n",
        "    crossover_rate=0.8,\n",
        "    constraint_penalty=0\n",
        ")\n",
        "ga_optimizer = GeneticAlgorithmParameterOptimization(instances, optimizer_params)\n",
        "best_params, best_fitness = ga_optimizer.run()\n",
        "print(f\"Best parameters: {dataclasses.asdict(best_params)}\")\n",
        "print(f\"Best fitness: {best_fitness}\")"
      ],
      "outputs": [
        {
          "name": "stdout",
          "output_type": "stream",
          "text": [
            "Generation 1/25\n",
            "Parameters: [GAParameters(population_size=130, generations=191, elite_size=3, tournament_size=6, mutation_rate=0.134800602132532, crossover_rate=0.6523533249822608, constraint_penalty=235806), GAParameters(population_size=58, generations=192, elite_size=3, tournament_size=9, mutation_rate=0.4129629406535198, crossover_rate=0.9827076647806352, constraint_penalty=251533), GAParameters(population_size=134, generations=151, elite_size=5, tournament_size=10, mutation_rate=0.22867503601080968, crossover_rate=0.5435843580621875, constraint_penalty=334095), GAParameters(population_size=48, generations=155, elite_size=20, tournament_size=17, mutation_rate=0.10469598622186926, crossover_rate=0.6392350982856432, constraint_penalty=619334), GAParameters(population_size=83, generations=142, elite_size=9, tournament_size=3, mutation_rate=0.47479617124250445, crossover_rate=0.5964910106310068, constraint_penalty=562395), GAParameters(population_size=153, generations=142, elite_size=5, tournament_size=10, mutation_rate=0.31332061249950693, crossover_rate=0.6219873050399, constraint_penalty=995972), GAParameters(population_size=130, generations=191, elite_size=3, tournament_size=6, mutation_rate=0.134800602132532, crossover_rate=0.6523533249822608, constraint_penalty=235806), GAParameters(population_size=190, generations=135, elite_size=7, tournament_size=10, mutation_rate=0.3482459397482228, crossover_rate=0.6219873050399, constraint_penalty=111057), GAParameters(population_size=194, generations=140, elite_size=12, tournament_size=5, mutation_rate=0.3171932147193151, crossover_rate=0.6179901057619283, constraint_penalty=515629), GAParameters(population_size=165, generations=101, elite_size=13, tournament_size=7, mutation_rate=0.29193717814591, crossover_rate=0.6893816662740518, constraint_penalty=238197), GAParameters(population_size=99, generations=142, elite_size=9, tournament_size=7, mutation_rate=0.19256715277217606, crossover_rate=0.5697155631287408, constraint_penalty=535295), GAParameters(population_size=135, generations=13, elite_size=18, tournament_size=18, mutation_rate=0.43793944199586, crossover_rate=0.7245373141846849, constraint_penalty=447913), GAParameters(population_size=41, generations=108, elite_size=7, tournament_size=3, mutation_rate=0.31332061249950693, crossover_rate=0.6219873050399, constraint_penalty=995972), GAParameters(population_size=190, generations=135, elite_size=10, tournament_size=3, mutation_rate=0.3482459397482228, crossover_rate=0.8883992042289659, constraint_penalty=111057), GAParameters(population_size=32, generations=172, elite_size=12, tournament_size=17, mutation_rate=0.18751469791648354, crossover_rate=0.6685886197047731, constraint_penalty=875305), GAParameters(population_size=190, generations=135, elite_size=10, tournament_size=3, mutation_rate=0.3482459397482228, crossover_rate=0.8883992042289659, constraint_penalty=111057), GAParameters(population_size=117, generations=133, elite_size=3, tournament_size=20, mutation_rate=0.4689514360704567, crossover_rate=0.6523533249822608, constraint_penalty=235806), GAParameters(population_size=58, generations=192, elite_size=3, tournament_size=9, mutation_rate=0.4129629406535198, crossover_rate=0.9827076647806352, constraint_penalty=251533), GAParameters(population_size=23, generations=139, elite_size=1, tournament_size=5, mutation_rate=0.44110117827532125, crossover_rate=0.6886346778179101, constraint_penalty=251533), GAParameters(population_size=130, generations=192, elite_size=3, tournament_size=6, mutation_rate=0.16399094251123997, crossover_rate=0.6563019629289355, constraint_penalty=390177)]\n",
            "Fitness: [-129229.62140937502, -130932.36383091699, -129797.878989625, -129969.43165383302, -129256.005313792, -129238.495123, -129994.358736875, -129575.22318937498, -129761.20977774999, -131586.46063570798, -129318.29720154102, -129403.61823637501, -129433.264750125, -131487.89391945902, -131347.589909083, -129236.52929604199, -129260.603772959, -129249.53446904101, -129217.834621333, -129249.069535958]\n",
            "Generation 2/25\n",
            "Parameters: [GAParameters(population_size=58, generations=192, elite_size=3, tournament_size=9, mutation_rate=0.4129629406535198, crossover_rate=0.9827076647806352, constraint_penalty=251533), GAParameters(population_size=58, generations=192, elite_size=3, tournament_size=9, mutation_rate=0.4129629406535198, crossover_rate=0.9827076647806352, constraint_penalty=251533), GAParameters(population_size=126, generations=169, elite_size=5, tournament_size=10, mutation_rate=0.22867503601080968, crossover_rate=0.5435843580621875, constraint_penalty=334095), GAParameters(population_size=126, generations=169, elite_size=5, tournament_size=10, mutation_rate=0.22867503601080968, crossover_rate=0.5435843580621875, constraint_penalty=334095), GAParameters(population_size=190, generations=142, elite_size=9, tournament_size=7, mutation_rate=0.3482459397482228, crossover_rate=0.5697155631287408, constraint_penalty=598016), GAParameters(population_size=58, generations=192, elite_size=3, tournament_size=9, mutation_rate=0.44281181347282383, crossover_rate=0.6437564027134977, constraint_penalty=249109), GAParameters(population_size=41, generations=187, elite_size=7, tournament_size=6, mutation_rate=0.31332061249950693, crossover_rate=0.6219873050399, constraint_penalty=995972), GAParameters(population_size=58, generations=142, elite_size=9, tournament_size=9, mutation_rate=0.1578877442606652, crossover_rate=0.5697155631287408, constraint_penalty=251533), GAParameters(population_size=164, generations=142, elite_size=12, tournament_size=5, mutation_rate=0.2872850612354945, crossover_rate=0.6130867923695629, constraint_penalty=515629), GAParameters(population_size=32, generations=172, elite_size=13, tournament_size=17, mutation_rate=0.29193717814591, crossover_rate=0.6930893018457389, constraint_penalty=165069), GAParameters(population_size=130, generations=191, elite_size=3, tournament_size=6, mutation_rate=0.31332061249950693, crossover_rate=0.6219873050399, constraint_penalty=235806), GAParameters(population_size=190, generations=134, elite_size=7, tournament_size=10, mutation_rate=0.3482459397482228, crossover_rate=0.6219873050399, constraint_penalty=111057), GAParameters(population_size=130, generations=192, elite_size=13, tournament_size=7, mutation_rate=0.29193717814591, crossover_rate=0.6893816662740518, constraint_penalty=238197), GAParameters(population_size=117, generations=133, elite_size=2, tournament_size=20, mutation_rate=0.31332061249950693, crossover_rate=0.6523533249822608, constraint_penalty=235806), GAParameters(population_size=48, generations=155, elite_size=3, tournament_size=17, mutation_rate=0.4689514360704567, crossover_rate=0.6392350982856432, constraint_penalty=619334), GAParameters(population_size=178, generations=142, elite_size=9, tournament_size=10, mutation_rate=0.3482459397482228, crossover_rate=0.6219873050399, constraint_penalty=535295), GAParameters(population_size=123, generations=191, elite_size=9, tournament_size=6, mutation_rate=0.19256715277217606, crossover_rate=0.5697155631287408, constraint_penalty=535295), GAParameters(population_size=48, generations=155, elite_size=20, tournament_size=8, mutation_rate=0.4129629406535198, crossover_rate=0.6392350982856432, constraint_penalty=529862), GAParameters(population_size=153, generations=142, elite_size=5, tournament_size=10, mutation_rate=0.1931603520327803, crossover_rate=0.6219873050399, constraint_penalty=535295), GAParameters(population_size=58, generations=192, elite_size=3, tournament_size=9, mutation_rate=0.4129629406535198, crossover_rate=0.9345247051382505, constraint_penalty=251533)]\n",
            "Fitness: [-129261.95287425001, -129229.62140937502, -129236.52929604199, -129819.424703458, -129236.75728645799, -129261.00589091697, -129261.95287425001, -129267.61410966699, -129264.029719291, -129261.74538158398, -129318.57931962502, -131582.333097375, -129620.98696816698, -129318.29720154102, -129786.25029145801, -129318.29720154102, -129242.5434545, -129229.62140937502, -129296.55595179199, -129292.61619583398]\n",
            "Generation 3/25\n",
            "Parameters: [GAParameters(population_size=58, generations=192, elite_size=3, tournament_size=9, mutation_rate=0.4129629406535198, crossover_rate=0.9827076647806352, constraint_penalty=251533), GAParameters(population_size=58, generations=192, elite_size=3, tournament_size=9, mutation_rate=0.4129629406535198, crossover_rate=0.9827076647806352, constraint_penalty=251533), GAParameters(population_size=48, generations=155, elite_size=3, tournament_size=17, mutation_rate=0.4689514360704567, crossover_rate=0.6392350982856432, constraint_penalty=619334), GAParameters(population_size=58, generations=146, elite_size=9, tournament_size=9, mutation_rate=0.4129629406535198, crossover_rate=0.5697155631287408, constraint_penalty=297183), GAParameters(population_size=58, generations=192, elite_size=3, tournament_size=9, mutation_rate=0.4129629406535198, crossover_rate=0.9827076647806352, constraint_penalty=251533), GAParameters(population_size=58, generations=192, elite_size=3, tournament_size=9, mutation_rate=0.38412516076637476, crossover_rate=0.9827076647806352, constraint_penalty=174923), GAParameters(population_size=126, generations=200, elite_size=3, tournament_size=9, mutation_rate=0.22867503601080968, crossover_rate=0.6437564027134977, constraint_penalty=249109), GAParameters(population_size=58, generations=200, elite_size=3, tournament_size=9, mutation_rate=0.44281181347282383, crossover_rate=0.6437564027134977, constraint_penalty=175110), GAParameters(population_size=58, generations=192, elite_size=3, tournament_size=10, mutation_rate=0.4129629406535198, crossover_rate=0.9827076647806352, constraint_penalty=251533), GAParameters(population_size=153, generations=142, elite_size=5, tournament_size=10, mutation_rate=0.1931603520327803, crossover_rate=0.5697155631287408, constraint_penalty=535295), GAParameters(population_size=117, generations=191, elite_size=1, tournament_size=10, mutation_rate=0.31332061249950693, crossover_rate=0.6219873050399, constraint_penalty=235806), GAParameters(population_size=58, generations=169, elite_size=5, tournament_size=11, mutation_rate=0.44281181347282383, crossover_rate=0.6437564027134977, constraint_penalty=175110), GAParameters(population_size=123, generations=132, elite_size=9, tournament_size=6, mutation_rate=0.3482459397482228, crossover_rate=0.5697155631287408, constraint_penalty=511471), GAParameters(population_size=48, generations=155, elite_size=3, tournament_size=17, mutation_rate=0.4689514360704567, crossover_rate=0.6392350982856432, constraint_penalty=619334), GAParameters(population_size=123, generations=191, elite_size=3, tournament_size=6, mutation_rate=0.19256715277217606, crossover_rate=0.6219873050399, constraint_penalty=184308), GAParameters(population_size=130, generations=169, elite_size=5, tournament_size=10, mutation_rate=0.22867503601080968, crossover_rate=0.6523533249822608, constraint_penalty=334095), GAParameters(population_size=58, generations=200, elite_size=3, tournament_size=9, mutation_rate=0.44281181347282383, crossover_rate=0.6437564027134977, constraint_penalty=175110), GAParameters(population_size=126, generations=142, elite_size=5, tournament_size=9, mutation_rate=0.22867503601080968, crossover_rate=0.5435843580621875, constraint_penalty=395697), GAParameters(population_size=58, generations=192, elite_size=3, tournament_size=9, mutation_rate=0.4501387155820347, crossover_rate=0.9827076647806352, constraint_penalty=619334), GAParameters(population_size=58, generations=142, elite_size=5, tournament_size=10, mutation_rate=0.1931603520327803, crossover_rate=0.6437564027134977, constraint_penalty=175110)]\n",
            "Fitness: [-129229.62140937502, -129229.62140937502, -129275.89311895901, -129275.89311895901, -129250.34272804199, -129239.5478955, -129308.981858166, -129381.779095417, -129265.279010417, -129540.77995595802, -129260.66219545901, -129271.87145975002, -129272.06553025, -129245.14545474999, -129231.08098754202, -129264.06446954198, -129253.04842095799, -129281.87685133397, -129256.97655654201, -129241.037322333]\n",
            "Generation 4/25\n",
            "Parameters: [GAParameters(population_size=51, generations=200, elite_size=1, tournament_size=8, mutation_rate=0.44281181347282383, crossover_rate=0.6586322957543138, constraint_penalty=175110), GAParameters(population_size=51, generations=200, elite_size=1, tournament_size=8, mutation_rate=0.44281181347282383, crossover_rate=0.6586322957543138, constraint_penalty=175110), GAParameters(population_size=58, generations=192, elite_size=3, tournament_size=9, mutation_rate=0.4129629406535198, crossover_rate=0.9827076647806352, constraint_penalty=251533), GAParameters(population_size=130, generations=169, elite_size=5, tournament_size=9, mutation_rate=0.22867503601080968, crossover_rate=0.6523533249822608, constraint_penalty=192015), GAParameters(population_size=58, generations=192, elite_size=3, tournament_size=10, mutation_rate=0.4129629406535198, crossover_rate=0.9827076647806352, constraint_penalty=251533), GAParameters(population_size=58, generations=192, elite_size=3, tournament_size=9, mutation_rate=0.44281181347282383, crossover_rate=0.9827076647806352, constraint_penalty=175110), GAParameters(population_size=58, generations=200, elite_size=3, tournament_size=9, mutation_rate=0.44281181347282383, crossover_rate=0.960271515149887, constraint_penalty=174923), GAParameters(population_size=56, generations=155, elite_size=5, tournament_size=17, mutation_rate=0.39955326714454975, crossover_rate=0.6169657601351288, constraint_penalty=619334), GAParameters(population_size=58, generations=144, elite_size=5, tournament_size=11, mutation_rate=0.44281181347282383, crossover_rate=0.6437564027134977, constraint_penalty=619334), GAParameters(population_size=58, generations=192, elite_size=3, tournament_size=9, mutation_rate=0.4129629406535198, crossover_rate=0.9827076647806352, constraint_penalty=175110), GAParameters(population_size=48, generations=169, elite_size=3, tournament_size=10, mutation_rate=0.22867503601080968, crossover_rate=0.6677825042661841, constraint_penalty=334095), GAParameters(population_size=123, generations=192, elite_size=3, tournament_size=6, mutation_rate=0.4129629406535198, crossover_rate=0.9827076647806352, constraint_penalty=251533), GAParameters(population_size=124, generations=192, elite_size=3, tournament_size=9, mutation_rate=0.4129629406535198, crossover_rate=0.9827076647806352, constraint_penalty=251533), GAParameters(population_size=123, generations=200, elite_size=3, tournament_size=9, mutation_rate=0.44281181347282383, crossover_rate=0.6437564027134977, constraint_penalty=511471), GAParameters(population_size=48, generations=199, elite_size=3, tournament_size=17, mutation_rate=0.4501387155820347, crossover_rate=0.6392350982856432, constraint_penalty=619334), GAParameters(population_size=70, generations=192, elite_size=3, tournament_size=9, mutation_rate=0.4129629406535198, crossover_rate=1, constraint_penalty=251533), GAParameters(population_size=51, generations=200, elite_size=1, tournament_size=8, mutation_rate=0.44281181347282383, crossover_rate=0.6586322957543138, constraint_penalty=175110), GAParameters(population_size=51, generations=200, elite_size=1, tournament_size=8, mutation_rate=0.44281181347282383, crossover_rate=0.6586322957543138, constraint_penalty=175110), GAParameters(population_size=58, generations=178, elite_size=5, tournament_size=11, mutation_rate=0.44281181347282383, crossover_rate=0.6437564027134977, constraint_penalty=175110), GAParameters(population_size=48, generations=155, elite_size=3, tournament_size=17, mutation_rate=0.4689514360704567, crossover_rate=0.6392350982856432, constraint_penalty=605194)]\n",
            "Fitness: [-129229.62140937502, -129229.62140937502, -129231.08098754202, -129242.951547375, -129229.62140937502, -129232.357097959, -129282.82706849999, -129225.00018562502, -129235.05804937499, -129294.888316875, -129263.810539792, -129246.950800458, -129236.95402895898, -129231.08098754202, -129244.244113375, -129240.960762625, -129225.00018562502, -129259.266821083, -129272.13918395899, -129315.26916545801]\n",
            "Generation 5/25\n",
            "Parameters: [GAParameters(population_size=39, generations=200, elite_size=3, tournament_size=8, mutation_rate=0.4397136271768606, crossover_rate=0.6586322957543138, constraint_penalty=269884), GAParameters(population_size=39, generations=200, elite_size=3, tournament_size=8, mutation_rate=0.4397136271768606, crossover_rate=0.6586322957543138, constraint_penalty=269884), GAParameters(population_size=39, generations=200, elite_size=3, tournament_size=8, mutation_rate=0.4397136271768606, crossover_rate=0.6586322957543138, constraint_penalty=269884), GAParameters(population_size=58, generations=199, elite_size=3, tournament_size=11, mutation_rate=0.44281181347282383, crossover_rate=0.6437564027134977, constraint_penalty=175110), GAParameters(population_size=51, generations=128, elite_size=5, tournament_size=11, mutation_rate=0.44281181347282383, crossover_rate=0.6437564027134977, constraint_penalty=619334), GAParameters(population_size=58, generations=178, elite_size=5, tournament_size=11, mutation_rate=0.44281181347282383, crossover_rate=0.6437564027134977, constraint_penalty=100000), GAParameters(population_size=58, generations=178, elite_size=1, tournament_size=8, mutation_rate=0.44281181347282383, crossover_rate=0.9842494826568918, constraint_penalty=251533), GAParameters(population_size=56, generations=155, elite_size=1, tournament_size=6, mutation_rate=0.4129629406535198, crossover_rate=0.6537087529574714, constraint_penalty=556902), GAParameters(population_size=48, generations=200, elite_size=1, tournament_size=8, mutation_rate=0.44281181347282383, crossover_rate=0.6586322957543138, constraint_penalty=175110), GAParameters(population_size=123, generations=192, elite_size=3, tournament_size=6, mutation_rate=0.4105644489957778, crossover_rate=0.9827076647806352, constraint_penalty=251533), GAParameters(population_size=39, generations=200, elite_size=3, tournament_size=8, mutation_rate=0.4397136271768606, crossover_rate=0.6586322957543138, constraint_penalty=269884), GAParameters(population_size=39, generations=200, elite_size=5, tournament_size=17, mutation_rate=0.42785552617968625, crossover_rate=0.7014243151753171, constraint_penalty=619334), GAParameters(population_size=46, generations=192, elite_size=3, tournament_size=9, mutation_rate=0.4129629406535198, crossover_rate=0.9343054294145459, constraint_penalty=251533), GAParameters(population_size=39, generations=200, elite_size=5, tournament_size=9, mutation_rate=0.22867503601080968, crossover_rate=0.6586322957543138, constraint_penalty=192015), GAParameters(population_size=58, generations=192, elite_size=3, tournament_size=10, mutation_rate=0.4129629406535198, crossover_rate=0.9827076647806352, constraint_penalty=251533), GAParameters(population_size=39, generations=200, elite_size=3, tournament_size=8, mutation_rate=0.4397136271768606, crossover_rate=0.6586322957543138, constraint_penalty=269884), GAParameters(population_size=39, generations=144, elite_size=3, tournament_size=9, mutation_rate=0.4397136271768606, crossover_rate=0.6586322957543138, constraint_penalty=619334), GAParameters(population_size=70, generations=200, elite_size=3, tournament_size=8, mutation_rate=0.44281181347282383, crossover_rate=0.6388267195597259, constraint_penalty=284928), GAParameters(population_size=39, generations=200, elite_size=3, tournament_size=8, mutation_rate=0.4397136271768606, crossover_rate=0.6586322957543138, constraint_penalty=269884), GAParameters(population_size=107, generations=200, elite_size=5, tournament_size=9, mutation_rate=0.39955326714454975, crossover_rate=0.5870884505488702, constraint_penalty=565593)]\n",
            "Fitness: [-129224.55652020799, -129224.55652020799, -129229.62140937502, -129242.68520325, -129235.05804937499, -129235.67790804201, -129258.50632375001, -129224.68464170801, -129235.003713833, -129237.07980883299, -129373.68014449999, -129273.62578375, -129282.45206029201, -129255.788161167, -129237.719442208, -129243.53872083401, -129224.55652020799, -129224.55652020799, -129231.66446300002, -129278.590596083]\n",
            "Generation 6/25\n",
            "Parameters: [GAParameters(population_size=39, generations=200, elite_size=5, tournament_size=17, mutation_rate=0.42785552617968625, crossover_rate=0.7014243151753171, constraint_penalty=619334), GAParameters(population_size=70, generations=200, elite_size=3, tournament_size=8, mutation_rate=0.44281181347282383, crossover_rate=0.6388267195597259, constraint_penalty=284928), GAParameters(population_size=58, generations=192, elite_size=3, tournament_size=10, mutation_rate=0.4129629406535198, crossover_rate=0.9827076647806352, constraint_penalty=251533), GAParameters(population_size=107, generations=199, elite_size=3, tournament_size=11, mutation_rate=0.44281181347282383, crossover_rate=0.5870884505488702, constraint_penalty=148856), GAParameters(population_size=48, generations=200, elite_size=0, tournament_size=6, mutation_rate=0.4105644489957778, crossover_rate=0.6586322957543138, constraint_penalty=175110), GAParameters(population_size=39, generations=200, elite_size=3, tournament_size=8, mutation_rate=0.4092428234250648, crossover_rate=0.6961304242333971, constraint_penalty=269884), GAParameters(population_size=58, generations=148, elite_size=1, tournament_size=8, mutation_rate=0.4397136271768606, crossover_rate=0.9842494826568918, constraint_penalty=229514), GAParameters(population_size=58, generations=178, elite_size=1, tournament_size=8, mutation_rate=0.4150171862342422, crossover_rate=0.9842494826568918, constraint_penalty=269884), GAParameters(population_size=107, generations=200, elite_size=1, tournament_size=9, mutation_rate=0.44281181347282383, crossover_rate=0.9842494826568918, constraint_penalty=251533), GAParameters(population_size=39, generations=144, elite_size=3, tournament_size=9, mutation_rate=0.41098536644145867, crossover_rate=0.6586322957543138, constraint_penalty=269884), GAParameters(population_size=39, generations=178, elite_size=1, tournament_size=9, mutation_rate=0.4397136271768606, crossover_rate=0.6586322957543138, constraint_penalty=269884), GAParameters(population_size=48, generations=200, elite_size=3, tournament_size=7, mutation_rate=0.4397136271768606, crossover_rate=0.6586322957543138, constraint_penalty=175110), GAParameters(population_size=39, generations=131, elite_size=4, tournament_size=9, mutation_rate=0.4397136271768606, crossover_rate=0.6586322957543138, constraint_penalty=565593), GAParameters(population_size=107, generations=178, elite_size=1, tournament_size=9, mutation_rate=0.439441934452841, crossover_rate=0.5870884505488702, constraint_penalty=565593), GAParameters(population_size=56, generations=140, elite_size=1, tournament_size=17, mutation_rate=0.4129629406535198, crossover_rate=0.6537087529574714, constraint_penalty=619334), GAParameters(population_size=58, generations=200, elite_size=3, tournament_size=10, mutation_rate=0.4129629406535198, crossover_rate=0.6388267195597259, constraint_penalty=251533), GAParameters(population_size=123, generations=199, elite_size=3, tournament_size=11, mutation_rate=0.4105644489957778, crossover_rate=0.6437564027134977, constraint_penalty=100740), GAParameters(population_size=44, generations=184, elite_size=0, tournament_size=8, mutation_rate=0.44281181347282383, crossover_rate=0.9842494826568918, constraint_penalty=257116), GAParameters(population_size=39, generations=200, elite_size=1, tournament_size=9, mutation_rate=0.4397136271768606, crossover_rate=0.7014243151753171, constraint_penalty=631003), GAParameters(population_size=39, generations=200, elite_size=3, tournament_size=8, mutation_rate=0.4397136271768606, crossover_rate=0.6482733456857934, constraint_penalty=328714)]\n",
            "Fitness: [-129240.931209084, -129240.931209084, -129240.931209084, -129257.11065041699, -129267.033026625, -129245.014845375, -129235.86421641699, -129248.88308595898, -129235.53791050002, -129283.37583549999, -129240.931209084, -129215.57475587502, -129269.95822425, -129330.99305837502, -129235.05804937499, -129240.931209084, -129257.275352458, -129229.268243667, -129240.931209084, -129264.924890583]\n",
            "Generation 7/25\n"
          ]
        },
        {
          "ename": "KeyboardInterrupt",
          "evalue": "",
          "output_type": "error",
          "traceback": [
            "\u001b[0;31m---------------------------------------------------------------------------\u001b[0m",
            "\u001b[0;31mKeyboardInterrupt\u001b[0m                         Traceback (most recent call last)",
            "Cell \u001b[0;32mIn[65], line 13\u001b[0m\n\u001b[1;32m      3\u001b[0m optimizer_params \u001b[38;5;241m=\u001b[39m GAParameters(\n\u001b[1;32m      4\u001b[0m     population_size\u001b[38;5;241m=\u001b[39m\u001b[38;5;241m20\u001b[39m,\n\u001b[1;32m      5\u001b[0m     generations\u001b[38;5;241m=\u001b[39m\u001b[38;5;241m25\u001b[39m,\n\u001b[0;32m   (...)\u001b[0m\n\u001b[1;32m     10\u001b[0m     constraint_penalty\u001b[38;5;241m=\u001b[39m\u001b[38;5;241m0\u001b[39m\n\u001b[1;32m     11\u001b[0m )\n\u001b[1;32m     12\u001b[0m ga_optimizer \u001b[38;5;241m=\u001b[39m GeneticAlgorithmParameterOptimization(instances, optimizer_params)\n\u001b[0;32m---> 13\u001b[0m best_params, best_fitness \u001b[38;5;241m=\u001b[39m \u001b[43mga_optimizer\u001b[49m\u001b[38;5;241;43m.\u001b[39;49m\u001b[43mrun\u001b[49m\u001b[43m(\u001b[49m\u001b[43m)\u001b[49m\n\u001b[1;32m     14\u001b[0m \u001b[38;5;28mprint\u001b[39m(\u001b[38;5;124mf\u001b[39m\u001b[38;5;124m\"\u001b[39m\u001b[38;5;124mBest parameters: \u001b[39m\u001b[38;5;132;01m{\u001b[39;00mdataclasses\u001b[38;5;241m.\u001b[39masdict(best_params)\u001b[38;5;132;01m}\u001b[39;00m\u001b[38;5;124m\"\u001b[39m)\n\u001b[1;32m     15\u001b[0m \u001b[38;5;28mprint\u001b[39m(\u001b[38;5;124mf\u001b[39m\u001b[38;5;124m\"\u001b[39m\u001b[38;5;124mBest fitness: \u001b[39m\u001b[38;5;132;01m{\u001b[39;00mbest_fitness\u001b[38;5;132;01m}\u001b[39;00m\u001b[38;5;124m\"\u001b[39m)\n",
            "Cell \u001b[0;32mIn[50], line 81\u001b[0m, in \u001b[0;36mGeneticAlgorithm.run\u001b[0;34m(self)\u001b[0m\n\u001b[1;32m     79\u001b[0m     \u001b[38;5;28;01mif\u001b[39;00m \u001b[38;5;28mself\u001b[39m\u001b[38;5;241m.\u001b[39mverbose:\n\u001b[1;32m     80\u001b[0m         \u001b[38;5;28mprint\u001b[39m(\u001b[38;5;124mf\u001b[39m\u001b[38;5;124m\"\u001b[39m\u001b[38;5;124mGeneration \u001b[39m\u001b[38;5;132;01m{\u001b[39;00mgeneration\u001b[38;5;250m \u001b[39m\u001b[38;5;241m+\u001b[39m\u001b[38;5;250m \u001b[39m\u001b[38;5;241m1\u001b[39m\u001b[38;5;132;01m}\u001b[39;00m\u001b[38;5;124m/\u001b[39m\u001b[38;5;132;01m{\u001b[39;00m\u001b[38;5;28mself\u001b[39m\u001b[38;5;241m.\u001b[39mparams\u001b[38;5;241m.\u001b[39mgenerations\u001b[38;5;132;01m}\u001b[39;00m\u001b[38;5;124m\"\u001b[39m)\n\u001b[0;32m---> 81\u001b[0m     population, _ \u001b[38;5;241m=\u001b[39m \u001b[38;5;28;43mself\u001b[39;49m\u001b[38;5;241;43m.\u001b[39;49m\u001b[43mrun_generation\u001b[49m\u001b[43m(\u001b[49m\u001b[43mpopulation\u001b[49m\u001b[43m)\u001b[49m\n\u001b[1;32m     83\u001b[0m \u001b[38;5;28;01mreturn\u001b[39;00m \u001b[38;5;28mself\u001b[39m\u001b[38;5;241m.\u001b[39mbest_solution, \u001b[38;5;241m-\u001b[39m \u001b[38;5;28mself\u001b[39m\u001b[38;5;241m.\u001b[39mbest_fitness\n",
            "Cell \u001b[0;32mIn[64], line 101\u001b[0m, in \u001b[0;36mGeneticAlgorithmParameterOptimization.run_generation\u001b[0;34m(self, population)\u001b[0m\n\u001b[1;32m    100\u001b[0m \u001b[38;5;28;01mdef\u001b[39;00m \u001b[38;5;21mrun_generation\u001b[39m(\u001b[38;5;28mself\u001b[39m, population: List[\u001b[38;5;28many\u001b[39m]) \u001b[38;5;241m-\u001b[39m\u001b[38;5;241m>\u001b[39m Tuple[List[\u001b[38;5;28many\u001b[39m], List[\u001b[38;5;28mfloat\u001b[39m]]:\n\u001b[0;32m--> 101\u001b[0m     best_params, best_fitness \u001b[38;5;241m=\u001b[39m \u001b[38;5;28;43msuper\u001b[39;49m\u001b[43m(\u001b[49m\u001b[43m)\u001b[49m\u001b[38;5;241;43m.\u001b[39;49m\u001b[43mrun_generation\u001b[49m\u001b[43m(\u001b[49m\u001b[43mpopulation\u001b[49m\u001b[43m)\u001b[49m\n\u001b[1;32m    102\u001b[0m     \u001b[38;5;28mprint\u001b[39m(\u001b[38;5;124mf\u001b[39m\u001b[38;5;124m\"\u001b[39m\u001b[38;5;124mParameters: \u001b[39m\u001b[38;5;132;01m{\u001b[39;00mbest_params\u001b[38;5;132;01m}\u001b[39;00m\u001b[38;5;124m\"\u001b[39m)\n\u001b[1;32m    103\u001b[0m     \u001b[38;5;28mprint\u001b[39m(\u001b[38;5;124mf\u001b[39m\u001b[38;5;124m\"\u001b[39m\u001b[38;5;124mFitness: \u001b[39m\u001b[38;5;132;01m{\u001b[39;00mbest_fitness\u001b[38;5;132;01m}\u001b[39;00m\u001b[38;5;124m\"\u001b[39m)\n",
            "Cell \u001b[0;32mIn[50], line 55\u001b[0m, in \u001b[0;36mGeneticAlgorithm.run_generation\u001b[0;34m(self, population)\u001b[0m\n\u001b[1;32m     53\u001b[0m \u001b[38;5;28;01mdef\u001b[39;00m \u001b[38;5;21mrun_generation\u001b[39m(\u001b[38;5;28mself\u001b[39m, population: List[\u001b[38;5;28many\u001b[39m]) \u001b[38;5;241m-\u001b[39m\u001b[38;5;241m>\u001b[39m Tuple[List[\u001b[38;5;28many\u001b[39m], List[\u001b[38;5;28mfloat\u001b[39m]]:\n\u001b[1;32m     54\u001b[0m     \u001b[38;5;66;03m# Evaluate fitness of each individual\u001b[39;00m\n\u001b[0;32m---> 55\u001b[0m     fitnesses \u001b[38;5;241m=\u001b[39m \u001b[43m[\u001b[49m\u001b[38;5;28;43mself\u001b[39;49m\u001b[38;5;241;43m.\u001b[39;49m\u001b[43mfitness\u001b[49m\u001b[43m(\u001b[49m\u001b[43mind\u001b[49m\u001b[43m)\u001b[49m\u001b[43m \u001b[49m\u001b[38;5;28;43;01mfor\u001b[39;49;00m\u001b[43m \u001b[49m\u001b[43mind\u001b[49m\u001b[43m \u001b[49m\u001b[38;5;129;43;01min\u001b[39;49;00m\u001b[43m \u001b[49m\u001b[43mpopulation\u001b[49m\u001b[43m]\u001b[49m\n\u001b[1;32m     57\u001b[0m     \u001b[38;5;66;03m# Store statistics\u001b[39;00m\n\u001b[1;32m     58\u001b[0m     gen_best_fitness \u001b[38;5;241m=\u001b[39m \u001b[38;5;28mmax\u001b[39m(fitnesses)\n",
            "Cell \u001b[0;32mIn[50], line 55\u001b[0m, in \u001b[0;36m<listcomp>\u001b[0;34m(.0)\u001b[0m\n\u001b[1;32m     53\u001b[0m \u001b[38;5;28;01mdef\u001b[39;00m \u001b[38;5;21mrun_generation\u001b[39m(\u001b[38;5;28mself\u001b[39m, population: List[\u001b[38;5;28many\u001b[39m]) \u001b[38;5;241m-\u001b[39m\u001b[38;5;241m>\u001b[39m Tuple[List[\u001b[38;5;28many\u001b[39m], List[\u001b[38;5;28mfloat\u001b[39m]]:\n\u001b[1;32m     54\u001b[0m     \u001b[38;5;66;03m# Evaluate fitness of each individual\u001b[39;00m\n\u001b[0;32m---> 55\u001b[0m     fitnesses \u001b[38;5;241m=\u001b[39m [\u001b[38;5;28;43mself\u001b[39;49m\u001b[38;5;241;43m.\u001b[39;49m\u001b[43mfitness\u001b[49m\u001b[43m(\u001b[49m\u001b[43mind\u001b[49m\u001b[43m)\u001b[49m \u001b[38;5;28;01mfor\u001b[39;00m ind \u001b[38;5;129;01min\u001b[39;00m population]\n\u001b[1;32m     57\u001b[0m     \u001b[38;5;66;03m# Store statistics\u001b[39;00m\n\u001b[1;32m     58\u001b[0m     gen_best_fitness \u001b[38;5;241m=\u001b[39m \u001b[38;5;28mmax\u001b[39m(fitnesses)\n",
            "Cell \u001b[0;32mIn[64], line 29\u001b[0m, in \u001b[0;36mGeneticAlgorithmParameterOptimization.fitness\u001b[0;34m(self, params)\u001b[0m\n\u001b[1;32m     27\u001b[0m \u001b[38;5;28;01mfor\u001b[39;00m graph \u001b[38;5;129;01min\u001b[39;00m \u001b[38;5;28mself\u001b[39m\u001b[38;5;241m.\u001b[39minstances:\n\u001b[1;32m     28\u001b[0m     ga \u001b[38;5;241m=\u001b[39m GeneticAlgorithmMWCCP(graph, params, verbose\u001b[38;5;241m=\u001b[39m\u001b[38;5;28;01mFalse\u001b[39;00m)\n\u001b[0;32m---> 29\u001b[0m     _, cost \u001b[38;5;241m=\u001b[39m \u001b[43mga\u001b[49m\u001b[38;5;241;43m.\u001b[39;49m\u001b[43mrun\u001b[49m\u001b[43m(\u001b[49m\u001b[43m)\u001b[49m\n\u001b[1;32m     30\u001b[0m     total_cost \u001b[38;5;241m+\u001b[39m\u001b[38;5;241m=\u001b[39m cost\n\u001b[1;32m     31\u001b[0m time_end \u001b[38;5;241m=\u001b[39m time\u001b[38;5;241m.\u001b[39mperf_counter()\n",
            "Cell \u001b[0;32mIn[50], line 81\u001b[0m, in \u001b[0;36mGeneticAlgorithm.run\u001b[0;34m(self)\u001b[0m\n\u001b[1;32m     79\u001b[0m     \u001b[38;5;28;01mif\u001b[39;00m \u001b[38;5;28mself\u001b[39m\u001b[38;5;241m.\u001b[39mverbose:\n\u001b[1;32m     80\u001b[0m         \u001b[38;5;28mprint\u001b[39m(\u001b[38;5;124mf\u001b[39m\u001b[38;5;124m\"\u001b[39m\u001b[38;5;124mGeneration \u001b[39m\u001b[38;5;132;01m{\u001b[39;00mgeneration\u001b[38;5;250m \u001b[39m\u001b[38;5;241m+\u001b[39m\u001b[38;5;250m \u001b[39m\u001b[38;5;241m1\u001b[39m\u001b[38;5;132;01m}\u001b[39;00m\u001b[38;5;124m/\u001b[39m\u001b[38;5;132;01m{\u001b[39;00m\u001b[38;5;28mself\u001b[39m\u001b[38;5;241m.\u001b[39mparams\u001b[38;5;241m.\u001b[39mgenerations\u001b[38;5;132;01m}\u001b[39;00m\u001b[38;5;124m\"\u001b[39m)\n\u001b[0;32m---> 81\u001b[0m     population, _ \u001b[38;5;241m=\u001b[39m \u001b[38;5;28;43mself\u001b[39;49m\u001b[38;5;241;43m.\u001b[39;49m\u001b[43mrun_generation\u001b[49m\u001b[43m(\u001b[49m\u001b[43mpopulation\u001b[49m\u001b[43m)\u001b[49m\n\u001b[1;32m     83\u001b[0m \u001b[38;5;28;01mreturn\u001b[39;00m \u001b[38;5;28mself\u001b[39m\u001b[38;5;241m.\u001b[39mbest_solution, \u001b[38;5;241m-\u001b[39m \u001b[38;5;28mself\u001b[39m\u001b[38;5;241m.\u001b[39mbest_fitness\n",
            "Cell \u001b[0;32mIn[50], line 69\u001b[0m, in \u001b[0;36mGeneticAlgorithm.run_generation\u001b[0;34m(self, population)\u001b[0m\n\u001b[1;32m     66\u001b[0m     \u001b[38;5;28mself\u001b[39m\u001b[38;5;241m.\u001b[39mbest_solution \u001b[38;5;241m=\u001b[39m population[best_idx]\n\u001b[1;32m     68\u001b[0m \u001b[38;5;66;03m# Create next generation\u001b[39;00m\n\u001b[0;32m---> 69\u001b[0m population \u001b[38;5;241m=\u001b[39m \u001b[38;5;28;43mself\u001b[39;49m\u001b[38;5;241;43m.\u001b[39;49m\u001b[43m_generate_new_generation\u001b[49m\u001b[43m(\u001b[49m\u001b[43mpopulation\u001b[49m\u001b[43m,\u001b[49m\u001b[43m \u001b[49m\u001b[43mfitnesses\u001b[49m\u001b[43m)\u001b[49m\n\u001b[1;32m     71\u001b[0m \u001b[38;5;28;01mreturn\u001b[39;00m population, fitnesses\n",
            "Cell \u001b[0;32mIn[50], line 203\u001b[0m, in \u001b[0;36mGeneticAlgorithmMWCCP._generate_new_generation\u001b[0;34m(self, population, fitnesses)\u001b[0m\n\u001b[1;32m    200\u001b[0m         child \u001b[38;5;241m=\u001b[39m \u001b[38;5;28mself\u001b[39m\u001b[38;5;241m.\u001b[39m_tournament_selection(population, fitnesses)\u001b[38;5;241m.\u001b[39mcopy()\n\u001b[1;32m    202\u001b[0m     child \u001b[38;5;241m=\u001b[39m \u001b[38;5;28mself\u001b[39m\u001b[38;5;241m.\u001b[39m_swap_mutation(child)\n\u001b[0;32m--> 203\u001b[0m     child \u001b[38;5;241m=\u001b[39m \u001b[38;5;28;43mself\u001b[39;49m\u001b[38;5;241;43m.\u001b[39;49m\u001b[43m_repair_individual\u001b[49m\u001b[43m(\u001b[49m\u001b[43mchild\u001b[49m\u001b[43m)\u001b[49m\n\u001b[1;32m    204\u001b[0m     next_generation\u001b[38;5;241m.\u001b[39mappend(child)\n\u001b[1;32m    206\u001b[0m \u001b[38;5;28;01mreturn\u001b[39;00m next_generation\n",
            "Cell \u001b[0;32mIn[50], line 153\u001b[0m, in \u001b[0;36mGeneticAlgorithmMWCCP._repair_individual\u001b[0;34m(self, individual)\u001b[0m\n\u001b[1;32m    150\u001b[0m remaining \u001b[38;5;241m=\u001b[39m \u001b[38;5;28mset\u001b[39m(individual)\n\u001b[1;32m    152\u001b[0m \u001b[38;5;28;01mwhile\u001b[39;00m queue:\n\u001b[0;32m--> 153\u001b[0m     candidates \u001b[38;5;241m=\u001b[39m \u001b[43m[\u001b[49m\u001b[43mv\u001b[49m\u001b[43m \u001b[49m\u001b[38;5;28;43;01mfor\u001b[39;49;00m\u001b[43m \u001b[49m\u001b[43mv\u001b[49m\u001b[43m \u001b[49m\u001b[38;5;129;43;01min\u001b[39;49;00m\u001b[43m \u001b[49m\u001b[43mqueue\u001b[49m\u001b[43m \u001b[49m\u001b[38;5;28;43;01mif\u001b[39;49;00m\u001b[43m \u001b[49m\u001b[43mv\u001b[49m\u001b[43m \u001b[49m\u001b[38;5;129;43;01min\u001b[39;49;00m\u001b[43m \u001b[49m\u001b[43mremaining\u001b[49m\u001b[43m]\u001b[49m\n\u001b[1;32m    154\u001b[0m     \u001b[38;5;28;01mif\u001b[39;00m \u001b[38;5;129;01mnot\u001b[39;00m candidates:\n\u001b[1;32m    155\u001b[0m         candidates \u001b[38;5;241m=\u001b[39m \u001b[38;5;28mlist\u001b[39m(remaining)\n",
            "Cell \u001b[0;32mIn[50], line 153\u001b[0m, in \u001b[0;36m<listcomp>\u001b[0;34m(.0)\u001b[0m\n\u001b[1;32m    150\u001b[0m remaining \u001b[38;5;241m=\u001b[39m \u001b[38;5;28mset\u001b[39m(individual)\n\u001b[1;32m    152\u001b[0m \u001b[38;5;28;01mwhile\u001b[39;00m queue:\n\u001b[0;32m--> 153\u001b[0m     candidates \u001b[38;5;241m=\u001b[39m [v \u001b[38;5;28;01mfor\u001b[39;00m v \u001b[38;5;129;01min\u001b[39;00m queue \u001b[38;5;28;01mif\u001b[39;00m v \u001b[38;5;129;01min\u001b[39;00m remaining]\n\u001b[1;32m    154\u001b[0m     \u001b[38;5;28;01mif\u001b[39;00m \u001b[38;5;129;01mnot\u001b[39;00m candidates:\n\u001b[1;32m    155\u001b[0m         candidates \u001b[38;5;241m=\u001b[39m \u001b[38;5;28mlist\u001b[39m(remaining)\n",
            "\u001b[0;31mKeyboardInterrupt\u001b[0m: "
          ]
        }
      ],
      "execution_count": null
    },
    {
      "cell_type": "markdown",
      "source": [
        "## Ant Colony Optimization"
      ],
      "metadata": {
        "id": "WKr6ms0auZaC"
      }
    },
    {
      "cell_type": "code",
      "source": [
        "class MaxMinAntSystem:\n",
        "    def __init__(self, graph, alpha=1.0, beta=2.0, evaporation_rate=0.5, ant_count=10, iterations=100, tau_min=0.1, tau_max=10):\n",
        "        self.graph = graph\n",
        "        self.alpha = alpha  # Influence of pheromone\n",
        "        self.beta = beta  # Influence of heuristic\n",
        "        self.evaporation_rate = evaporation_rate\n",
        "        self.ant_count = ant_count\n",
        "        self.iterations = iterations\n",
        "        self.tau_min = tau_min\n",
        "        self.tau_max = tau_max\n",
        "\n",
        "        # Map vertex IDs to indices for consistent matrix access\n",
        "        self.vertex_to_index = {v: i for i, v in enumerate(self.graph.V)}\n",
        "        self.index_to_vertex = {i: v for i, v in enumerate(self.graph.V)}\n",
        "\n",
        "    def initialize_pheromone_and_heuristic(self):\n",
        "        \"\"\"Initialize pheromone and heuristic matrices.\"\"\"\n",
        "        num_vertices = len(self.graph.V)\n",
        "        pheromone = np.ones((num_vertices, num_vertices), dtype=np.float64) * self.tau_max\n",
        "\n",
        "        heuristic = np.zeros((num_vertices, num_vertices), dtype=np.float64)\n",
        "        for v in self.graph.V:\n",
        "            idx = self.vertex_to_index[v]\n",
        "            # Use a heuristic metric\n",
        "            heuristic[idx, :] = 1 / (1 + self.graph.in_degree[v])\n",
        "            #neighbors = self.graph.node_edges[v]\n",
        "            #avg_w = np.mean([neigh[1] for neigh in neighbors])\n",
        "            #heuristic[idx, :] = 1 / (1 + avg_w)\n",
        "\n",
        "        return pheromone, heuristic\n",
        "\n",
        "\n",
        "    def construct_solution(self, pheromone, heuristic):\n",
        "        \"\"\"Construct a solution probabilistically.\"\"\"\n",
        "        num_vertices = len(self.graph.V)\n",
        "        unvisited = set(self.graph.V)\n",
        "        solution = []\n",
        "\n",
        "        for position in range(num_vertices):\n",
        "            probabilities = []\n",
        "            for v in unvisited:\n",
        "                idx = self.vertex_to_index[v]\n",
        "                probabilities.append(\n",
        "                    (pheromone[idx][position] ** self.alpha) * (heuristic[idx][position] ** self.beta)\n",
        "                )\n",
        "            probabilities = np.array(probabilities) / sum(probabilities)\n",
        "\n",
        "            # Select vertex probabilistically\n",
        "            vertex = random.choices(list(unvisited), weights=probabilities, k=1)[0]\n",
        "            solution.append(vertex)\n",
        "            unvisited.remove(vertex)\n",
        "\n",
        "        if not self.is_valid(solution):\n",
        "            solution = self.repair_solution(solution)\n",
        "\n",
        "        return solution\n",
        "\n",
        "    def repair_solution(self, solution):\n",
        "        \"\"\"Repair a solution to satisfy constraints.\"\"\"\n",
        "        in_degree = self.graph.in_degree.copy()\n",
        "        adjacency_list = self.graph.constraints\n",
        "        index_map = {val: idx for idx, val in enumerate(solution)}\n",
        "\n",
        "        queue = deque(v for v in self.graph.V if in_degree[v] == 0)\n",
        "        repaired = []\n",
        "        remaining = set(solution)\n",
        "\n",
        "        while queue:\n",
        "            candidates = [v for v in queue if v in remaining]\n",
        "            if not candidates:\n",
        "                candidates = list(remaining)\n",
        "\n",
        "            v = min(candidates, key=index_map.get)\n",
        "            repaired.append(v)\n",
        "            remaining.remove(v)\n",
        "            queue.remove(v)\n",
        "\n",
        "            for neighbor in adjacency_list[v]:\n",
        "                if neighbor in remaining:\n",
        "                    in_degree[neighbor] -= 1\n",
        "                    if in_degree[neighbor] == 0:\n",
        "                        queue.append(neighbor)\n",
        "\n",
        "        return repaired\n",
        "\n",
        "    def is_valid(self, solution):\n",
        "        \"\"\"Check if a solution satisfies all constraints.\"\"\"\n",
        "        positions = {v: i for i, v in enumerate(solution)}\n",
        "        for v1 in solution:\n",
        "            for v2 in self.graph.constraints[v1]:\n",
        "                if positions[v1] > positions[v2]:\n",
        "                    return False\n",
        "        return True\n",
        "\n",
        "    def update_pheromones(self, pheromone, best_solution, best_cost):\n",
        "        \"\"\"Update pheromone levels based on the best solution.\"\"\"\n",
        "        pheromone *= (1 - self.evaporation_rate)  # Evaporation\n",
        "\n",
        "        for position, vertex in enumerate(best_solution):\n",
        "            idx = self.vertex_to_index[vertex]\n",
        "            pheromone[idx][position] += 1.0 / (1.0 + best_cost)\n",
        "\n",
        "        # Apply pheromone bounds\n",
        "        pheromone = np.clip(pheromone, self.tau_min, self.tau_max)\n",
        "\n",
        "        return pheromone\n",
        "\n",
        "    def ant_colony_optimization(self):\n",
        "        \"\"\"MMAS algorithm for MWCCP\"\"\"\n",
        "        pheromone, heuristic = self.initialize_pheromone_and_heuristic()\n",
        "\n",
        "        best_solution = None\n",
        "        best_cost = float('inf')\n",
        "\n",
        "        for _ in range(self.iterations):\n",
        "            solutions = []\n",
        "            fitnesses = []\n",
        "\n",
        "            for _ in range(self.ant_count):\n",
        "                solution = self.construct_solution(pheromone, heuristic)\n",
        "                cost = cost_function_bit(self.graph, solution)\n",
        "                solutions.append(solution)\n",
        "                fitnesses.append(cost)\n",
        "\n",
        "                if cost < best_cost:\n",
        "                    best_cost = cost\n",
        "                    best_solution = solution\n",
        "\n",
        "            # Update pheromone with only the global best solution\n",
        "            pheromone = self.update_pheromones(pheromone, best_solution, best_cost)\n",
        "\n",
        "            # Dynamically adjust tau_min and tau_max\n",
        "            self.tau_max = 1.0 / (1.0 - self.evaporation_rate) * (1.0 / best_cost)\n",
        "            self.tau_min = self.tau_max / (2 * len(self.graph.V))\n",
        "\n",
        "        return best_solution, best_cost"
      ],
      "metadata": {
        "id": "HvnSudFD_BB2",
        "ExecuteTime": {
          "end_time": "2025-01-05T18:25:47.837677Z",
          "start_time": "2025-01-05T18:25:47.826545Z"
        }
      },
      "outputs": [],
      "execution_count": null
    },
    {
      "cell_type": "code",
      "source": [
        "graph = load_instance(items_test_small[0])\n",
        "cost_function_bit(graph, graph.V)"
      ],
      "metadata": {
        "colab": {
          "base_uri": "https://localhost:8080/"
        },
        "id": "DsIhz2TMEc1E",
        "outputId": "c99e9df2-a811-4b79-cbd9-04c03fea3e7f",
        "ExecuteTime": {
          "end_time": "2025-01-05T18:25:49.897035Z",
          "start_time": "2025-01-05T18:25:49.893561Z"
        }
      },
      "outputs": [
        {
          "data": {
            "text/plain": [
              "4645.0"
            ]
          },
          "execution_count": 8,
          "metadata": {},
          "output_type": "execute_result"
        }
      ],
      "execution_count": null
    },
    {
      "cell_type": "code",
      "source": [
        "graph = load_instance(items_test_med[0])\n",
        "\n",
        "aco = MaxMinAntSystem(graph, alpha=1.6, beta=1.4, evaporation_rate=0.3, ant_count=100, iterations=100)\n",
        "solution, cost = aco.ant_colony_optimization()\n",
        "print(f\"Best solution: {solution}\")\n",
        "print(f\"Minimum weighted crossing cost: {cost}\")"
      ],
      "metadata": {
        "colab": {
          "base_uri": "https://localhost:8080/"
        },
        "id": "_qJIdM5dD7ay",
        "outputId": "9b395907-704e-4d4f-8115-8cfe84b96976",
        "ExecuteTime": {
          "end_time": "2025-01-06T10:23:16.659743Z",
          "start_time": "2025-01-06T10:22:38.294157Z"
        }
      },
      "outputs": [
        {
          "name": "stdout",
          "output_type": "stream",
          "text": [
            "Best solution: [188, 101, 133, 120, 128, 106, 103, 127, 140, 118, 108, 158, 184, 198, 196, 136, 173, 135, 149, 123, 138, 164, 114, 152, 117, 171, 111, 129, 156, 143, 132, 168, 104, 115, 116, 150, 125, 178, 107, 122, 146, 142, 130, 185, 160, 187, 124, 190, 126, 154, 139, 195, 159, 161, 163, 109, 170, 183, 200, 162, 137, 131, 157, 189, 155, 192, 166, 102, 119, 110, 193, 148, 194, 105, 181, 191, 151, 113, 186, 112, 179, 197, 167, 165, 141, 172, 145, 175, 180, 147, 169, 121, 134, 177, 182, 199, 176, 174, 153, 144]\n",
            "Minimum weighted crossing cost: 761556.0\n"
          ]
        }
      ],
      "execution_count": null
    },
    {
      "cell_type": "code",
      "source": [
        "instance_name = os.path.basename(items[1])\n",
        "with open(f\"{instance_name}_dt.txt\", \"w\") as f:\n",
        "    f.write(instance_name + \"\\n\")\n",
        "    f.write(\" \".join(map(str, solution)) + \"\\n\")"
      ],
      "metadata": {
        "id": "d6GRuV9AI2ps",
        "ExecuteTime": {
          "end_time": "2025-01-04T17:24:59.519587Z",
          "start_time": "2025-01-04T17:24:59.516706Z"
        }
      },
      "outputs": [],
      "execution_count": null
    },
    {
      "metadata": {
        "id": "Ixqrs5p85ExK"
      },
      "cell_type": "markdown",
      "source": [
        "# Task 2: Parameter Optimization"
      ]
    },
    {
      "metadata": {
        "ExecuteTime": {
          "end_time": "2025-01-05T18:26:00.137106Z",
          "start_time": "2025-01-05T18:26:00.116231Z"
        },
        "id": "BWNhyZvV5ExL"
      },
      "cell_type": "code",
      "source": [
        "# Optimize the parameters using smac\n",
        "instances = [*items_test_med]\n",
        "instances_graphs = [load_instance(path) for path in instances]\n",
        "\n",
        "# Define the parameter space for GA\n",
        "\n",
        "ga_param_space = {\n",
        "    \"population_size\": (20, 250),\n",
        "    \"generations\": (10, 250),\n",
        "    \"elite_size\": (0, 20),\n",
        "    \"tournament_size\": (3, 30),\n",
        "    \"mutation_rate\": (0.1, 0.6),\n",
        "    \"crossover_rate\": (0.4, 1),\n",
        "    \"constraint_penalty\": (10000, 1000000)\n",
        "}\n",
        "\n",
        "time_penalty_threshold = 60  # 1 minute time penalty threshold\n",
        "\n",
        "def train_GA(params: dict, seed: int = 0) -> float:\n",
        "    \"\"\"Train and evaluate the GA algorithm with given parameters.\"\"\"\n",
        "    random.seed(seed)\n",
        "    np.random.seed(seed)\n",
        "\n",
        "    cumulative_fitness = 0\n",
        "    timer_start = time.perf_counter()\n",
        "    paramsGA = GAParameters(\n",
        "        population_size=params[\"population_size\"],\n",
        "        generations=params[\"generations\"],\n",
        "        elite_size=params[\"elite_size\"],\n",
        "        tournament_size=params[\"tournament_size\"],\n",
        "        mutation_rate=params[\"mutation_rate\"],\n",
        "        crossover_rate=params[\"crossover_rate\"],\n",
        "        constraint_penalty=params[\"constraint_penalty\"]\n",
        "    )\n",
        "    for graph in instances_graphs:\n",
        "        ga = GeneticAlgorithmMWCCP(graph, paramsGA, verbose=False)\n",
        "        _, best_fitness = ga.run()\n",
        "        cumulative_fitness += best_fitness\n",
        "\n",
        "    timer_end = time.perf_counter()\n",
        "\n",
        "    time_taken = timer_end - timer_start\n",
        "\n",
        "    time_penalty = 1 if time_taken <= time_penalty_threshold else time_taken / time_penalty_threshold\n",
        "\n",
        "    return cumulative_fitness * time_penalty"
      ],
      "outputs": [],
      "execution_count": null
    },
    {
      "metadata": {
        "ExecuteTime": {
          "end_time": "2025-01-05T13:52:58.191809Z",
          "start_time": "2025-01-05T12:43:55.276952Z"
        },
        "id": "5KiW3f5W5ExL",
        "outputId": "829c7bd6-1756-4800-a06e-d4db63b71a00"
      },
      "cell_type": "code",
      "source": [
        "# Optimize the parameters using smac\n",
        "configspace = ConfigurationSpace(ga_param_space)\n",
        "scenario = Scenario(configspace, deterministic=True, n_trials=250, n_workers=10)\n",
        "\n",
        "smac = HyperparameterOptimizationFacade(scenario, train_GA)\n",
        "incumbent = smac.optimize()\n",
        "print(incumbent)"
      ],
      "outputs": [
        {
          "name": "stdout",
          "output_type": "stream",
          "text": [
            "[INFO][abstract_initial_design.py:95] Reducing the number of initial configurations from 70 to 62 (max_ratio == 0.25).\n"
          ]
        },
        {
          "name": "stderr",
          "output_type": "stream",
          "text": [
            "/Library/Frameworks/Python.framework/Versions/3.11/lib/python3.11/site-packages/distributed/node.py:187: UserWarning: Port 8787 is already in use.\n",
            "Perhaps you already have a cluster running?\n",
            "Hosting the HTTP server on port 64170 instead\n",
            "  warnings.warn(\n"
          ]
        },
        {
          "name": "stdout",
          "output_type": "stream",
          "text": [
            "[INFO][abstract_initial_design.py:147] Using 62 initial design configurations and 0 additional configurations.\n",
            "[INFO][abstract_intensifier.py:306] Using only one seed for deterministic scenario.\n",
            "[INFO][smbo.py:320] Finished 0 trials.\n",
            "[INFO][smbo.py:320] Finished 0 trials.\n",
            "[INFO][smbo.py:320] Finished 0 trials.\n",
            "[INFO][smbo.py:320] Finished 0 trials.\n",
            "[INFO][smbo.py:320] Finished 0 trials.\n",
            "[INFO][smbo.py:320] Finished 0 trials.\n",
            "[INFO][smbo.py:320] Finished 0 trials.\n",
            "[INFO][smbo.py:320] Finished 0 trials.\n",
            "[INFO][smbo.py:320] Finished 0 trials.\n",
            "[INFO][smbo.py:320] Finished 0 trials.\n",
            "[INFO][abstract_intensifier.py:516] Added config 9155b2 as new incumbent because there are no incumbents yet.\n",
            "[INFO][abstract_intensifier.py:595] Added config 888c14 and rejected config 9155b2 as incumbent because it is not better than the incumbents on 1 instances:\n"
          ]
        },
        {
          "name": "stderr",
          "output_type": "stream",
          "text": [
            "2025-01-05 13:45:32,400 - distributed.diskutils - ERROR - Failed to remove '/Users/jurahostic/Documents/TUW/Heurustic Optimization Tehniques/heuristic_opt_hw1/smac3_output/dask-scratch-space/worker-m01c4oko' (failed in <built-in function lstat>): [Errno 2] No such file or directory: '/Users/jurahostic/Documents/TUW/Heurustic Optimization Tehniques/heuristic_opt_hw1/smac3_output/dask-scratch-space/worker-m01c4oko'\n",
            "2025-01-05 13:45:32,408 - distributed.diskutils - ERROR - Failed to remove '/Users/jurahostic/Documents/TUW/Heurustic Optimization Tehniques/heuristic_opt_hw1/smac3_output/dask-scratch-space/worker-2_hkmnb8' (failed in <built-in function lstat>): [Errno 2] No such file or directory: '/Users/jurahostic/Documents/TUW/Heurustic Optimization Tehniques/heuristic_opt_hw1/smac3_output/dask-scratch-space/worker-2_hkmnb8'\n",
            "2025-01-05 13:45:32,409 - distributed.diskutils - ERROR - Failed to remove '/Users/jurahostic/Documents/TUW/Heurustic Optimization Tehniques/heuristic_opt_hw1/smac3_output/dask-scratch-space/worker-mq_axio0' (failed in <built-in function lstat>): [Errno 2] No such file or directory: '/Users/jurahostic/Documents/TUW/Heurustic Optimization Tehniques/heuristic_opt_hw1/smac3_output/dask-scratch-space/worker-mq_axio0'\n",
            "2025-01-05 13:45:32,417 - distributed.diskutils - ERROR - Failed to remove '/Users/jurahostic/Documents/TUW/Heurustic Optimization Tehniques/heuristic_opt_hw1/smac3_output/dask-scratch-space/worker-112h1iln' (failed in <built-in function lstat>): [Errno 2] No such file or directory: '/Users/jurahostic/Documents/TUW/Heurustic Optimization Tehniques/heuristic_opt_hw1/smac3_output/dask-scratch-space/worker-112h1iln'\n",
            "2025-01-05 13:45:32,418 - distributed.diskutils - ERROR - Failed to remove '/Users/jurahostic/Documents/TUW/Heurustic Optimization Tehniques/heuristic_opt_hw1/smac3_output/dask-scratch-space/worker-5kvwvmb5' (failed in <built-in function lstat>): [Errno 2] No such file or directory: '/Users/jurahostic/Documents/TUW/Heurustic Optimization Tehniques/heuristic_opt_hw1/smac3_output/dask-scratch-space/worker-5kvwvmb5'\n",
            "2025-01-05 13:45:32,424 - distributed.diskutils - ERROR - Failed to remove '/Users/jurahostic/Documents/TUW/Heurustic Optimization Tehniques/heuristic_opt_hw1/smac3_output/dask-scratch-space/worker-n64xm8tz' (failed in <built-in function lstat>): [Errno 2] No such file or directory: '/Users/jurahostic/Documents/TUW/Heurustic Optimization Tehniques/heuristic_opt_hw1/smac3_output/dask-scratch-space/worker-n64xm8tz'\n",
            "2025-01-05 13:45:32,425 - distributed.diskutils - ERROR - Failed to remove '/Users/jurahostic/Documents/TUW/Heurustic Optimization Tehniques/heuristic_opt_hw1/smac3_output/dask-scratch-space/worker-pv590qqw' (failed in <built-in function lstat>): [Errno 2] No such file or directory: '/Users/jurahostic/Documents/TUW/Heurustic Optimization Tehniques/heuristic_opt_hw1/smac3_output/dask-scratch-space/worker-pv590qqw'\n",
            "2025-01-05 13:45:32,426 - distributed.diskutils - ERROR - Failed to remove '/Users/jurahostic/Documents/TUW/Heurustic Optimization Tehniques/heuristic_opt_hw1/smac3_output/dask-scratch-space/worker-5m0sirfk' (failed in <built-in function lstat>): [Errno 2] No such file or directory: '/Users/jurahostic/Documents/TUW/Heurustic Optimization Tehniques/heuristic_opt_hw1/smac3_output/dask-scratch-space/worker-5m0sirfk'\n",
            "2025-01-05 13:45:32,427 - distributed.diskutils - ERROR - Failed to remove '/Users/jurahostic/Documents/TUW/Heurustic Optimization Tehniques/heuristic_opt_hw1/smac3_output/dask-scratch-space/worker-o_ehl26p' (failed in <built-in function lstat>): [Errno 2] No such file or directory: '/Users/jurahostic/Documents/TUW/Heurustic Optimization Tehniques/heuristic_opt_hw1/smac3_output/dask-scratch-space/worker-o_ehl26p'\n",
            "2025-01-05 13:45:32,429 - distributed.diskutils - ERROR - Failed to remove '/Users/jurahostic/Documents/TUW/Heurustic Optimization Tehniques/heuristic_opt_hw1/smac3_output/dask-scratch-space/worker-mg6tscd9' (failed in <built-in function lstat>): [Errno 2] No such file or directory: '/Users/jurahostic/Documents/TUW/Heurustic Optimization Tehniques/heuristic_opt_hw1/smac3_output/dask-scratch-space/worker-mg6tscd9'\n"
          ]
        },
        {
          "name": "stdout",
          "output_type": "stream",
          "text": [
            "[INFO][abstract_intensifier.py:595] Added config 1e6cfb and rejected config 888c14 as incumbent because it is not better than the incumbents on 1 instances:\n",
            "[INFO][abstract_intensifier.py:595] Added config 08c7fa and rejected config 1e6cfb as incumbent because it is not better than the incumbents on 1 instances:\n",
            "[INFO][abstract_intensifier.py:595] Added config 04fed0 and rejected config 08c7fa as incumbent because it is not better than the incumbents on 1 instances:\n",
            "[INFO][smbo.py:320] Finished 50 trials.\n",
            "[INFO][abstract_intensifier.py:595] Added config fbe72b and rejected config 04fed0 as incumbent because it is not better than the incumbents on 1 instances:\n",
            "[INFO][smbo.py:320] Finished 100 trials.\n",
            "[INFO][smbo.py:320] Finished 150 trials.\n",
            "[INFO][abstract_intensifier.py:595] Added config fb3070 and rejected config fbe72b as incumbent because it is not better than the incumbents on 1 instances:\n",
            "[INFO][abstract_intensifier.py:595] Added config c81374 and rejected config fb3070 as incumbent because it is not better than the incumbents on 1 instances:\n",
            "[INFO][smbo.py:320] Finished 200 trials.\n",
            "[INFO][smbo.py:328] Configuration budget is exhausted:\n",
            "[INFO][smbo.py:329] --- Remaining wallclock time: inf\n",
            "[INFO][smbo.py:330] --- Remaining cpu time: inf\n",
            "[INFO][smbo.py:331] --- Remaining trials: 0\n",
            "Configuration(values={\n",
            "  'constraint_penalty': 213178,\n",
            "  'crossover_rate': 0.7906358312146,\n",
            "  'elite_size': 13,\n",
            "  'generations': 149,\n",
            "  'mutation_rate': 0.2555087083201,\n",
            "  'population_size': 40,\n",
            "  'tournament_size': 25,\n",
            "})\n"
          ]
        }
      ],
      "execution_count": null
    },
    {
      "metadata": {
        "ExecuteTime": {
          "end_time": "2025-01-07T00:20:31.441130Z",
          "start_time": "2025-01-07T00:20:31.303590Z"
        },
        "id": "m9fpn5Ov5ExL"
      },
      "cell_type": "code",
      "source": [
        "instances = [*items_test_med]\n",
        "instances_graphs = [load_instance(path) for path in instances]\n",
        "\n",
        "aco_param_space = {\n",
        "    \"alpha\": (1.0, 2.0),\n",
        "    \"beta\": (1.0, 2.0),\n",
        "    \"evaporation_rate\": (0.1, 0.9),\n",
        "    \"ant_count\": (20, 100),\n",
        "    \"iterations\": (50, 250),\n",
        "    \"tau_min\": (0.1, 1.0),\n",
        "    \"tau_max\": (1.0, 10.0)\n",
        "}\n",
        "\n",
        "time_penalty_threshold = 60  # 8 minute time penalty threshold\n",
        "\n",
        "def train_ACO(params: dict, seed: int = 0) -> float:\n",
        "    \"\"\"Train and evaluate the ACO algorithm with given parameters.\"\"\"\n",
        "    random.seed(seed)\n",
        "    np.random.seed(seed)\n",
        "\n",
        "    cumulative_fitness = 0\n",
        "    timer_start = time.perf_counter()\n",
        "    for graph in instances_graphs:\n",
        "        aco = MaxMinAntSystem(graph, **params)\n",
        "        _, best_fitness = aco.ant_colony_optimization()\n",
        "        cumulative_fitness += best_fitness\n",
        "    timer_end = time.perf_counter()\n",
        "\n",
        "    time_taken = timer_end - timer_start\n",
        "    time_penalty = 1 if time_taken <= time_penalty_threshold else time_taken / time_penalty_threshold\n",
        "\n",
        "    return cumulative_fitness * time_penalty"
      ],
      "outputs": [],
      "execution_count": null
    },
    {
      "metadata": {
        "ExecuteTime": {
          "end_time": "2025-01-07T02:54:25.305095Z",
          "start_time": "2025-01-07T00:20:32.389735Z"
        },
        "id": "2Er54RkE5ExL",
        "outputId": "5b3b6c2c-b7c5-4ec5-a372-49ecd173b30b"
      },
      "cell_type": "code",
      "source": [
        "configspace = ConfigurationSpace(aco_param_space)\n",
        "scenario = Scenario(configspace, deterministic=True, n_trials=250, n_workers=6)\n",
        "\n",
        "smac = HyperparameterOptimizationFacade(scenario, train_ACO)\n",
        "incumbent = smac.optimize()\n",
        "print(incumbent)"
      ],
      "outputs": [
        {
          "name": "stdout",
          "output_type": "stream",
          "text": [
            "[INFO][abstract_initial_design.py:95] Reducing the number of initial configurations from 70 to 62 (max_ratio == 0.25).\n"
          ]
        },
        {
          "name": "stderr",
          "output_type": "stream",
          "text": [
            "/Library/Frameworks/Python.framework/Versions/3.11/lib/python3.11/site-packages/distributed/node.py:187: UserWarning: Port 8787 is already in use.\n",
            "Perhaps you already have a cluster running?\n",
            "Hosting the HTTP server on port 51728 instead\n",
            "  warnings.warn(\n"
          ]
        },
        {
          "name": "stdout",
          "output_type": "stream",
          "text": [
            "[INFO][abstract_initial_design.py:147] Using 62 initial design configurations and 0 additional configurations.\n",
            "[INFO][abstract_intensifier.py:306] Using only one seed for deterministic scenario.\n",
            "[INFO][smbo.py:320] Finished 0 trials.\n",
            "[INFO][smbo.py:320] Finished 0 trials.\n",
            "[INFO][smbo.py:320] Finished 0 trials.\n",
            "[INFO][smbo.py:320] Finished 0 trials.\n",
            "[INFO][smbo.py:320] Finished 0 trials.\n",
            "[INFO][smbo.py:320] Finished 0 trials.\n",
            "[INFO][abstract_intensifier.py:516] Added config 2ef302 as new incumbent because there are no incumbents yet.\n",
            "[INFO][abstract_intensifier.py:595] Added config c21ff2 and rejected config 2ef302 as incumbent because it is not better than the incumbents on 1 instances:\n",
            "[INFO][smbo.py:320] Finished 50 trials.\n",
            "[INFO][abstract_intensifier.py:595] Added config 9b845d and rejected config c21ff2 as incumbent because it is not better than the incumbents on 1 instances:\n",
            "[INFO][smbo.py:320] Finished 100 trials.\n",
            "[INFO][smbo.py:320] Finished 150 trials.\n",
            "[INFO][abstract_intensifier.py:595] Added config 3afa71 and rejected config 9b845d as incumbent because it is not better than the incumbents on 1 instances:\n",
            "[INFO][smbo.py:320] Finished 200 trials.\n",
            "[INFO][smbo.py:328] Configuration budget is exhausted:\n",
            "[INFO][smbo.py:329] --- Remaining wallclock time: inf\n",
            "[INFO][smbo.py:330] --- Remaining cpu time: inf\n",
            "[INFO][smbo.py:331] --- Remaining trials: 0\n",
            "Configuration(values={\n",
            "  'alpha': 1.8699668615412,\n",
            "  'ant_count': 22,\n",
            "  'beta': 1.0702607933214,\n",
            "  'evaporation_rate': 0.6922705509118,\n",
            "  'iterations': 55,\n",
            "  'tau_max': 7.8543738109695,\n",
            "  'tau_min': 0.505812093858,\n",
            "})\n"
          ]
        }
      ],
      "execution_count": null
    },
    {
      "cell_type": "markdown",
      "source": [
        "# Task 3"
      ],
      "metadata": {
        "id": "31XHVT1m5oCs"
      }
    },
    {
      "metadata": {
        "id": "62X-8KpV5ExL"
      },
      "cell_type": "markdown",
      "source": [
        "## Testing algorithms"
      ]
    },
    {
      "metadata": {
        "ExecuteTime": {
          "end_time": "2025-01-07T08:26:18.202318Z",
          "start_time": "2025-01-07T08:26:17.881076Z"
        },
        "id": "eD25elcd5ExM"
      },
      "cell_type": "code",
      "source": [
        "def load_instances(items):\n",
        "    return [(path, load_instance(path)) for path in items]\n",
        "\n",
        "instances = {\n",
        "    \"small\": load_instances(items_test_small),\n",
        "    \"medium\": load_instances(items_test_med),\n",
        "    \"medium_large\": load_instances(items_test_med_large),\n",
        "    \"large\": load_instances(items_test_large)\n",
        "}"
      ],
      "outputs": [],
      "execution_count": null
    },
    {
      "metadata": {
        "ExecuteTime": {
          "end_time": "2025-01-06T23:45:42.168286Z",
          "start_time": "2025-01-06T20:46:34.784811Z"
        },
        "id": "dhfAxNWJ5ExM",
        "outputId": "f0674606-4254-47b6-aa21-044df1526e84"
      },
      "cell_type": "code",
      "source": [
        "from copy import deepcopy\n",
        "\n",
        "# 'constraint_penalty': 213178,\n",
        "#   'crossover_rate': 0.7906358312146,\n",
        "#   'elite_size': 13,\n",
        "#   'generations': 149,\n",
        "#   'mutation_rate': 0.2555087083201,\n",
        "#   'population_size': 40,\n",
        "#   'tournament_size': 25,\n",
        "\n",
        "GA_params = GAParameters(\n",
        "    population_size=40,\n",
        "    generations=150,\n",
        "    elite_size=13,\n",
        "    tournament_size=25,\n",
        "    mutation_rate=0.255,\n",
        "    crossover_rate=0.79,\n",
        "    constraint_penalty=213178\n",
        ")\n",
        "\n",
        "save_dir = \"results_ga\"\n",
        "\n",
        "if not os.path.exists(save_dir):\n",
        "    os.makedirs(save_dir)\n",
        "\n",
        "repeat = 5\n",
        "\n",
        "for name, items in instances.items():\n",
        "    results = []\n",
        "    print(f\"Running GA on {name} instances\")\n",
        "    save_path = f\"{save_dir}/{name}.txt\"\n",
        "    if not os.path.exists(save_path):\n",
        "        with open(save_path, \"w\") as f:\n",
        "            f.write(f\"GA Parameters: {GA_params}\\n\")\n",
        "\n",
        "    for i, (path, graph) in enumerate(items):\n",
        "        iteration_results = []\n",
        "        print(f\"Instance {i + 1}/{len(items)}\")\n",
        "        for iter in range(repeat):\n",
        "            print(f\"Repeat {iter + 1}/{repeat}\")\n",
        "            graph_copy = deepcopy(graph)\n",
        "            with Timer() as t:\n",
        "                solution = GeneticAlgorithmMWCCP(graph_copy, GA_params, verbose=False)\n",
        "                ordering, cost = solution.run()  # Cost computation outside the timing block\n",
        "            results.append((path, t.delta, cost))\n",
        "            print(f\"{path} - {t.delta:.2f}s - {cost}\")\n",
        "            iteration_results.append((path, t.delta, cost, ordering))\n",
        "\n",
        "        with open(save_path, \"a\") as f:\n",
        "            for path, time_taken, cost, _ in iteration_results:\n",
        "                f.write(f\"{path} - {time_taken:.2f} - {cost}\\n\")\n",
        "\n",
        "            average_cost = sum(cost for _, _, cost, _ in iteration_results) / repeat\n",
        "            std_cost = np.std([cost for _, _, cost, _ in iteration_results])\n",
        "            f.write(f\"Average cost: {average_cost:.2f} - Std: {std_cost:.2f}\\n\")\n",
        "\n",
        "            average_time = sum(time_taken for _, time_taken, _, _ in iteration_results) / repeat\n",
        "            std_time = np.std([time_taken for _, time_taken, _, _ in iteration_results])\n",
        "            f.write(f\"Average time: {average_time:.2f} - Std: {std_time:.2f}\\n\")\n",
        "\n",
        "    print(f\"{'Item':<50} {'Time (s)':<10} {'Cost':<10}\")\n",
        "    print(\"-\" * 70)"
      ],
      "outputs": [
        {
          "name": "stdout",
          "output_type": "stream",
          "text": [
            "Running GA on small instances\n",
            "Instance 1/10\n",
            "Repeat 1/5\n",
            "content/test/small/inst_50_4_00006 - 0.28s - 2976.0\n",
            "Repeat 2/5\n",
            "content/test/small/inst_50_4_00006 - 0.27s - 2976.0\n",
            "Repeat 3/5\n",
            "content/test/small/inst_50_4_00006 - 0.28s - 2967.0\n",
            "Repeat 4/5\n",
            "content/test/small/inst_50_4_00006 - 0.28s - 2983.0\n",
            "Repeat 5/5\n",
            "content/test/small/inst_50_4_00006 - 0.27s - 2976.0\n",
            "Instance 2/10\n",
            "Repeat 1/5\n",
            "content/test/small/inst_50_4_00001 - 0.62s - 74291.0\n",
            "Repeat 2/5\n",
            "content/test/small/inst_50_4_00001 - 0.62s - 74271.0\n",
            "Repeat 3/5\n",
            "content/test/small/inst_50_4_00001 - 0.61s - 74326.0\n",
            "Repeat 4/5\n",
            "content/test/small/inst_50_4_00001 - 0.63s - 74303.0\n",
            "Repeat 5/5\n",
            "content/test/small/inst_50_4_00001 - 0.62s - 74296.0\n",
            "Instance 3/10\n",
            "Repeat 1/5\n",
            "content/test/small/inst_50_4_00008 - 0.25s - 1407.0\n",
            "Repeat 2/5\n",
            "content/test/small/inst_50_4_00008 - 0.25s - 1403.0\n",
            "Repeat 3/5\n",
            "content/test/small/inst_50_4_00008 - 0.24s - 1407.0\n",
            "Repeat 4/5\n",
            "content/test/small/inst_50_4_00008 - 0.24s - 1403.0\n",
            "Repeat 5/5\n",
            "content/test/small/inst_50_4_00008 - 0.24s - 1414.0\n",
            "Instance 4/10\n",
            "Repeat 1/5\n",
            "content/test/small/inst_50_4_00009 - 0.23s - 1315.0\n",
            "Repeat 2/5\n",
            "content/test/small/inst_50_4_00009 - 0.22s - 1335.0\n",
            "Repeat 3/5\n",
            "content/test/small/inst_50_4_00009 - 0.23s - 1306.0\n",
            "Repeat 4/5\n",
            "content/test/small/inst_50_4_00009 - 0.22s - 1304.0\n",
            "Repeat 5/5\n",
            "content/test/small/inst_50_4_00009 - 0.23s - 1311.0\n",
            "Instance 5/10\n",
            "Repeat 1/5\n",
            "content/test/small/inst_50_4_00007 - 0.26s - 2051.0\n",
            "Repeat 2/5\n",
            "content/test/small/inst_50_4_00007 - 0.25s - 2055.0\n",
            "Repeat 3/5\n",
            "content/test/small/inst_50_4_00007 - 0.26s - 2047.0\n",
            "Repeat 4/5\n",
            "content/test/small/inst_50_4_00007 - 0.27s - 2053.0\n",
            "Repeat 5/5\n",
            "content/test/small/inst_50_4_00007 - 0.25s - 2060.0\n",
            "Instance 6/10\n",
            "Repeat 1/5\n",
            "content/test/small/inst_50_4_00010 - 0.23s - 862.0\n",
            "Repeat 2/5\n",
            "content/test/small/inst_50_4_00010 - 0.22s - 862.0\n",
            "Repeat 3/5\n",
            "content/test/small/inst_50_4_00010 - 0.23s - 853.0\n",
            "Repeat 4/5\n",
            "content/test/small/inst_50_4_00010 - 0.23s - 853.0\n",
            "Repeat 5/5\n",
            "content/test/small/inst_50_4_00010 - 0.23s - 857.0\n",
            "Instance 7/10\n",
            "Repeat 1/5\n",
            "content/test/small/inst_50_4_00002 - 0.45s - 24016.0\n",
            "Repeat 2/5\n",
            "content/test/small/inst_50_4_00002 - 0.44s - 24003.0\n",
            "Repeat 3/5\n",
            "content/test/small/inst_50_4_00002 - 0.43s - 24117.0\n",
            "Repeat 4/5\n",
            "content/test/small/inst_50_4_00002 - 0.46s - 24013.0\n",
            "Repeat 5/5\n",
            "content/test/small/inst_50_4_00002 - 0.43s - 24003.0\n",
            "Instance 8/10\n",
            "Repeat 1/5\n",
            "content/test/small/inst_50_4_00005 - 0.29s - 3620.0\n",
            "Repeat 2/5\n",
            "content/test/small/inst_50_4_00005 - 0.28s - 3602.0\n",
            "Repeat 3/5\n",
            "content/test/small/inst_50_4_00005 - 0.29s - 3622.0\n",
            "Repeat 4/5\n",
            "content/test/small/inst_50_4_00005 - 0.28s - 3599.0\n",
            "Repeat 5/5\n",
            "content/test/small/inst_50_4_00005 - 0.28s - 3613.0\n",
            "Instance 9/10\n",
            "Repeat 1/5\n",
            "content/test/small/inst_50_4_00004 - 0.31s - 6551.0\n",
            "Repeat 2/5\n",
            "content/test/small/inst_50_4_00004 - 0.31s - 6534.0\n",
            "Repeat 3/5\n",
            "content/test/small/inst_50_4_00004 - 0.32s - 6540.0\n",
            "Repeat 4/5\n",
            "content/test/small/inst_50_4_00004 - 0.31s - 6547.0\n",
            "Repeat 5/5\n",
            "content/test/small/inst_50_4_00004 - 0.32s - 6547.0\n",
            "Instance 10/10\n",
            "Repeat 1/5\n",
            "content/test/small/inst_50_4_00003 - 0.35s - 12317.0\n",
            "Repeat 2/5\n",
            "content/test/small/inst_50_4_00003 - 0.35s - 12329.0\n",
            "Repeat 3/5\n",
            "content/test/small/inst_50_4_00003 - 0.36s - 12285.0\n",
            "Repeat 4/5\n",
            "content/test/small/inst_50_4_00003 - 0.35s - 12342.0\n",
            "Repeat 5/5\n",
            "content/test/small/inst_50_4_00003 - 0.36s - 12286.0\n",
            "Item                                               Time (s)   Cost      \n",
            "----------------------------------------------------------------------\n",
            "Running GA on medium instances\n",
            "Instance 1/10\n",
            "Repeat 1/5\n",
            "content/test/med/inst_200_20_00007 - 2.95s - 760471.0\n",
            "Repeat 2/5\n",
            "content/test/med/inst_200_20_00007 - 2.95s - 761788.0\n",
            "Repeat 3/5\n",
            "content/test/med/inst_200_20_00007 - 2.92s - 763663.0\n",
            "Repeat 4/5\n",
            "content/test/med/inst_200_20_00007 - 2.96s - 767667.0\n",
            "Repeat 5/5\n",
            "content/test/med/inst_200_20_00007 - 2.95s - 767962.0\n",
            "Instance 2/10\n",
            "Repeat 1/5\n",
            "content/test/med/inst_200_20_00009 - 2.53s - 451109.0\n",
            "Repeat 2/5\n",
            "content/test/med/inst_200_20_00009 - 2.55s - 454112.0\n",
            "Repeat 3/5\n",
            "content/test/med/inst_200_20_00009 - 2.37s - 455630.0\n",
            "Repeat 4/5\n",
            "content/test/med/inst_200_20_00009 - 2.39s - 451014.0\n",
            "Repeat 5/5\n",
            "content/test/med/inst_200_20_00009 - 2.49s - 452550.0\n",
            "Instance 3/10\n",
            "Repeat 1/5\n",
            "content/test/med/inst_200_20_00008 - 2.84s - 584462.0\n",
            "Repeat 2/5\n",
            "content/test/med/inst_200_20_00008 - 2.71s - 585484.0\n",
            "Repeat 3/5\n",
            "content/test/med/inst_200_20_00008 - 2.64s - 578776.0\n",
            "Repeat 4/5\n",
            "content/test/med/inst_200_20_00008 - 2.73s - 586410.0\n",
            "Repeat 5/5\n",
            "content/test/med/inst_200_20_00008 - 2.85s - 586714.0\n",
            "Instance 4/10\n",
            "Repeat 1/5\n",
            "content/test/med/inst_200_20_00001 - 12.46s - 21993565.0\n",
            "Repeat 2/5\n",
            "content/test/med/inst_200_20_00001 - 11.88s - 22061717.0\n",
            "Repeat 3/5\n",
            "content/test/med/inst_200_20_00001 - 12.10s - 21997088.0\n",
            "Repeat 4/5\n",
            "content/test/med/inst_200_20_00001 - 11.95s - 22062932.0\n",
            "Repeat 5/5\n",
            "content/test/med/inst_200_20_00001 - 12.17s - 22031178.0\n",
            "Instance 5/10\n",
            "Repeat 1/5\n",
            "content/test/med/inst_200_20_00006 - 3.23s - 1026378.0\n",
            "Repeat 2/5\n",
            "content/test/med/inst_200_20_00006 - 3.22s - 1038523.0\n",
            "Repeat 3/5\n",
            "content/test/med/inst_200_20_00006 - 3.32s - 1032237.0\n",
            "Repeat 4/5\n",
            "content/test/med/inst_200_20_00006 - 3.41s - 1038462.0\n",
            "Repeat 5/5\n",
            "content/test/med/inst_200_20_00006 - 3.25s - 1039805.0\n",
            "Instance 6/10\n",
            "Repeat 1/5\n",
            "content/test/med/inst_200_20_00003 - 5.51s - 3904147.0\n",
            "Repeat 2/5\n",
            "content/test/med/inst_200_20_00003 - 5.52s - 3910995.0\n",
            "Repeat 3/5\n",
            "content/test/med/inst_200_20_00003 - 5.58s - 3906133.0\n",
            "Repeat 4/5\n",
            "content/test/med/inst_200_20_00003 - 5.24s - 3917629.0\n",
            "Repeat 5/5\n",
            "content/test/med/inst_200_20_00003 - 5.19s - 3898835.0\n",
            "Instance 7/10\n",
            "Repeat 1/5\n",
            "content/test/med/inst_200_20_00004 - 4.42s - 2253756.0\n",
            "Repeat 2/5\n",
            "content/test/med/inst_200_20_00004 - 4.30s - 2237166.0\n",
            "Repeat 3/5\n",
            "content/test/med/inst_200_20_00004 - 4.38s - 2232350.0\n",
            "Repeat 4/5\n",
            "content/test/med/inst_200_20_00004 - 4.39s - 2244674.0\n",
            "Repeat 5/5\n",
            "content/test/med/inst_200_20_00004 - 4.49s - 2244806.0\n",
            "Instance 8/10\n",
            "Repeat 1/5\n",
            "content/test/med/inst_200_20_00005 - 3.61s - 1405194.0\n",
            "Repeat 2/5\n",
            "content/test/med/inst_200_20_00005 - 3.74s - 1402749.0\n",
            "Repeat 3/5\n",
            "content/test/med/inst_200_20_00005 - 3.65s - 1404795.0\n",
            "Repeat 4/5\n",
            "content/test/med/inst_200_20_00005 - 3.74s - 1407547.0\n",
            "Repeat 5/5\n",
            "content/test/med/inst_200_20_00005 - 3.74s - 1414342.0\n",
            "Instance 9/10\n",
            "Repeat 1/5\n",
            "content/test/med/inst_200_20_00002 - 7.39s - 7746941.0\n",
            "Repeat 2/5\n",
            "content/test/med/inst_200_20_00002 - 7.15s - 7755638.0\n",
            "Repeat 3/5\n",
            "content/test/med/inst_200_20_00002 - 7.42s - 7770536.0\n",
            "Repeat 4/5\n",
            "content/test/med/inst_200_20_00002 - 7.46s - 7757711.0\n",
            "Repeat 5/5\n",
            "content/test/med/inst_200_20_00002 - 7.78s - 7704776.0\n",
            "Instance 10/10\n",
            "Repeat 1/5\n",
            "content/test/med/inst_200_20_00010 - 2.44s - 369697.0\n",
            "Repeat 2/5\n",
            "content/test/med/inst_200_20_00010 - 2.42s - 368991.0\n",
            "Repeat 3/5\n",
            "content/test/med/inst_200_20_00010 - 2.37s - 365132.0\n",
            "Repeat 4/5\n",
            "content/test/med/inst_200_20_00010 - 2.38s - 366887.0\n",
            "Repeat 5/5\n",
            "content/test/med/inst_200_20_00010 - 2.34s - 370427.0\n",
            "Item                                               Time (s)   Cost      \n",
            "----------------------------------------------------------------------\n",
            "Running GA on medium_large instances\n",
            "Instance 1/7\n",
            "Repeat 1/5\n",
            "content/test/med_large/inst_500_40_00007 - 41.61s - 159120597.0\n",
            "Repeat 2/5\n",
            "content/test/med_large/inst_500_40_00007 - 43.31s - 158395698.0\n",
            "Repeat 3/5\n",
            "content/test/med_large/inst_500_40_00007 - 44.10s - 158530008.0\n",
            "Repeat 4/5\n",
            "content/test/med_large/inst_500_40_00007 - 42.81s - 158751610.0\n",
            "Repeat 5/5\n",
            "content/test/med_large/inst_500_40_00007 - 44.67s - 159087949.0\n",
            "Instance 2/7\n",
            "Repeat 1/5\n",
            "content/test/med_large/inst_500_40_00001 - 24.18s - 38071236.0\n",
            "Repeat 2/5\n",
            "content/test/med_large/inst_500_40_00001 - 25.33s - 38427697.0\n",
            "Repeat 3/5\n",
            "content/test/med_large/inst_500_40_00001 - 23.92s - 38311707.0\n",
            "Repeat 4/5\n",
            "content/test/med_large/inst_500_40_00001 - 25.02s - 38380236.0\n",
            "Repeat 5/5\n",
            "content/test/med_large/inst_500_40_00001 - 22.67s - 38296822.0\n",
            "Instance 3/7\n",
            "Repeat 1/5\n",
            "content/test/med_large/inst_500_40_00013 - 60.34s - 321715822.0\n",
            "Repeat 2/5\n",
            "content/test/med_large/inst_500_40_00013 - 55.03s - 321904014.0\n",
            "Repeat 3/5\n",
            "content/test/med_large/inst_500_40_00013 - 62.19s - 321880412.0\n",
            "Repeat 4/5\n",
            "content/test/med_large/inst_500_40_00013 - 63.74s - 321879414.0\n",
            "Repeat 5/5\n",
            "content/test/med_large/inst_500_40_00013 - 59.50s - 322330164.0\n",
            "Instance 4/7\n",
            "Repeat 1/5\n",
            "content/test/med_large/inst_500_40_00004 - 36.43s - 89075468.0\n",
            "Repeat 2/5\n",
            "content/test/med_large/inst_500_40_00004 - 33.53s - 88493670.0\n",
            "Repeat 3/5\n",
            "content/test/med_large/inst_500_40_00004 - 33.06s - 88604509.0\n",
            "Repeat 4/5\n",
            "content/test/med_large/inst_500_40_00004 - 32.74s - 88667896.0\n",
            "Repeat 5/5\n",
            "content/test/med_large/inst_500_40_00004 - 32.24s - 88831770.0\n",
            "Instance 5/7\n",
            "Repeat 1/5\n",
            "content/test/med_large/inst_500_40_00016 - 67.84s - 420478963.0\n",
            "Repeat 2/5\n",
            "content/test/med_large/inst_500_40_00016 - 66.96s - 420648024.0\n",
            "Repeat 3/5\n",
            "content/test/med_large/inst_500_40_00016 - 63.10s - 421200217.0\n",
            "Repeat 4/5\n",
            "content/test/med_large/inst_500_40_00016 - 72.85s - 421004388.0\n",
            "Repeat 5/5\n",
            "content/test/med_large/inst_500_40_00016 - 66.10s - 421643899.0\n",
            "Instance 6/7\n",
            "Repeat 1/5\n",
            "content/test/med_large/inst_500_40_00019 - 73.93s - 516534698.0\n",
            "Repeat 2/5\n",
            "content/test/med_large/inst_500_40_00019 - 78.15s - 516773026.0\n",
            "Repeat 3/5\n",
            "content/test/med_large/inst_500_40_00019 - 75.69s - 516712663.0\n",
            "Repeat 4/5\n",
            "content/test/med_large/inst_500_40_00019 - 79.02s - 517514082.0\n",
            "Repeat 5/5\n",
            "content/test/med_large/inst_500_40_00019 - 79.81s - 517111769.0\n",
            "Instance 7/7\n",
            "Repeat 1/5\n",
            "content/test/med_large/inst_500_40_00010 - 50.30s - 237747359.0\n",
            "Repeat 2/5\n",
            "content/test/med_large/inst_500_40_00010 - 52.14s - 237669656.0\n",
            "Repeat 3/5\n",
            "content/test/med_large/inst_500_40_00010 - 51.60s - 237711710.0\n",
            "Repeat 4/5\n",
            "content/test/med_large/inst_500_40_00010 - 53.66s - 236880558.0\n",
            "Repeat 5/5\n",
            "content/test/med_large/inst_500_40_00010 - 51.52s - 237906587.0\n",
            "Item                                               Time (s)   Cost      \n",
            "----------------------------------------------------------------------\n",
            "Running GA on large instances\n",
            "Instance 1/10\n",
            "Repeat 1/5\n",
            "content/test/large/inst_1000_60_00010 - 78.99s - 280536991.0\n",
            "Repeat 2/5\n",
            "content/test/large/inst_1000_60_00010 - 72.58s - 280879648.0\n",
            "Repeat 3/5\n",
            "content/test/large/inst_1000_60_00010 - 74.82s - 279832332.0\n",
            "Repeat 4/5\n",
            "content/test/large/inst_1000_60_00010 - 75.53s - 281226805.0\n",
            "Repeat 5/5\n",
            "content/test/large/inst_1000_60_00010 - 72.66s - 279981707.0\n",
            "Instance 2/10\n",
            "Repeat 1/5\n",
            "content/test/large/inst_1000_60_00003 - 207.56s - 2639309393.0\n",
            "Repeat 2/5\n",
            "content/test/large/inst_1000_60_00003 - 200.88s - 2637014423.0\n",
            "Repeat 3/5\n",
            "content/test/large/inst_1000_60_00003 - 213.91s - 2635439581.0\n",
            "Repeat 4/5\n",
            "content/test/large/inst_1000_60_00003 - 208.10s - 2641685802.0\n",
            "Repeat 5/5\n",
            "content/test/large/inst_1000_60_00003 - 213.06s - 2638048816.0\n",
            "Instance 3/10\n",
            "Repeat 1/5\n",
            "content/test/large/inst_1000_60_00004 - 163.75s - 1567986733.0\n",
            "Repeat 2/5\n",
            "content/test/large/inst_1000_60_00004 - 167.28s - 1571772188.0\n",
            "Repeat 3/5\n",
            "content/test/large/inst_1000_60_00004 - 161.18s - 1572061073.0\n",
            "Repeat 4/5\n",
            "content/test/large/inst_1000_60_00004 - 160.99s - 1567803702.0\n",
            "Repeat 5/5\n",
            "content/test/large/inst_1000_60_00004 - 160.85s - 1570491961.0\n",
            "Instance 4/10\n",
            "Repeat 1/5\n",
            "content/test/large/inst_1000_60_00005 - 135.48s - 1033263551.0\n",
            "Repeat 2/5\n",
            "content/test/large/inst_1000_60_00005 - 140.99s - 1034169374.0\n",
            "Repeat 3/5\n",
            "content/test/large/inst_1000_60_00005 - 131.15s - 1032035584.0\n",
            "Repeat 4/5\n",
            "content/test/large/inst_1000_60_00005 - 133.54s - 1029816197.0\n",
            "Repeat 5/5\n",
            "content/test/large/inst_1000_60_00005 - 139.19s - 1033545629.0\n",
            "Instance 5/10\n",
            "Repeat 1/5\n",
            "content/test/large/inst_1000_60_00002 - 283.77s - 5237559907.0\n",
            "Repeat 2/5\n",
            "content/test/large/inst_1000_60_00002 - 281.48s - 5243323500.0\n",
            "Repeat 3/5\n",
            "content/test/large/inst_1000_60_00002 - 292.21s - 5242777155.0\n",
            "Repeat 4/5\n",
            "content/test/large/inst_1000_60_00002 - 276.39s - 5242568402.0\n",
            "Repeat 5/5\n",
            "content/test/large/inst_1000_60_00002 - 292.55s - 5237006884.0\n",
            "Instance 6/10\n",
            "Repeat 1/5\n",
            "content/test/large/inst_1000_60_00009 - 81.01s - 340457336.0\n",
            "Repeat 2/5\n",
            "content/test/large/inst_1000_60_00009 - 86.92s - 339409336.0\n",
            "Repeat 3/5\n",
            "content/test/large/inst_1000_60_00009 - 83.02s - 338921218.0\n",
            "Repeat 4/5\n",
            "content/test/large/inst_1000_60_00009 - 83.02s - 340844922.0\n",
            "Repeat 5/5\n",
            "content/test/large/inst_1000_60_00009 - 83.61s - 339614526.0\n",
            "Instance 7/10\n",
            "Repeat 1/5\n",
            "content/test/large/inst_1000_60_00007 - 102.09s - 543580875.0\n",
            "Repeat 2/5\n",
            "content/test/large/inst_1000_60_00007 - 103.31s - 545409412.0\n",
            "Repeat 3/5\n",
            "content/test/large/inst_1000_60_00007 - 100.08s - 545657337.0\n",
            "Repeat 4/5\n",
            "content/test/large/inst_1000_60_00007 - 102.78s - 545777916.0\n",
            "Repeat 5/5\n",
            "content/test/large/inst_1000_60_00007 - 106.24s - 543493785.0\n",
            "Instance 8/10\n",
            "Repeat 1/5\n",
            "content/test/large/inst_1000_60_00001 - 485.64s - 14932274808.0\n",
            "Repeat 2/5\n",
            "content/test/large/inst_1000_60_00001 - 489.34s - 14936825818.0\n",
            "Repeat 3/5\n",
            "content/test/large/inst_1000_60_00001 - 466.50s - 14950925802.0\n",
            "Repeat 4/5\n",
            "content/test/large/inst_1000_60_00001 - 477.74s - 14939321334.0\n",
            "Repeat 5/5\n",
            "content/test/large/inst_1000_60_00001 - 464.41s - 14945649402.0\n",
            "Instance 9/10\n",
            "Repeat 1/5\n",
            "content/test/large/inst_1000_60_00006 - 118.65s - 744186502.0\n",
            "Repeat 2/5\n",
            "content/test/large/inst_1000_60_00006 - 117.94s - 744481622.0\n",
            "Repeat 3/5\n",
            "content/test/large/inst_1000_60_00006 - 115.12s - 743091808.0\n",
            "Repeat 4/5\n",
            "content/test/large/inst_1000_60_00006 - 117.87s - 741743231.0\n",
            "Repeat 5/5\n",
            "content/test/large/inst_1000_60_00006 - 113.91s - 743026050.0\n",
            "Instance 10/10\n",
            "Repeat 1/5\n",
            "content/test/large/inst_1000_60_00008 - 89.37s - 427499933.0\n",
            "Repeat 2/5\n",
            "content/test/large/inst_1000_60_00008 - 91.57s - 427098622.0\n",
            "Repeat 3/5\n",
            "content/test/large/inst_1000_60_00008 - 93.75s - 430645290.0\n",
            "Repeat 4/5\n",
            "content/test/large/inst_1000_60_00008 - 94.29s - 428661507.0\n",
            "Repeat 5/5\n",
            "content/test/large/inst_1000_60_00008 - 89.78s - 428956373.0\n",
            "Item                                               Time (s)   Cost      \n",
            "----------------------------------------------------------------------\n"
          ]
        }
      ],
      "execution_count": null
    },
    {
      "metadata": {
        "ExecuteTime": {
          "end_time": "2025-01-07T12:12:08.513436Z",
          "start_time": "2025-01-07T08:26:23.227531Z"
        },
        "id": "g3rxz6Mf5ExM",
        "outputId": "dbd10fed-9cfc-4150-dc4b-42cd3fd2f7ed"
      },
      "cell_type": "code",
      "source": [
        "# Configuration(values={\n",
        "#   'alpha': 1.8699668615412,\n",
        "#   'ant_count': 22,\n",
        "#   'beta': 1.0702607933214,\n",
        "#   'evaporation_rate': 0.6922705509118,\n",
        "#   'iterations': 55,\n",
        "#   'tau_max': 7.8543738109695,\n",
        "#   'tau_min': 0.505812093858,\n",
        "# })\n",
        "\n",
        "ACO_params = {\n",
        "    'alpha': 1.87,\n",
        "    'beta': 1.07,\n",
        "    'evaporation_rate': 0.69,\n",
        "    'ant_count': 22,\n",
        "    'iterations': 55,\n",
        "    'tau_min': 0.51,\n",
        "    'tau_max': 7.85\n",
        "}\n",
        "\n",
        "save_dir = \"results_aco\"\n",
        "\n",
        "if not os.path.exists(save_dir):\n",
        "    os.makedirs(save_dir)\n",
        "\n",
        "repeat = 5\n",
        "\n",
        "for name, items in instances.items():\n",
        "    results = []\n",
        "    print(f\"Running ACO on {name} instances\")\n",
        "    save_path = f\"{save_dir}/{name}.txt\"\n",
        "    if not os.path.exists(save_path):\n",
        "        with open(save_path, \"w\") as f:\n",
        "            f.write(f\"ACO Parameters: {ACO_params}\\n\")\n",
        "\n",
        "    for i, (path, graph) in enumerate(items):\n",
        "        iteration_results = []\n",
        "        print(f\"Instance {i + 1}/{len(items)}\")\n",
        "        for iter in range(repeat):\n",
        "            print(f\"Repeat {iter + 1}/{repeat}\")\n",
        "            graph_copy = deepcopy(graph)\n",
        "            with Timer() as t:\n",
        "                solution = MaxMinAntSystem(graph_copy, **ACO_params)\n",
        "                ordering, cost = solution.ant_colony_optimization()  # Cost computation outside the timing block\n",
        "            results.append((path, t.delta, cost))\n",
        "            print(f\"{path} - {t.delta:.2f}s - {cost}\")\n",
        "            iteration_results.append((path, t.delta, cost, ordering))\n",
        "\n",
        "        with open(save_path, \"a\") as f:\n",
        "            for path, time_taken, cost, _ in iteration_results:\n",
        "                f.write(f\"{path} - {time_taken:.2f} - {cost}\\n\")\n",
        "\n",
        "            average_cost = sum(cost for _, _, cost, _ in iteration_results) / repeat\n",
        "            std_cost = np.std([cost for _, _, cost, _ in iteration_results])\n",
        "            f.write(f\"Average cost: {average_cost:.2f} - Std: {std_cost:.2f}\\n\")\n",
        "\n",
        "            average_time = sum(time_taken for _, time_taken, _, _ in iteration_results) / repeat\n",
        "            std_time = np.std([time_taken for _, time_taken, _, _ in iteration_results])\n",
        "            f.write(f\"Average time: {average_time:.2f} - Std: {std_time:.2f}\\n\")\n",
        "\n",
        "    print(f\"{'Item':<50} {'Time (s)':<10} {'Cost':<10}\")\n",
        "    print(\"-\" * 70)"
      ],
      "outputs": [
        {
          "name": "stdout",
          "output_type": "stream",
          "text": [
            "Running ACO on small instances\n",
            "Instance 1/10\n",
            "Repeat 1/5\n",
            "content/test/small/inst_50_4_00006 - 0.33s - 3160.0\n",
            "Repeat 2/5\n",
            "content/test/small/inst_50_4_00006 - 0.33s - 3082.0\n",
            "Repeat 3/5\n",
            "content/test/small/inst_50_4_00006 - 0.32s - 3150.0\n",
            "Repeat 4/5\n",
            "content/test/small/inst_50_4_00006 - 0.32s - 3097.0\n",
            "Repeat 5/5\n",
            "content/test/small/inst_50_4_00006 - 0.33s - 3068.0\n",
            "Instance 2/10\n",
            "Repeat 1/5\n",
            "content/test/small/inst_50_4_00001 - 0.57s - 75251.0\n",
            "Repeat 2/5\n",
            "content/test/small/inst_50_4_00001 - 0.57s - 75091.0\n",
            "Repeat 3/5\n",
            "content/test/small/inst_50_4_00001 - 0.57s - 75261.0\n",
            "Repeat 4/5\n",
            "content/test/small/inst_50_4_00001 - 0.58s - 74937.0\n",
            "Repeat 5/5\n",
            "content/test/small/inst_50_4_00001 - 0.58s - 74752.0\n",
            "Instance 3/10\n",
            "Repeat 1/5\n",
            "content/test/small/inst_50_4_00008 - 0.30s - 1559.0\n",
            "Repeat 2/5\n",
            "content/test/small/inst_50_4_00008 - 0.30s - 1494.0\n",
            "Repeat 3/5\n",
            "content/test/small/inst_50_4_00008 - 0.29s - 1489.0\n",
            "Repeat 4/5\n",
            "content/test/small/inst_50_4_00008 - 0.30s - 1468.0\n",
            "Repeat 5/5\n",
            "content/test/small/inst_50_4_00008 - 0.30s - 1467.0\n",
            "Instance 4/10\n",
            "Repeat 1/5\n",
            "content/test/small/inst_50_4_00009 - 0.29s - 1388.0\n",
            "Repeat 2/5\n",
            "content/test/small/inst_50_4_00009 - 0.30s - 1452.0\n",
            "Repeat 3/5\n",
            "content/test/small/inst_50_4_00009 - 0.29s - 1381.0\n",
            "Repeat 4/5\n",
            "content/test/small/inst_50_4_00009 - 0.30s - 1377.0\n",
            "Repeat 5/5\n",
            "content/test/small/inst_50_4_00009 - 0.29s - 1400.0\n",
            "Instance 5/10\n",
            "Repeat 1/5\n",
            "content/test/small/inst_50_4_00007 - 0.31s - 2136.0\n",
            "Repeat 2/5\n",
            "content/test/small/inst_50_4_00007 - 0.32s - 2145.0\n",
            "Repeat 3/5\n",
            "content/test/small/inst_50_4_00007 - 0.31s - 2222.0\n",
            "Repeat 4/5\n",
            "content/test/small/inst_50_4_00007 - 0.32s - 2100.0\n",
            "Repeat 5/5\n",
            "content/test/small/inst_50_4_00007 - 0.31s - 2262.0\n",
            "Instance 6/10\n",
            "Repeat 1/5\n",
            "content/test/small/inst_50_4_00010 - 0.30s - 967.0\n",
            "Repeat 2/5\n",
            "content/test/small/inst_50_4_00010 - 0.29s - 938.0\n",
            "Repeat 3/5\n",
            "content/test/small/inst_50_4_00010 - 0.29s - 896.0\n",
            "Repeat 4/5\n",
            "content/test/small/inst_50_4_00010 - 0.29s - 898.0\n",
            "Repeat 5/5\n",
            "content/test/small/inst_50_4_00010 - 0.29s - 919.0\n",
            "Instance 7/10\n",
            "Repeat 1/5\n",
            "content/test/small/inst_50_4_00002 - 0.44s - 24329.0\n",
            "Repeat 2/5\n",
            "content/test/small/inst_50_4_00002 - 0.43s - 24405.0\n",
            "Repeat 3/5\n",
            "content/test/small/inst_50_4_00002 - 0.44s - 24294.0\n",
            "Repeat 4/5\n",
            "content/test/small/inst_50_4_00002 - 0.45s - 24466.0\n",
            "Repeat 5/5\n",
            "content/test/small/inst_50_4_00002 - 0.44s - 24417.0\n",
            "Instance 8/10\n",
            "Repeat 1/5\n",
            "content/test/small/inst_50_4_00005 - 0.32s - 3749.0\n",
            "Repeat 2/5\n",
            "content/test/small/inst_50_4_00005 - 0.33s - 3931.0\n",
            "Repeat 3/5\n",
            "content/test/small/inst_50_4_00005 - 0.33s - 3808.0\n",
            "Repeat 4/5\n",
            "content/test/small/inst_50_4_00005 - 0.33s - 3794.0\n",
            "Repeat 5/5\n",
            "content/test/small/inst_50_4_00005 - 0.33s - 3757.0\n",
            "Instance 9/10\n",
            "Repeat 1/5\n",
            "content/test/small/inst_50_4_00004 - 0.36s - 6836.0\n",
            "Repeat 2/5\n",
            "content/test/small/inst_50_4_00004 - 0.36s - 6801.0\n",
            "Repeat 3/5\n",
            "content/test/small/inst_50_4_00004 - 0.36s - 6883.0\n",
            "Repeat 4/5\n",
            "content/test/small/inst_50_4_00004 - 0.36s - 6790.0\n",
            "Repeat 5/5\n",
            "content/test/small/inst_50_4_00004 - 0.36s - 6882.0\n",
            "Instance 10/10\n",
            "Repeat 1/5\n",
            "content/test/small/inst_50_4_00003 - 0.38s - 12560.0\n",
            "Repeat 2/5\n",
            "content/test/small/inst_50_4_00003 - 0.39s - 12483.0\n",
            "Repeat 3/5\n",
            "content/test/small/inst_50_4_00003 - 0.39s - 12659.0\n",
            "Repeat 4/5\n",
            "content/test/small/inst_50_4_00003 - 0.40s - 12714.0\n",
            "Repeat 5/5\n",
            "content/test/small/inst_50_4_00003 - 0.38s - 12716.0\n",
            "Item                                               Time (s)   Cost      \n",
            "----------------------------------------------------------------------\n",
            "Running ACO on medium instances\n",
            "Instance 1/10\n",
            "Repeat 1/5\n",
            "content/test/med/inst_200_20_00007 - 4.45s - 791083.0\n",
            "Repeat 2/5\n",
            "content/test/med/inst_200_20_00007 - 4.49s - 782448.0\n",
            "Repeat 3/5\n",
            "content/test/med/inst_200_20_00007 - 4.51s - 785460.0\n",
            "Repeat 4/5\n",
            "content/test/med/inst_200_20_00007 - 4.45s - 777358.0\n",
            "Repeat 5/5\n",
            "content/test/med/inst_200_20_00007 - 4.50s - 785036.0\n",
            "Instance 2/10\n",
            "Repeat 1/5\n",
            "content/test/med/inst_200_20_00009 - 4.18s - 465421.0\n",
            "Repeat 2/5\n",
            "content/test/med/inst_200_20_00009 - 4.20s - 455472.0\n",
            "Repeat 3/5\n",
            "content/test/med/inst_200_20_00009 - 4.18s - 460755.0\n",
            "Repeat 4/5\n",
            "content/test/med/inst_200_20_00009 - 4.19s - 461142.0\n",
            "Repeat 5/5\n",
            "content/test/med/inst_200_20_00009 - 4.18s - 458365.0\n",
            "Instance 3/10\n",
            "Repeat 1/5\n",
            "content/test/med/inst_200_20_00008 - 4.36s - 596949.0\n",
            "Repeat 2/5\n",
            "content/test/med/inst_200_20_00008 - 4.35s - 590645.0\n",
            "Repeat 3/5\n",
            "content/test/med/inst_200_20_00008 - 4.31s - 598966.0\n",
            "Repeat 4/5\n",
            "content/test/med/inst_200_20_00008 - 4.26s - 605722.0\n",
            "Repeat 5/5\n",
            "content/test/med/inst_200_20_00008 - 4.31s - 584881.0\n",
            "Instance 4/10\n",
            "Repeat 1/5\n",
            "content/test/med/inst_200_20_00001 - 10.92s - 22146045.0\n",
            "Repeat 2/5\n",
            "content/test/med/inst_200_20_00001 - 10.74s - 22126377.0\n",
            "Repeat 3/5\n",
            "content/test/med/inst_200_20_00001 - 12.17s - 22093370.0\n",
            "Repeat 4/5\n",
            "content/test/med/inst_200_20_00001 - 10.85s - 22050477.0\n",
            "Repeat 5/5\n",
            "content/test/med/inst_200_20_00001 - 10.78s - 22155904.0\n",
            "Instance 5/10\n",
            "Repeat 1/5\n",
            "content/test/med/inst_200_20_00006 - 4.74s - 1050430.0\n",
            "Repeat 2/5\n",
            "content/test/med/inst_200_20_00006 - 4.74s - 1055847.0\n",
            "Repeat 3/5\n",
            "content/test/med/inst_200_20_00006 - 4.76s - 1049853.0\n",
            "Repeat 4/5\n",
            "content/test/med/inst_200_20_00006 - 4.76s - 1060975.0\n",
            "Repeat 5/5\n",
            "content/test/med/inst_200_20_00006 - 4.75s - 1056238.0\n",
            "Instance 6/10\n",
            "Repeat 1/5\n",
            "content/test/med/inst_200_20_00003 - 7.12s - 3933976.0\n",
            "Repeat 2/5\n",
            "content/test/med/inst_200_20_00003 - 6.66s - 3939451.0\n",
            "Repeat 3/5\n",
            "content/test/med/inst_200_20_00003 - 6.25s - 3950151.0\n",
            "Repeat 4/5\n",
            "content/test/med/inst_200_20_00003 - 6.36s - 3963878.0\n",
            "Repeat 5/5\n",
            "content/test/med/inst_200_20_00003 - 6.17s - 3953289.0\n",
            "Instance 7/10\n",
            "Repeat 1/5\n",
            "content/test/med/inst_200_20_00004 - 5.50s - 2256750.0\n",
            "Repeat 2/5\n",
            "content/test/med/inst_200_20_00004 - 5.53s - 2279049.0\n",
            "Repeat 3/5\n",
            "content/test/med/inst_200_20_00004 - 5.46s - 2270206.0\n",
            "Repeat 4/5\n",
            "content/test/med/inst_200_20_00004 - 5.54s - 2280595.0\n",
            "Repeat 5/5\n",
            "content/test/med/inst_200_20_00004 - 5.48s - 2279551.0\n",
            "Instance 8/10\n",
            "Repeat 1/5\n",
            "content/test/med/inst_200_20_00005 - 5.03s - 1424082.0\n",
            "Repeat 2/5\n",
            "content/test/med/inst_200_20_00005 - 4.95s - 1416888.0\n",
            "Repeat 3/5\n",
            "content/test/med/inst_200_20_00005 - 5.10s - 1426714.0\n",
            "Repeat 4/5\n",
            "content/test/med/inst_200_20_00005 - 5.01s - 1435663.0\n",
            "Repeat 5/5\n",
            "content/test/med/inst_200_20_00005 - 5.04s - 1420721.0\n",
            "Instance 9/10\n",
            "Repeat 1/5\n",
            "content/test/med/inst_200_20_00002 - 7.85s - 7793620.0\n",
            "Repeat 2/5\n",
            "content/test/med/inst_200_20_00002 - 7.64s - 7764937.0\n",
            "Repeat 3/5\n",
            "content/test/med/inst_200_20_00002 - 7.66s - 7791798.0\n",
            "Repeat 4/5\n",
            "content/test/med/inst_200_20_00002 - 7.81s - 7778567.0\n",
            "Repeat 5/5\n",
            "content/test/med/inst_200_20_00002 - 7.74s - 7772204.0\n",
            "Instance 10/10\n",
            "Repeat 1/5\n",
            "content/test/med/inst_200_20_00010 - 4.08s - 373753.0\n",
            "Repeat 2/5\n",
            "content/test/med/inst_200_20_00010 - 4.01s - 375855.0\n",
            "Repeat 3/5\n",
            "content/test/med/inst_200_20_00010 - 4.05s - 373105.0\n",
            "Repeat 4/5\n",
            "content/test/med/inst_200_20_00010 - 4.03s - 376841.0\n",
            "Repeat 5/5\n",
            "content/test/med/inst_200_20_00010 - 4.02s - 379030.0\n",
            "Item                                               Time (s)   Cost      \n",
            "----------------------------------------------------------------------\n",
            "Running ACO on medium_large instances\n",
            "Instance 1/7\n",
            "Repeat 1/5\n",
            "content/test/med_large/inst_500_40_00007 - 47.40s - 159165373.0\n",
            "Repeat 2/5\n",
            "content/test/med_large/inst_500_40_00007 - 49.05s - 158995792.0\n",
            "Repeat 3/5\n",
            "content/test/med_large/inst_500_40_00007 - 45.33s - 159507431.0\n",
            "Repeat 4/5\n",
            "content/test/med_large/inst_500_40_00007 - 47.75s - 158985028.0\n",
            "Repeat 5/5\n",
            "content/test/med_large/inst_500_40_00007 - 47.54s - 158929284.0\n",
            "Instance 2/7\n",
            "Repeat 1/5\n",
            "content/test/med_large/inst_500_40_00001 - 32.16s - 38580532.0\n",
            "Repeat 2/5\n",
            "content/test/med_large/inst_500_40_00001 - 31.85s - 38607671.0\n",
            "Repeat 3/5\n",
            "content/test/med_large/inst_500_40_00001 - 33.50s - 38584488.0\n",
            "Repeat 4/5\n",
            "content/test/med_large/inst_500_40_00001 - 31.70s - 38425062.0\n",
            "Repeat 5/5\n",
            "content/test/med_large/inst_500_40_00001 - 33.34s - 38551886.0\n",
            "Instance 3/7\n",
            "Repeat 1/5\n",
            "content/test/med_large/inst_500_40_00013 - 60.48s - 321855494.0\n",
            "Repeat 2/5\n",
            "content/test/med_large/inst_500_40_00013 - 61.65s - 321973093.0\n",
            "Repeat 3/5\n",
            "content/test/med_large/inst_500_40_00013 - 61.24s - 321479967.0\n",
            "Repeat 4/5\n",
            "content/test/med_large/inst_500_40_00013 - 60.51s - 321600517.0\n",
            "Repeat 5/5\n",
            "content/test/med_large/inst_500_40_00013 - 61.94s - 322991316.0\n",
            "Instance 4/7\n",
            "Repeat 1/5\n",
            "content/test/med_large/inst_500_40_00004 - 41.36s - 88756630.0\n",
            "Repeat 2/5\n",
            "content/test/med_large/inst_500_40_00004 - 39.24s - 88500801.0\n",
            "Repeat 3/5\n",
            "content/test/med_large/inst_500_40_00004 - 40.36s - 88473078.0\n",
            "Repeat 4/5\n",
            "content/test/med_large/inst_500_40_00004 - 40.76s - 88766438.0\n",
            "Repeat 5/5\n",
            "content/test/med_large/inst_500_40_00004 - 38.59s - 88730551.0\n",
            "Instance 5/7\n",
            "Repeat 1/5\n",
            "content/test/med_large/inst_500_40_00016 - 68.70s - 422910272.0\n",
            "Repeat 2/5\n",
            "content/test/med_large/inst_500_40_00016 - 64.22s - 421283582.0\n",
            "Repeat 3/5\n",
            "content/test/med_large/inst_500_40_00016 - 64.72s - 422365203.0\n",
            "Repeat 4/5\n",
            "content/test/med_large/inst_500_40_00016 - 69.50s - 423615955.0\n",
            "Repeat 5/5\n",
            "content/test/med_large/inst_500_40_00016 - 64.71s - 422416059.0\n",
            "Instance 6/7\n",
            "Repeat 1/5\n",
            "content/test/med_large/inst_500_40_00019 - 71.11s - 518702435.0\n",
            "Repeat 2/5\n",
            "content/test/med_large/inst_500_40_00019 - 69.29s - 518786737.0\n",
            "Repeat 3/5\n",
            "content/test/med_large/inst_500_40_00019 - 72.92s - 517488057.0\n",
            "Repeat 4/5\n",
            "content/test/med_large/inst_500_40_00019 - 71.43s - 517267855.0\n",
            "Repeat 5/5\n",
            "content/test/med_large/inst_500_40_00019 - 69.58s - 517619991.0\n",
            "Instance 7/7\n",
            "Repeat 1/5\n",
            "content/test/med_large/inst_500_40_00010 - 54.32s - 238268543.0\n",
            "Repeat 2/5\n",
            "content/test/med_large/inst_500_40_00010 - 57.19s - 238628550.0\n",
            "Repeat 3/5\n",
            "content/test/med_large/inst_500_40_00010 - 58.26s - 238024439.0\n",
            "Repeat 4/5\n",
            "content/test/med_large/inst_500_40_00010 - 55.99s - 237859186.0\n",
            "Repeat 5/5\n",
            "content/test/med_large/inst_500_40_00010 - 59.18s - 238177068.0\n",
            "Item                                               Time (s)   Cost      \n",
            "----------------------------------------------------------------------\n",
            "Running ACO on large instances\n",
            "Instance 1/10\n",
            "Repeat 1/5\n",
            "content/test/large/inst_1000_60_00010 - 122.57s - 281140231.0\n",
            "Repeat 2/5\n",
            "content/test/large/inst_1000_60_00010 - 115.32s - 280748980.0\n",
            "Repeat 3/5\n",
            "content/test/large/inst_1000_60_00010 - 122.62s - 280530488.0\n",
            "Repeat 4/5\n",
            "content/test/large/inst_1000_60_00010 - 121.47s - 280403135.0\n",
            "Repeat 5/5\n",
            "content/test/large/inst_1000_60_00010 - 116.64s - 280746168.0\n",
            "Instance 2/10\n",
            "Repeat 1/5\n",
            "content/test/large/inst_1000_60_00003 - 206.81s - 2644911911.0\n",
            "Repeat 2/5\n",
            "content/test/large/inst_1000_60_00003 - 214.73s - 2638015010.0\n",
            "Repeat 3/5\n",
            "content/test/large/inst_1000_60_00003 - 221.53s - 2634833834.0\n",
            "Repeat 4/5\n",
            "content/test/large/inst_1000_60_00003 - 216.57s - 2641759095.0\n",
            "Repeat 5/5\n",
            "content/test/large/inst_1000_60_00003 - 227.24s - 2642479360.0\n",
            "Instance 3/10\n",
            "Repeat 1/5\n",
            "content/test/large/inst_1000_60_00004 - 190.76s - 1567985469.0\n",
            "Repeat 2/5\n",
            "content/test/large/inst_1000_60_00004 - 185.21s - 1567987743.0\n",
            "Repeat 3/5\n",
            "content/test/large/inst_1000_60_00004 - 184.93s - 1567506530.0\n",
            "Repeat 4/5\n",
            "content/test/large/inst_1000_60_00004 - 182.96s - 1574531979.0\n",
            "Repeat 5/5\n",
            "content/test/large/inst_1000_60_00004 - 183.39s - 1569819484.0\n",
            "Instance 4/10\n",
            "Repeat 1/5\n",
            "content/test/large/inst_1000_60_00005 - 163.31s - 1032923100.0\n",
            "Repeat 2/5\n",
            "content/test/large/inst_1000_60_00005 - 165.07s - 1034286779.0\n",
            "Repeat 3/5\n",
            "content/test/large/inst_1000_60_00005 - 158.86s - 1033794595.0\n",
            "Repeat 4/5\n",
            "content/test/large/inst_1000_60_00005 - 161.53s - 1031095066.0\n",
            "Repeat 5/5\n",
            "content/test/large/inst_1000_60_00005 - 157.98s - 1035648799.0\n",
            "Instance 5/10\n",
            "Repeat 1/5\n",
            "content/test/large/inst_1000_60_00002 - 265.98s - 5244384770.0\n",
            "Repeat 2/5\n",
            "content/test/large/inst_1000_60_00002 - 274.59s - 5246405188.0\n",
            "Repeat 3/5\n",
            "content/test/large/inst_1000_60_00002 - 266.29s - 5252721103.0\n",
            "Repeat 4/5\n",
            "content/test/large/inst_1000_60_00002 - 278.28s - 5245338972.0\n",
            "Repeat 5/5\n",
            "content/test/large/inst_1000_60_00002 - 272.25s - 5242882641.0\n",
            "Instance 6/10\n",
            "Repeat 1/5\n",
            "content/test/large/inst_1000_60_00009 - 120.11s - 340998288.0\n",
            "Repeat 2/5\n"
          ]
        },
        {
          "name": "stderr",
          "output_type": "stream",
          "text": [
            "2025-01-07 11:26:24,659 - distributed.core - INFO - Event loop was unresponsive in Scheduler for 7.11s.  This is often caused by long-running GIL-holding functions or moving large chunks of data. This can cause timeouts and instability.\n",
            "2025-01-07 11:26:24,702 - distributed.core - INFO - Event loop was unresponsive in Nanny for 7.15s.  This is often caused by long-running GIL-holding functions or moving large chunks of data. This can cause timeouts and instability.\n",
            "2025-01-07 11:26:24,773 - distributed.core - INFO - Event loop was unresponsive in Nanny for 7.22s.  This is often caused by long-running GIL-holding functions or moving large chunks of data. This can cause timeouts and instability.\n",
            "2025-01-07 11:26:24,810 - distributed.core - INFO - Event loop was unresponsive in Nanny for 7.26s.  This is often caused by long-running GIL-holding functions or moving large chunks of data. This can cause timeouts and instability.\n",
            "2025-01-07 11:26:24,883 - distributed.core - INFO - Event loop was unresponsive in Nanny for 7.33s.  This is often caused by long-running GIL-holding functions or moving large chunks of data. This can cause timeouts and instability.\n",
            "2025-01-07 11:26:24,959 - distributed.core - INFO - Event loop was unresponsive in Nanny for 7.41s.  This is often caused by long-running GIL-holding functions or moving large chunks of data. This can cause timeouts and instability.\n",
            "2025-01-07 11:26:25,018 - distributed.core - INFO - Event loop was unresponsive in Nanny for 7.47s.  This is often caused by long-running GIL-holding functions or moving large chunks of data. This can cause timeouts and instability.\n"
          ]
        },
        {
          "name": "stdout",
          "output_type": "stream",
          "text": [
            "content/test/large/inst_1000_60_00009 - 121.15s - 341250398.0\n",
            "Repeat 3/5\n",
            "content/test/large/inst_1000_60_00009 - 121.23s - 339496726.0\n",
            "Repeat 4/5\n",
            "content/test/large/inst_1000_60_00009 - 127.12s - 340726392.0\n",
            "Repeat 5/5\n",
            "content/test/large/inst_1000_60_00009 - 130.65s - 339963350.0\n",
            "Instance 7/10\n",
            "Repeat 1/5\n"
          ]
        },
        {
          "name": "stderr",
          "output_type": "stream",
          "text": [
            "2025-01-07 11:35:02,786 - distributed.core - INFO - Event loop was unresponsive in Scheduler for 92.30s.  This is often caused by long-running GIL-holding functions or moving large chunks of data. This can cause timeouts and instability.\n",
            "2025-01-07 11:35:02,888 - distributed.core - INFO - Event loop was unresponsive in Nanny for 92.39s.  This is often caused by long-running GIL-holding functions or moving large chunks of data. This can cause timeouts and instability.\n",
            "2025-01-07 11:35:02,918 - distributed.core - INFO - Event loop was unresponsive in Nanny for 92.42s.  This is often caused by long-running GIL-holding functions or moving large chunks of data. This can cause timeouts and instability.\n",
            "2025-01-07 11:35:02,964 - distributed.core - INFO - Event loop was unresponsive in Nanny for 92.47s.  This is often caused by long-running GIL-holding functions or moving large chunks of data. This can cause timeouts and instability.\n",
            "2025-01-07 11:35:03,031 - distributed.core - INFO - Event loop was unresponsive in Nanny for 92.53s.  This is often caused by long-running GIL-holding functions or moving large chunks of data. This can cause timeouts and instability.\n",
            "2025-01-07 11:35:03,058 - distributed.core - INFO - Event loop was unresponsive in Nanny for 92.56s.  This is often caused by long-running GIL-holding functions or moving large chunks of data. This can cause timeouts and instability.\n",
            "2025-01-07 11:35:03,134 - distributed.core - INFO - Event loop was unresponsive in Nanny for 92.64s.  This is often caused by long-running GIL-holding functions or moving large chunks of data. This can cause timeouts and instability.\n",
            "2025-01-07 11:38:08,114 - distributed.core - INFO - Event loop was unresponsive in Nanny for 166.39s.  This is often caused by long-running GIL-holding functions or moving large chunks of data. This can cause timeouts and instability.\n",
            "2025-01-07 11:38:08,211 - distributed.core - INFO - Event loop was unresponsive in Scheduler for 166.48s.  This is often caused by long-running GIL-holding functions or moving large chunks of data. This can cause timeouts and instability.\n",
            "2025-01-07 11:38:08,300 - distributed.core - INFO - Event loop was unresponsive in Nanny for 166.56s.  This is often caused by long-running GIL-holding functions or moving large chunks of data. This can cause timeouts and instability.\n",
            "2025-01-07 11:38:08,326 - distributed.core - INFO - Event loop was unresponsive in Nanny for 166.59s.  This is often caused by long-running GIL-holding functions or moving large chunks of data. This can cause timeouts and instability.\n",
            "2025-01-07 11:38:08,345 - distributed.core - INFO - Event loop was unresponsive in Nanny for 166.61s.  This is often caused by long-running GIL-holding functions or moving large chunks of data. This can cause timeouts and instability.\n",
            "2025-01-07 11:38:08,413 - distributed.core - INFO - Event loop was unresponsive in Nanny for 166.68s.  This is often caused by long-running GIL-holding functions or moving large chunks of data. This can cause timeouts and instability.\n",
            "2025-01-07 11:38:08,471 - distributed.core - INFO - Event loop was unresponsive in Nanny for 166.73s.  This is often caused by long-running GIL-holding functions or moving large chunks of data. This can cause timeouts and instability.\n",
            "2025-01-07 11:53:54,656 - distributed.core - INFO - Event loop was unresponsive in Nanny for 919.42s.  This is often caused by long-running GIL-holding functions or moving large chunks of data. This can cause timeouts and instability.\n",
            "2025-01-07 11:53:54,724 - distributed.core - INFO - Event loop was unresponsive in Scheduler for 919.48s.  This is often caused by long-running GIL-holding functions or moving large chunks of data. This can cause timeouts and instability.\n",
            "2025-01-07 11:53:54,758 - distributed.core - INFO - Event loop was unresponsive in Nanny for 919.50s.  This is often caused by long-running GIL-holding functions or moving large chunks of data. This can cause timeouts and instability.\n",
            "2025-01-07 11:53:54,799 - distributed.core - INFO - Event loop was unresponsive in Nanny for 919.54s.  This is often caused by long-running GIL-holding functions or moving large chunks of data. This can cause timeouts and instability.\n",
            "2025-01-07 11:53:54,861 - distributed.core - INFO - Event loop was unresponsive in Nanny for 919.61s.  This is often caused by long-running GIL-holding functions or moving large chunks of data. This can cause timeouts and instability.\n",
            "2025-01-07 11:53:54,930 - distributed.core - INFO - Event loop was unresponsive in Nanny for 919.68s.  This is often caused by long-running GIL-holding functions or moving large chunks of data. This can cause timeouts and instability.\n",
            "2025-01-07 11:53:54,960 - distributed.core - INFO - Event loop was unresponsive in Nanny for 919.71s.  This is often caused by long-running GIL-holding functions or moving large chunks of data. This can cause timeouts and instability.\n",
            "2025-01-07 11:57:58,900 - distributed.core - INFO - Event loop was unresponsive in Scheduler for 239.15s.  This is often caused by long-running GIL-holding functions or moving large chunks of data. This can cause timeouts and instability.\n",
            "2025-01-07 11:57:59,008 - distributed.core - INFO - Event loop was unresponsive in Nanny for 239.25s.  This is often caused by long-running GIL-holding functions or moving large chunks of data. This can cause timeouts and instability.\n",
            "2025-01-07 11:57:59,086 - distributed.core - INFO - Event loop was unresponsive in Nanny for 239.33s.  This is often caused by long-running GIL-holding functions or moving large chunks of data. This can cause timeouts and instability.\n",
            "2025-01-07 11:57:59,161 - distributed.core - INFO - Event loop was unresponsive in Nanny for 239.40s.  This is often caused by long-running GIL-holding functions or moving large chunks of data. This can cause timeouts and instability.\n",
            "2025-01-07 11:57:59,226 - distributed.core - INFO - Event loop was unresponsive in Nanny for 239.47s.  This is often caused by long-running GIL-holding functions or moving large chunks of data. This can cause timeouts and instability.\n",
            "2025-01-07 11:57:59,251 - distributed.core - INFO - Event loop was unresponsive in Nanny for 239.49s.  This is often caused by long-running GIL-holding functions or moving large chunks of data. This can cause timeouts and instability.\n",
            "2025-01-07 11:57:59,265 - distributed.core - INFO - Event loop was unresponsive in Nanny for 239.51s.  This is often caused by long-running GIL-holding functions or moving large chunks of data. This can cause timeouts and instability.\n",
            "2025-01-07 11:58:18,642 - distributed.core - INFO - Event loop was unresponsive in Scheduler for 9.14s.  This is often caused by long-running GIL-holding functions or moving large chunks of data. This can cause timeouts and instability.\n",
            "2025-01-07 11:58:18,711 - distributed.core - INFO - Event loop was unresponsive in Nanny for 9.19s.  This is often caused by long-running GIL-holding functions or moving large chunks of data. This can cause timeouts and instability.\n",
            "2025-01-07 11:58:18,743 - distributed.core - INFO - Event loop was unresponsive in Nanny for 9.22s.  This is often caused by long-running GIL-holding functions or moving large chunks of data. This can cause timeouts and instability.\n",
            "2025-01-07 11:58:18,819 - distributed.core - INFO - Event loop was unresponsive in Nanny for 9.30s.  This is often caused by long-running GIL-holding functions or moving large chunks of data. This can cause timeouts and instability.\n",
            "2025-01-07 11:58:18,891 - distributed.core - INFO - Event loop was unresponsive in Nanny for 9.37s.  This is often caused by long-running GIL-holding functions or moving large chunks of data. This can cause timeouts and instability.\n",
            "2025-01-07 11:58:18,924 - distributed.core - INFO - Event loop was unresponsive in Nanny for 9.40s.  This is often caused by long-running GIL-holding functions or moving large chunks of data. This can cause timeouts and instability.\n",
            "2025-01-07 11:58:18,959 - distributed.core - INFO - Event loop was unresponsive in Nanny for 9.44s.  This is often caused by long-running GIL-holding functions or moving large chunks of data. This can cause timeouts and instability.\n",
            "2025-01-07 11:58:49,555 - distributed.core - INFO - Event loop was unresponsive in Nanny for 10.00s.  This is often caused by long-running GIL-holding functions or moving large chunks of data. This can cause timeouts and instability.\n",
            "2025-01-07 11:58:49,639 - distributed.core - INFO - Event loop was unresponsive in Nanny for 10.08s.  This is often caused by long-running GIL-holding functions or moving large chunks of data. This can cause timeouts and instability.\n",
            "2025-01-07 11:58:49,653 - distributed.core - INFO - Event loop was unresponsive in Nanny for 10.09s.  This is often caused by long-running GIL-holding functions or moving large chunks of data. This can cause timeouts and instability.\n",
            "2025-01-07 11:58:49,727 - distributed.core - INFO - Event loop was unresponsive in Nanny for 10.17s.  This is often caused by long-running GIL-holding functions or moving large chunks of data. This can cause timeouts and instability.\n",
            "2025-01-07 11:58:49,799 - distributed.core - INFO - Event loop was unresponsive in Nanny for 10.24s.  This is often caused by long-running GIL-holding functions or moving large chunks of data. This can cause timeouts and instability.\n",
            "2025-01-07 11:58:49,833 - distributed.core - INFO - Event loop was unresponsive in Nanny for 10.27s.  This is often caused by long-running GIL-holding functions or moving large chunks of data. This can cause timeouts and instability.\n",
            "2025-01-07 11:58:49,900 - distributed.core - INFO - Event loop was unresponsive in Scheduler for 10.33s.  This is often caused by long-running GIL-holding functions or moving large chunks of data. This can cause timeouts and instability.\n"
          ]
        },
        {
          "name": "stdout",
          "output_type": "stream",
          "text": [
            "content/test/large/inst_1000_60_00007 - 140.73s - 546333281.0\n",
            "Repeat 2/5\n"
          ]
        },
        {
          "name": "stderr",
          "output_type": "stream",
          "text": [
            "2025-01-07 12:00:44,492 - distributed.core - INFO - Event loop was unresponsive in Nanny for 96.85s.  This is often caused by long-running GIL-holding functions or moving large chunks of data. This can cause timeouts and instability.\n",
            "2025-01-07 12:00:44,560 - distributed.core - INFO - Event loop was unresponsive in Scheduler for 96.91s.  This is often caused by long-running GIL-holding functions or moving large chunks of data. This can cause timeouts and instability.\n",
            "2025-01-07 12:00:44,657 - distributed.core - INFO - Event loop was unresponsive in Nanny for 97.00s.  This is often caused by long-running GIL-holding functions or moving large chunks of data. This can cause timeouts and instability.\n",
            "2025-01-07 12:00:44,670 - distributed.core - INFO - Event loop was unresponsive in Nanny for 97.01s.  This is often caused by long-running GIL-holding functions or moving large chunks of data. This can cause timeouts and instability.\n",
            "2025-01-07 12:00:44,740 - distributed.core - INFO - Event loop was unresponsive in Nanny for 97.08s.  This is often caused by long-running GIL-holding functions or moving large chunks of data. This can cause timeouts and instability.\n",
            "2025-01-07 12:00:44,790 - distributed.core - INFO - Event loop was unresponsive in Nanny for 97.13s.  This is often caused by long-running GIL-holding functions or moving large chunks of data. This can cause timeouts and instability.\n",
            "2025-01-07 12:00:44,865 - distributed.core - INFO - Event loop was unresponsive in Nanny for 97.21s.  This is often caused by long-running GIL-holding functions or moving large chunks of data. This can cause timeouts and instability.\n",
            "2025-01-07 12:04:42,419 - distributed.core - INFO - Event loop was unresponsive in Nanny for 230.62s.  This is often caused by long-running GIL-holding functions or moving large chunks of data. This can cause timeouts and instability.\n",
            "2025-01-07 12:04:42,460 - distributed.core - INFO - Event loop was unresponsive in Nanny for 230.67s.  This is often caused by long-running GIL-holding functions or moving large chunks of data. This can cause timeouts and instability.\n",
            "2025-01-07 12:04:42,526 - distributed.core - INFO - Event loop was unresponsive in Nanny for 230.73s.  This is often caused by long-running GIL-holding functions or moving large chunks of data. This can cause timeouts and instability.\n",
            "2025-01-07 12:04:42,600 - distributed.core - INFO - Event loop was unresponsive in Nanny for 230.80s.  This is often caused by long-running GIL-holding functions or moving large chunks of data. This can cause timeouts and instability.\n",
            "2025-01-07 12:04:42,664 - distributed.core - INFO - Event loop was unresponsive in Nanny for 230.86s.  This is often caused by long-running GIL-holding functions or moving large chunks of data. This can cause timeouts and instability.\n",
            "2025-01-07 12:04:42,720 - distributed.core - INFO - Event loop was unresponsive in Nanny for 230.92s.  This is often caused by long-running GIL-holding functions or moving large chunks of data. This can cause timeouts and instability.\n",
            "2025-01-07 12:04:42,787 - distributed.core - INFO - Event loop was unresponsive in Scheduler for 230.98s.  This is often caused by long-running GIL-holding functions or moving large chunks of data. This can cause timeouts and instability.\n",
            "2025-01-07 12:05:51,097 - distributed.core - INFO - Event loop was unresponsive in Nanny for 39.08s.  This is often caused by long-running GIL-holding functions or moving large chunks of data. This can cause timeouts and instability.\n",
            "2025-01-07 12:05:51,161 - distributed.core - INFO - Event loop was unresponsive in Nanny for 39.14s.  This is often caused by long-running GIL-holding functions or moving large chunks of data. This can cause timeouts and instability.\n",
            "2025-01-07 12:05:51,176 - distributed.core - INFO - Event loop was unresponsive in Nanny for 39.16s.  This is often caused by long-running GIL-holding functions or moving large chunks of data. This can cause timeouts and instability.\n",
            "2025-01-07 12:05:51,205 - distributed.core - INFO - Event loop was unresponsive in Nanny for 39.19s.  This is often caused by long-running GIL-holding functions or moving large chunks of data. This can cause timeouts and instability.\n",
            "2025-01-07 12:05:51,282 - distributed.core - INFO - Event loop was unresponsive in Nanny for 39.26s.  This is often caused by long-running GIL-holding functions or moving large chunks of data. This can cause timeouts and instability.\n",
            "2025-01-07 12:05:51,308 - distributed.core - INFO - Event loop was unresponsive in Scheduler for 39.28s.  This is often caused by long-running GIL-holding functions or moving large chunks of data. This can cause timeouts and instability.\n",
            "2025-01-07 12:05:51,370 - distributed.core - INFO - Event loop was unresponsive in Nanny for 39.34s.  This is often caused by long-running GIL-holding functions or moving large chunks of data. This can cause timeouts and instability.\n",
            "2025-01-07 12:06:22,347 - distributed.core - INFO - Event loop was unresponsive in Nanny for 8.87s.  This is often caused by long-running GIL-holding functions or moving large chunks of data. This can cause timeouts and instability.\n",
            "2025-01-07 12:06:22,391 - distributed.core - INFO - Event loop was unresponsive in Nanny for 8.92s.  This is often caused by long-running GIL-holding functions or moving large chunks of data. This can cause timeouts and instability.\n",
            "2025-01-07 12:06:22,421 - distributed.core - INFO - Event loop was unresponsive in Nanny for 8.95s.  This is often caused by long-running GIL-holding functions or moving large chunks of data. This can cause timeouts and instability.\n",
            "2025-01-07 12:06:22,494 - distributed.core - INFO - Event loop was unresponsive in Nanny for 9.02s.  This is often caused by long-running GIL-holding functions or moving large chunks of data. This can cause timeouts and instability.\n",
            "2025-01-07 12:06:22,513 - distributed.core - INFO - Event loop was unresponsive in Nanny for 9.04s.  This is often caused by long-running GIL-holding functions or moving large chunks of data. This can cause timeouts and instability.\n",
            "2025-01-07 12:06:22,601 - distributed.core - INFO - Event loop was unresponsive in Nanny for 9.12s.  This is often caused by long-running GIL-holding functions or moving large chunks of data. This can cause timeouts and instability.\n",
            "2025-01-07 12:06:22,638 - distributed.core - INFO - Event loop was unresponsive in Scheduler for 9.15s.  This is often caused by long-running GIL-holding functions or moving large chunks of data. This can cause timeouts and instability.\n"
          ]
        },
        {
          "name": "stdout",
          "output_type": "stream",
          "text": [
            "content/test/large/inst_1000_60_00007 - 139.10s - 547293509.0\n",
            "Repeat 3/5\n",
            "content/test/large/inst_1000_60_00007 - 137.68s - 545966753.0\n",
            "Repeat 4/5\n",
            "content/test/large/inst_1000_60_00007 - 138.54s - 546807857.0\n",
            "Repeat 5/5\n",
            "content/test/large/inst_1000_60_00007 - 135.75s - 544850023.0\n",
            "Instance 8/10\n",
            "Repeat 1/5\n",
            "content/test/large/inst_1000_60_00001 - 429.04s - 14948381387.0\n",
            "Repeat 2/5\n",
            "content/test/large/inst_1000_60_00001 - 420.20s - 14938700536.0\n",
            "Repeat 3/5\n",
            "content/test/large/inst_1000_60_00001 - 410.94s - 14953129749.0\n",
            "Repeat 4/5\n",
            "content/test/large/inst_1000_60_00001 - 423.63s - 14953997716.0\n",
            "Repeat 5/5\n",
            "content/test/large/inst_1000_60_00001 - 409.43s - 14951009778.0\n",
            "Instance 9/10\n",
            "Repeat 1/5\n",
            "content/test/large/inst_1000_60_00006 - 144.77s - 743917764.0\n",
            "Repeat 2/5\n",
            "content/test/large/inst_1000_60_00006 - 143.82s - 743942593.0\n",
            "Repeat 3/5\n",
            "content/test/large/inst_1000_60_00006 - 145.16s - 744265427.0\n",
            "Repeat 4/5\n",
            "content/test/large/inst_1000_60_00006 - 141.86s - 742778766.0\n",
            "Repeat 5/5\n",
            "content/test/large/inst_1000_60_00006 - 147.63s - 742361199.0\n",
            "Instance 10/10\n",
            "Repeat 1/5\n",
            "content/test/large/inst_1000_60_00008 - 127.13s - 430273877.0\n",
            "Repeat 2/5\n",
            "content/test/large/inst_1000_60_00008 - 128.03s - 429814654.0\n",
            "Repeat 3/5\n",
            "content/test/large/inst_1000_60_00008 - 127.41s - 429921848.0\n",
            "Repeat 4/5\n",
            "content/test/large/inst_1000_60_00008 - 127.94s - 429669553.0\n",
            "Repeat 5/5\n",
            "content/test/large/inst_1000_60_00008 - 126.72s - 428199472.0\n",
            "Item                                               Time (s)   Cost      \n",
            "----------------------------------------------------------------------\n"
          ]
        }
      ],
      "execution_count": null
    },
    {
      "metadata": {
        "id": "OvWqGSwK5ExM"
      },
      "cell_type": "code",
      "outputs": [],
      "execution_count": null,
      "source": [
        "paths_to_rerun = []\n",
        "instances_to_rerun = load_instances(paths_to_rerun)\n",
        "\n",
        "repeat = 5\n",
        "\n",
        "for path, graph in instances_to_rerun:\n",
        "    print(f\"Running ACO on {path}\")\n",
        "    results = []\n",
        "    for i in range(repeat):\n",
        "        print(f\"Repeat {i + 1}/{repeat}\")\n",
        "        graph_copy = deepcopy(graph)\n",
        "        with Timer() as t:\n",
        "            solution = MaxMinAntSystem(graph_copy, **ACO_params)\n",
        "            ordering, cost = solution.ant_colony_optimization()  # Cost computation outside the timing block\n",
        "        results.append((path, t.delta, cost))\n",
        "        print(f\"{path} - {t.delta:.2f}s - {cost}\")\n",
        "\n",
        "    average_cost = sum(cost for _, _, cost in results) / repeat\n",
        "    std_cost = np.std([cost for _, _, cost in results])\n",
        "    print(f\"Average cost: {average_cost:.2f} - Std: {std_cost:.2f}\")\n",
        "    average_time = sum(time_taken for _, time_taken, _ in results) / repeat\n",
        "    std_time = np.std([time_taken for _, time_taken, _ in results])\n",
        "    print(f\"Average time: {average_time:.2f} - Std: {std_time:.2f}\")"
      ]
    },
    {
      "cell_type": "markdown",
      "source": [
        "## Hypothesis Testing"
      ],
      "metadata": {
        "id": "NhCZ3uNp5G0S"
      }
    },
    {
      "cell_type": "code",
      "source": [
        "def process_file(file_path, size_file):\n",
        "    # Initialize dictionary to store the instances and their costs\n",
        "    instance_data = {}\n",
        "\n",
        "    # Open the file and read its contents\n",
        "    with open(file_path, 'r') as file:\n",
        "        # Read the file content line by line\n",
        "        lines = file.readlines()\n",
        "\n",
        "    # Regex pattern to extract the instance name, running time, and cost\n",
        "    if size_file == \"large\":\n",
        "        pattern = r\"(content/test/large/inst_\\S+)\\s-\\s([\\d.]+)\\s-\\s([\\d.]+)\"\n",
        "    elif size_file == \"medium_large\":\n",
        "        pattern = r\"(content/test/med_large/inst_\\S+)\\s-\\s([\\d.]+)\\s-\\s([\\d.]+)\"\n",
        "    elif size_file == \"medium\":\n",
        "        pattern = r\"(content/test/med/inst_\\S+)\\s-\\s([\\d.]+)\\s-\\s([\\d.]+)\"\n",
        "    elif size_file == \"small\":\n",
        "        pattern = r\"(content/test/small/inst_\\S+)\\s-\\s([\\d.]+)\\s-\\s([\\d.]+)\"\n",
        "\n",
        "    # Loop through each line in the file\n",
        "    for line in lines:\n",
        "        match = re.match(pattern, line.strip())\n",
        "        if match:\n",
        "            instance, time, cost = match.groups()\n",
        "            cost = float(cost)\n",
        "\n",
        "            # If the instance doesn't exist in the dictionary, create it\n",
        "            if instance not in instance_data:\n",
        "                instance_data[instance] = {\"costs\": [], \"times\": []}\n",
        "\n",
        "            # Append the cost and time for this instance\n",
        "            instance_data[instance][\"costs\"].append(cost)\n",
        "            instance_data[instance][\"times\"].append(float(time))\n",
        "\n",
        "    # Prepare the result list with the smallest and average cost for each instance\n",
        "    result = []\n",
        "    for instance, data in instance_data.items():\n",
        "        min_cost = min(data[\"costs\"])\n",
        "        avg_cost = sum(data[\"costs\"]) / len(data[\"costs\"])\n",
        "        std_dev = statistics.stdev(data[\"costs\"]) if len(data[\"costs\"]) > 1 else 0.0\n",
        "\n",
        "        result.append((instance, min_cost, avg_cost, std_dev))\n",
        "\n",
        "    # Sort the result by the numeric part of the instance name\n",
        "    if size_file == \"large\":\n",
        "        result.sort(key=lambda x: int(re.search(r'inst_1000_60_(\\d+)', x[0]).group(1)))\n",
        "    elif size_file == \"medium_large\":\n",
        "        result.sort(key=lambda x: int(re.search(r'inst_500_40_(\\d+)', x[0]).group(1)))\n",
        "    elif size_file == \"medium\":\n",
        "        result.sort(key=lambda x: int(re.search(r'inst_200_20_(\\d+)', x[0]).group(1)))\n",
        "    elif size_file == \"small\":\n",
        "        result.sort(key=lambda x: int(re.search(r'inst_50_4_(\\d+)', x[0]).group(1)))\n",
        "\n",
        "\n",
        "    # Print the sorted result\n",
        "    for instance, min_cost, avg_cost, std_dev in result:\n",
        "        print(f\"Instance: {instance} - Min Cost: {min_cost:.2f} - Avg Cost: {avg_cost:.2f} - Std. Dev: {std_dev:.2f}\")\n",
        "\n",
        "    return result"
      ],
      "metadata": {
        "id": "jIxSEM-XjKCA"
      },
      "execution_count": null,
      "outputs": []
    },
    {
      "cell_type": "code",
      "source": [
        "def plot_hist(data, group):\n",
        "    # Plot a histogram\n",
        "    plt.hist(data, density = True, alpha = 0.5)\n",
        "\n",
        "    # Fit a normal distribution to the data\n",
        "    mu, std = norm.fit(data)\n",
        "\n",
        "    # Plot the probability density function\n",
        "    xmin, xmax = plt.xlim()\n",
        "    x = np.linspace(xmin, xmax, 201)\n",
        "    y = norm.pdf(x, mu, std)\n",
        "    plt.plot(x, y, \"black\")\n",
        "    title = \"Fit results of \" + group + \": mu = %.2f,  std = %.2f\" % (mu, std)\n",
        "    plt.title(title)\n",
        "\n",
        "    plt.show()"
      ],
      "metadata": {
        "id": "oElJUYlwO11a"
      },
      "execution_count": null,
      "outputs": []
    },
    {
      "cell_type": "code",
      "source": [
        "def print_decision(pvalue, alpha):\n",
        "    print(\"Test Result:\")\n",
        "    print(\"p-value = %.4f\" % (pvalue))\n",
        "    if pvalue < alpha:\n",
        "        print(\"H0 can be rejected on a level of significance of \" + str(alpha) + \".\")\n",
        "    else:\n",
        "        print(\"H0 cannot be rejected on a level of significance of \" + str(alpha) + \".\")\n",
        "\n",
        "def compute_pvalue(pvalue, diff, alternative):\n",
        "    if alternative == \"greater\":\n",
        "        if diff > 0:\n",
        "            pvalue = pvalue / 2\n",
        "        else:\n",
        "            pvalue = 1 - pvalue / 2\n",
        "    elif alternative == \"less\":\n",
        "        if diff < 0:\n",
        "            pvalue = pvalue / 2\n",
        "        else:\n",
        "            pvalue = 1 - pvalue / 2\n",
        "    return pvalue"
      ],
      "metadata": {
        "id": "1IDjMayuQq5x"
      },
      "execution_count": null,
      "outputs": []
    },
    {
      "cell_type": "code",
      "source": [
        "def plot_variance_comparison(performance_ga, performance_aco,  size, label_ga=\"GA Std Dev\", label_aco=\"ACO Std Dev\"):\n",
        "    \"\"\"\n",
        "    Plots a comparison of the standard deviation across test instances for two algorithms.\n",
        "    \"\"\"\n",
        "    # X positions for the bars\n",
        "    x = np.arange(len(performance_ga))\n",
        "\n",
        "    # Variances for each algorithm\n",
        "    variances_ga = [result[-1] for result in performance_ga]\n",
        "    variances_aco = [result[-1] for result in performance_aco]\n",
        "\n",
        "    # Plot\n",
        "    width = 0.35\n",
        "    plt.figure(figsize=(10, 6))\n",
        "    plt.bar(x - width/2, variances_ga, width, label=label_ga, color=\"skyblue\")\n",
        "    plt.bar(x + width/2, variances_aco, width, label=label_aco, color=\"lightcoral\")\n",
        "\n",
        "    # Add labels and legend\n",
        "    plt.xlabel(\"Test Instances\")\n",
        "    plt.ylabel(\"Std. Dev\")\n",
        "    plt.title(f\"Comparison of Std. Deviation Across Test Instances - {size}\")\n",
        "    plt.xticks(x, [res[0][-5:] for res in performance_aco], rotation=45)\n",
        "    plt.legend()\n",
        "    plt.tight_layout()\n",
        "\n",
        "    # Show plot\n",
        "    plt.show()"
      ],
      "metadata": {
        "id": "Gaz8hC_LUThG"
      },
      "execution_count": null,
      "outputs": []
    },
    {
      "cell_type": "markdown",
      "source": [
        "### Small"
      ],
      "metadata": {
        "id": "gY8IB5hpZKJM"
      }
    },
    {
      "cell_type": "code",
      "source": [
        "file_path = \"/content/res_ga/small.txt\"\n",
        "sol_ga = process_file(file_path, \"small\")\n",
        "\n",
        "file_path = \"/content/res_aco/small.txt\"\n",
        "sol_aco = process_file(file_path, \"small\")\n",
        "\n",
        "performance_ga = np.array([result[1] for result in sol_ga])\n",
        "performance_aco = np.array([result[1] for result in sol_aco])"
      ],
      "metadata": {
        "colab": {
          "base_uri": "https://localhost:8080/"
        },
        "id": "v4T15LMIZL3S",
        "outputId": "149ef6b2-21ea-4871-d54d-405d85c05228"
      },
      "execution_count": null,
      "outputs": [
        {
          "output_type": "stream",
          "name": "stdout",
          "text": [
            "Instance: content/test/small/inst_50_4_00001 - Min Cost: 74271.00 - Avg Cost: 74297.40 - Std. Dev: 19.93\n",
            "Instance: content/test/small/inst_50_4_00002 - Min Cost: 24003.00 - Avg Cost: 24030.40 - Std. Dev: 48.76\n",
            "Instance: content/test/small/inst_50_4_00003 - Min Cost: 12285.00 - Avg Cost: 12311.80 - Std. Dev: 25.59\n",
            "Instance: content/test/small/inst_50_4_00004 - Min Cost: 6534.00 - Avg Cost: 6543.80 - Std. Dev: 6.76\n",
            "Instance: content/test/small/inst_50_4_00005 - Min Cost: 3599.00 - Avg Cost: 3611.20 - Std. Dev: 10.38\n",
            "Instance: content/test/small/inst_50_4_00006 - Min Cost: 2965.00 - Avg Cost: 2973.50 - Std. Dev: 6.42\n",
            "Instance: content/test/small/inst_50_4_00007 - Min Cost: 2047.00 - Avg Cost: 2053.20 - Std. Dev: 4.82\n",
            "Instance: content/test/small/inst_50_4_00008 - Min Cost: 1403.00 - Avg Cost: 1406.80 - Std. Dev: 4.49\n",
            "Instance: content/test/small/inst_50_4_00009 - Min Cost: 1304.00 - Avg Cost: 1314.20 - Std. Dev: 12.40\n",
            "Instance: content/test/small/inst_50_4_00010 - Min Cost: 853.00 - Avg Cost: 857.40 - Std. Dev: 4.51\n",
            "Instance: content/test/small/inst_50_4_00001 - Min Cost: 74752.00 - Avg Cost: 75058.40 - Std. Dev: 216.69\n",
            "Instance: content/test/small/inst_50_4_00002 - Min Cost: 24294.00 - Avg Cost: 24382.20 - Std. Dev: 69.58\n",
            "Instance: content/test/small/inst_50_4_00003 - Min Cost: 12483.00 - Avg Cost: 12626.40 - Std. Dev: 102.15\n",
            "Instance: content/test/small/inst_50_4_00004 - Min Cost: 6790.00 - Avg Cost: 6838.40 - Std. Dev: 43.70\n",
            "Instance: content/test/small/inst_50_4_00005 - Min Cost: 3749.00 - Avg Cost: 3807.80 - Std. Dev: 73.16\n",
            "Instance: content/test/small/inst_50_4_00006 - Min Cost: 3068.00 - Avg Cost: 3111.40 - Std. Dev: 41.25\n",
            "Instance: content/test/small/inst_50_4_00007 - Min Cost: 2100.00 - Avg Cost: 2173.00 - Std. Dev: 66.72\n",
            "Instance: content/test/small/inst_50_4_00008 - Min Cost: 1467.00 - Avg Cost: 1495.40 - Std. Dev: 37.57\n",
            "Instance: content/test/small/inst_50_4_00009 - Min Cost: 1377.00 - Avg Cost: 1399.60 - Std. Dev: 30.57\n",
            "Instance: content/test/small/inst_50_4_00010 - Min Cost: 896.00 - Avg Cost: 923.60 - Std. Dev: 29.70\n"
          ]
        }
      ]
    },
    {
      "cell_type": "code",
      "source": [
        "plot_hist(performance_ga - performance_aco, \"difference\")"
      ],
      "metadata": {
        "colab": {
          "base_uri": "https://localhost:8080/",
          "height": 452
        },
        "id": "9O4leaEhZSmk",
        "outputId": "6fa223c0-943e-4ed9-9b11-95f3ff48b83a"
      },
      "execution_count": null,
      "outputs": [
        {
          "output_type": "display_data",
          "data": {
            "text/plain": [
              "<Figure size 640x480 with 1 Axes>"
            ],
            "image/png": "[encoded data removed]"
          },
          "metadata": {}
        }
      ]
    },
    {
      "cell_type": "code",
      "source": [
        "alternative = \"two-sided\"\n",
        "alpha = 0.05\n",
        "\n",
        "# Wilcoxon signed-rank test\n",
        "stat, p_value = scipy.stats.wilcoxon(performance_ga, performance_aco, alternative=alternative)\n",
        "print(f\"Wilcoxon test: stat={stat:.3f}, p-value={p_value:.3f}\")\n",
        "\n",
        "# Print results\n",
        "print_decision(p_value, alpha)"
      ],
      "metadata": {
        "colab": {
          "base_uri": "https://localhost:8080/"
        },
        "id": "rdZ0Bm7VZU4S",
        "outputId": "697d8f53-6078-4e76-c486-b4a42c33d002"
      },
      "execution_count": null,
      "outputs": [
        {
          "output_type": "stream",
          "name": "stdout",
          "text": [
            "Wilcoxon test: stat=0.000, p-value=0.002\n",
            "Test Result:\n",
            "p-value = 0.0020\n",
            "H0 can be rejected on a level of significance of 0.05.\n"
          ]
        }
      ]
    },
    {
      "cell_type": "code",
      "source": [
        "alternative = \"greater\"\n",
        "alpha = 0.05\n",
        "\n",
        "# Wilcoxon signed-rank test\n",
        "stat, p_value = scipy.stats.wilcoxon(performance_ga, performance_aco, alternative=alternative)\n",
        "print(f\"Wilcoxon test: stat={stat:.3f}, p-value={p_value:.3f}\")\n",
        "\n",
        "# Print results\n",
        "print_decision(p_value, alpha)"
      ],
      "metadata": {
        "colab": {
          "base_uri": "https://localhost:8080/"
        },
        "id": "3ylI8xlrbb8O",
        "outputId": "118af1bc-3a20-4022-d1e1-468b00b92d86"
      },
      "execution_count": null,
      "outputs": [
        {
          "output_type": "stream",
          "name": "stdout",
          "text": [
            "Wilcoxon test: stat=0.000, p-value=1.000\n",
            "Test Result:\n",
            "p-value = 1.0000\n",
            "H0 cannot be rejected on a level of significance of 0.05.\n"
          ]
        }
      ]
    },
    {
      "cell_type": "code",
      "source": [
        "alternative = \"less\"\n",
        "alpha = 0.05\n",
        "\n",
        "# Wilcoxon signed-rank test\n",
        "stat, p_value = scipy.stats.wilcoxon(performance_ga, performance_aco, alternative=alternative)\n",
        "print(f\"Wilcoxon test: stat={stat:.3f}, p-value={p_value:.3f}\")\n",
        "\n",
        "# Print results\n",
        "print_decision(p_value, alpha)"
      ],
      "metadata": {
        "colab": {
          "base_uri": "https://localhost:8080/"
        },
        "id": "vXB36RotbnIq",
        "outputId": "d995e204-b612-4702-e6b2-e831395a0a30"
      },
      "execution_count": null,
      "outputs": [
        {
          "output_type": "stream",
          "name": "stdout",
          "text": [
            "Wilcoxon test: stat=55.000, p-value=1.000\n",
            "Test Result:\n",
            "p-value = 1.0000\n",
            "H0 cannot be rejected on a level of significance of 0.05.\n"
          ]
        }
      ]
    },
    {
      "cell_type": "code",
      "source": [
        "plot_variance_comparison(sol_ga, sol_aco, size = \"Small\")"
      ],
      "metadata": {
        "colab": {
          "base_uri": "https://localhost:8080/",
          "height": 607
        },
        "id": "MpJ8RX7eZXIW",
        "outputId": "3394277e-2d9a-4a64-8a2c-038c00879b30"
      },
      "execution_count": null,
      "outputs": [
        {
          "output_type": "display_data",
          "data": {
            "text/plain": [
              "<Figure size 1000x600 with 1 Axes>"
            ],
            "image/png": "[encoded data removed]"
          },
          "metadata": {}
        }
      ]
    },
    {
      "cell_type": "code",
      "source": [
        "# Create indices for instances\n",
        "indices = np.arange(len(performance_ga))\n",
        "\n",
        "# Calculate differences\n",
        "differences = np.array(performance_ga) - np.array(performance_aco)\n",
        "\n",
        "# Bar chart\n",
        "plt.bar(indices, differences, color=['blue' if d < 0 else 'orange' for d in differences])\n",
        "plt.axhline(0, color='black', linewidth=1)\n",
        "plt.title('Performance Difference (GA - ACO)')\n",
        "plt.xlabel('Instance')\n",
        "plt.ylabel('Difference in Performance')\n",
        "plt.grid(axis='y')\n",
        "plt.show()\n"
      ],
      "metadata": {
        "colab": {
          "base_uri": "https://localhost:8080/",
          "height": 472
        },
        "id": "mUXfPQWI02c5",
        "outputId": "346ed153-ccae-45fd-a64f-797d496570b6"
      },
      "execution_count": null,
      "outputs": [
        {
          "output_type": "display_data",
          "data": {
            "text/plain": [
              "<Figure size 640x480 with 1 Axes>"
            ],
            "image/png": "[encoded data removed]"
          },
          "metadata": {}
        }
      ]
    },
    {
      "cell_type": "markdown",
      "source": [
        "### Medium"
      ],
      "metadata": {
        "id": "IPXJhEH9YtqB"
      }
    },
    {
      "cell_type": "code",
      "source": [
        "file_path = \"/content/res_ga/medium.txt\"\n",
        "sol_ga = process_file(file_path, \"medium\")\n",
        "\n",
        "file_path = \"/content/res_aco/medium.txt\"\n",
        "sol_aco = process_file(file_path, \"medium\")\n",
        "\n",
        "performance_ga = np.array([result[1] for result in sol_ga])\n",
        "performance_aco = np.array([result[1] for result in sol_aco])"
      ],
      "metadata": {
        "colab": {
          "base_uri": "https://localhost:8080/"
        },
        "id": "n5a2UobjYvep",
        "outputId": "fc3c4914-5804-40a1-aa78-bf86485bd83d"
      },
      "execution_count": null,
      "outputs": [
        {
          "output_type": "stream",
          "name": "stdout",
          "text": [
            "Instance: content/test/med/inst_200_20_00001 - Min Cost: 21993565.00 - Avg Cost: 22029296.00 - Std. Dev: 33541.40\n",
            "Instance: content/test/med/inst_200_20_00002 - Min Cost: 7704776.00 - Avg Cost: 7747120.40 - Std. Dev: 25130.07\n",
            "Instance: content/test/med/inst_200_20_00003 - Min Cost: 3898835.00 - Avg Cost: 3907547.80 - Std. Dev: 7123.79\n",
            "Instance: content/test/med/inst_200_20_00004 - Min Cost: 2232350.00 - Avg Cost: 2242550.40 - Std. Dev: 8188.45\n",
            "Instance: content/test/med/inst_200_20_00005 - Min Cost: 1402749.00 - Avg Cost: 1406925.40 - Std. Dev: 4482.49\n",
            "Instance: content/test/med/inst_200_20_00006 - Min Cost: 1026378.00 - Avg Cost: 1035081.00 - Std. Dev: 5688.26\n",
            "Instance: content/test/med/inst_200_20_00007 - Min Cost: 760471.00 - Avg Cost: 764310.20 - Std. Dev: 3395.72\n",
            "Instance: content/test/med/inst_200_20_00008 - Min Cost: 578776.00 - Avg Cost: 584369.20 - Std. Dev: 3248.01\n",
            "Instance: content/test/med/inst_200_20_00009 - Min Cost: 451014.00 - Avg Cost: 452883.00 - Std. Dev: 1987.94\n",
            "Instance: content/test/med/inst_200_20_00010 - Min Cost: 365132.00 - Avg Cost: 368226.80 - Std. Dev: 2177.11\n",
            "Instance: content/test/med/inst_200_20_00001 - Min Cost: 22050477.00 - Avg Cost: 22114434.60 - Std. Dev: 42999.54\n",
            "Instance: content/test/med/inst_200_20_00002 - Min Cost: 7764937.00 - Avg Cost: 7780225.20 - Std. Dev: 12391.21\n",
            "Instance: content/test/med/inst_200_20_00003 - Min Cost: 3933976.00 - Avg Cost: 3948149.00 - Std. Dev: 11772.41\n",
            "Instance: content/test/med/inst_200_20_00004 - Min Cost: 2256750.00 - Avg Cost: 2273230.20 - Std. Dev: 10109.33\n",
            "Instance: content/test/med/inst_200_20_00005 - Min Cost: 1416888.00 - Avg Cost: 1424813.60 - Std. Dev: 7096.14\n",
            "Instance: content/test/med/inst_200_20_00006 - Min Cost: 1049853.00 - Avg Cost: 1054668.60 - Std. Dev: 4603.75\n",
            "Instance: content/test/med/inst_200_20_00007 - Min Cost: 777358.00 - Avg Cost: 784277.00 - Std. Dev: 4987.86\n",
            "Instance: content/test/med/inst_200_20_00008 - Min Cost: 584881.00 - Avg Cost: 595432.60 - Std. Dev: 7983.01\n",
            "Instance: content/test/med/inst_200_20_00009 - Min Cost: 455472.00 - Avg Cost: 460231.00 - Std. Dev: 3680.04\n",
            "Instance: content/test/med/inst_200_20_00010 - Min Cost: 373105.00 - Avg Cost: 375716.80 - Std. Dev: 2394.69\n"
          ]
        }
      ]
    },
    {
      "cell_type": "code",
      "source": [
        "plot_hist(performance_ga - performance_aco, \"difference\")"
      ],
      "metadata": {
        "colab": {
          "base_uri": "https://localhost:8080/",
          "height": 467
        },
        "id": "YoRubPaCY65J",
        "outputId": "e18de15e-d7c9-4ea8-e2f6-9ebaa6b1390b"
      },
      "execution_count": null,
      "outputs": [
        {
          "output_type": "display_data",
          "data": {
            "text/plain": [
              "<Figure size 640x480 with 1 Axes>"
            ],
            "image/png": "[encoded data removed]"
          },
          "metadata": {}
        }
      ]
    },
    {
      "cell_type": "code",
      "source": [
        "alternative = \"two-sided\"\n",
        "alpha = 0.05\n",
        "\n",
        "# Wilcoxon signed-rank test\n",
        "stat, p_value = wilcoxon(performance_ga, performance_aco, alternative=alternative)\n",
        "print(f\"Wilcoxon test: stat={stat:.3f}, p-value={p_value:.3f}\")\n",
        "\n",
        "# Print results\n",
        "print_decision(p_value, alpha)"
      ],
      "metadata": {
        "colab": {
          "base_uri": "https://localhost:8080/"
        },
        "id": "DiXlC-01Y9pE",
        "outputId": "9a882e42-f28b-43c9-ca02-50578c77444a"
      },
      "execution_count": null,
      "outputs": [
        {
          "output_type": "stream",
          "name": "stdout",
          "text": [
            "Wilcoxon test: stat=0.000, p-value=0.002\n",
            "Test Result:\n",
            "p-value = 0.0020\n",
            "H0 can be rejected on a level of significance of 0.05.\n"
          ]
        }
      ]
    },
    {
      "cell_type": "code",
      "source": [
        "alternative = \"greater\"\n",
        "alpha = 0.05\n",
        "\n",
        "# Wilcoxon signed-rank test\n",
        "stat, p_value = scipy.stats.wilcoxon(performance_ga, performance_aco, alternative=alternative)\n",
        "print(f\"Wilcoxon test: stat={stat:.3f}, p-value={p_value:.3f}\")\n",
        "\n",
        "# Print results\n",
        "print_decision(p_value, alpha)"
      ],
      "metadata": {
        "colab": {
          "base_uri": "https://localhost:8080/"
        },
        "id": "e4A02tGqbzVb",
        "outputId": "4c799479-46e4-4cd5-d595-eb3381a24948"
      },
      "execution_count": null,
      "outputs": [
        {
          "output_type": "stream",
          "name": "stdout",
          "text": [
            "Wilcoxon test: stat=0.000, p-value=1.000\n",
            "Test Result:\n",
            "p-value = 1.0000\n",
            "H0 cannot be rejected on a level of significance of 0.05.\n"
          ]
        }
      ]
    },
    {
      "cell_type": "code",
      "source": [
        "alternative = \"less\"\n",
        "alpha = 0.05\n",
        "\n",
        "# Wilcoxon signed-rank test\n",
        "stat, p_value = scipy.stats.wilcoxon(performance_ga, performance_aco, alternative=alternative)\n",
        "print(f\"Wilcoxon test: stat={stat:.3f}, p-value={p_value:.3f}\")\n",
        "\n",
        "# Print results\n",
        "print_decision(p_value, alpha)"
      ],
      "metadata": {
        "colab": {
          "base_uri": "https://localhost:8080/"
        },
        "id": "FUnfJgCRb7v0",
        "outputId": "f016ebae-2adc-4c9f-81dc-f6f76d6fe8eb"
      },
      "execution_count": null,
      "outputs": [
        {
          "output_type": "stream",
          "name": "stdout",
          "text": [
            "Wilcoxon test: stat=0.000, p-value=0.001\n",
            "Test Result:\n",
            "p-value = 0.0010\n",
            "H0 can be rejected on a level of significance of 0.05.\n"
          ]
        }
      ]
    },
    {
      "cell_type": "code",
      "source": [
        "plot_variance_comparison(sol_ga, sol_aco, size = \"Medium\")"
      ],
      "metadata": {
        "colab": {
          "base_uri": "https://localhost:8080/",
          "height": 607
        },
        "id": "nQwK_XHCZB-y",
        "outputId": "040950de-0172-4be7-d974-5119ef244128"
      },
      "execution_count": null,
      "outputs": [
        {
          "output_type": "display_data",
          "data": {
            "text/plain": [
              "<Figure size 1000x600 with 1 Axes>"
            ],
            "image/png": "[encoded data removed]"
          },
          "metadata": {}
        }
      ]
    },
    {
      "cell_type": "code",
      "source": [
        "# Create indices for instances\n",
        "indices = np.arange(len(performance_ga))\n",
        "\n",
        "# Calculate differences\n",
        "differences = np.array(performance_ga) - np.array(performance_aco)\n",
        "\n",
        "# Bar chart\n",
        "plt.bar(indices, differences, color=['blue' if d < 0 else 'orange' for d in differences])\n",
        "plt.axhline(0, color='black', linewidth=1)\n",
        "plt.title('Performance Difference (GA - ACO)')\n",
        "plt.xlabel('Instance')\n",
        "plt.ylabel('Difference in Performance')\n",
        "plt.grid(axis='y')\n",
        "plt.show()\n"
      ],
      "metadata": {
        "colab": {
          "base_uri": "https://localhost:8080/",
          "height": 472
        },
        "id": "CQ8tIG6c3jeN",
        "outputId": "57a78d96-a2c9-40b7-9c91-399671ae0ee4"
      },
      "execution_count": null,
      "outputs": [
        {
          "output_type": "display_data",
          "data": {
            "text/plain": [
              "<Figure size 640x480 with 1 Axes>"
            ],
            "image/png": "[encoded data removed]"
          },
          "metadata": {}
        }
      ]
    },
    {
      "cell_type": "markdown",
      "source": [
        "### Medium-Large"
      ],
      "metadata": {
        "id": "_L2EmFrwUzS8"
      }
    },
    {
      "cell_type": "code",
      "source": [
        "file_path = \"/content/res_ga/medium_large.txt\"\n",
        "sol_ga = process_file(file_path, \"medium_large\")\n",
        "\n",
        "file_path = \"/content/res_aco/medium_large.txt\"\n",
        "sol_aco = process_file(file_path, \"medium_large\")\n",
        "\n",
        "performance_ga = np.array([result[1] for result in sol_ga])\n",
        "performance_aco = np.array([result[1] for result in sol_aco])"
      ],
      "metadata": {
        "colab": {
          "base_uri": "https://localhost:8080/"
        },
        "id": "lecL_8rnU2c9",
        "outputId": "0231bdba-0ee7-4d0e-9389-64fe67827222"
      },
      "execution_count": null,
      "outputs": [
        {
          "output_type": "stream",
          "name": "stdout",
          "text": [
            "Instance: content/test/med_large/inst_500_40_00001 - Min Cost: 38071236.00 - Avg Cost: 38297539.60 - Std. Dev: 137107.80\n",
            "Instance: content/test/med_large/inst_500_40_00004 - Min Cost: 88493670.00 - Avg Cost: 88734662.60 - Std. Dev: 226414.08\n",
            "Instance: content/test/med_large/inst_500_40_00007 - Min Cost: 158395698.00 - Avg Cost: 158777172.40 - Std. Dev: 324726.40\n",
            "Instance: content/test/med_large/inst_500_40_00010 - Min Cost: 236880558.00 - Avg Cost: 237583174.00 - Std. Dev: 402871.74\n",
            "Instance: content/test/med_large/inst_500_40_00013 - Min Cost: 321715822.00 - Avg Cost: 321941965.20 - Std. Dev: 229663.23\n",
            "Instance: content/test/med_large/inst_500_40_00016 - Min Cost: 420478963.00 - Avg Cost: 420995098.20 - Std. Dev: 460965.98\n",
            "Instance: content/test/med_large/inst_500_40_00019 - Min Cost: 516534698.00 - Avg Cost: 516929247.60 - Std. Dev: 388049.22\n",
            "Instance: content/test/med_large/inst_500_40_00001 - Min Cost: 38425062.00 - Avg Cost: 38549927.80 - Std. Dev: 72561.36\n",
            "Instance: content/test/med_large/inst_500_40_00004 - Min Cost: 88473078.00 - Avg Cost: 88645499.60 - Std. Dev: 145668.03\n",
            "Instance: content/test/med_large/inst_500_40_00007 - Min Cost: 158929284.00 - Avg Cost: 159116581.60 - Std. Dev: 235648.43\n",
            "Instance: content/test/med_large/inst_500_40_00010 - Min Cost: 237859186.00 - Avg Cost: 238191557.20 - Std. Dev: 289611.19\n",
            "Instance: content/test/med_large/inst_500_40_00013 - Min Cost: 321479967.00 - Avg Cost: 321980077.40 - Std. Dev: 598404.09\n",
            "Instance: content/test/med_large/inst_500_40_00016 - Min Cost: 421283582.00 - Avg Cost: 422518214.20 - Std. Dev: 853948.03\n",
            "Instance: content/test/med_large/inst_500_40_00019 - Min Cost: 517267855.00 - Avg Cost: 517973015.00 - Std. Dev: 716110.65\n"
          ]
        }
      ]
    },
    {
      "cell_type": "code",
      "source": [
        "plot_hist(performance_ga - performance_aco, \"difference\")"
      ],
      "metadata": {
        "colab": {
          "base_uri": "https://localhost:8080/",
          "height": 485
        },
        "id": "Ke3ZD9ZQYVGp",
        "outputId": "5029c73e-5b94-470a-b56a-8d5490254157"
      },
      "execution_count": null,
      "outputs": [
        {
          "output_type": "display_data",
          "data": {
            "text/plain": [
              "<Figure size 640x480 with 1 Axes>"
            ],
            "image/png": "[encoded data removed]"
          },
          "metadata": {}
        }
      ]
    },
    {
      "cell_type": "code",
      "source": [
        "alternative = \"two-sided\"\n",
        "alpha = 0.05\n",
        "\n",
        "# Wilcoxon signed-rank test\n",
        "stat, p_value = wilcoxon(performance_ga, performance_aco, alternative=alternative)\n",
        "print(f\"Wilcoxon test: stat={stat:.3f}, p-value={p_value:.3f}\")\n",
        "\n",
        "# Print results\n",
        "print_decision(p_value, alpha)"
      ],
      "metadata": {
        "colab": {
          "base_uri": "https://localhost:8080/"
        },
        "id": "ft8AoYV2YZQw",
        "outputId": "8ed158ce-8674-4adf-a13e-bea7171f6c2f"
      },
      "execution_count": null,
      "outputs": [
        {
          "output_type": "stream",
          "name": "stdout",
          "text": [
            "Wilcoxon test: stat=3.000, p-value=0.078\n",
            "Test Result:\n",
            "p-value = 0.0781\n",
            "H0 cannot be rejected on a level of significance of 0.05.\n"
          ]
        }
      ]
    },
    {
      "cell_type": "code",
      "source": [
        "alternative = \"greater\"\n",
        "alpha = 0.05\n",
        "\n",
        "# Wilcoxon signed-rank test\n",
        "stat, p_value = scipy.stats.wilcoxon(performance_ga, performance_aco, alternative=alternative)\n",
        "print(f\"Wilcoxon test: stat={stat:.3f}, p-value={p_value:.3f}\")\n",
        "\n",
        "# Print results\n",
        "print_decision(p_value, alpha)"
      ],
      "metadata": {
        "colab": {
          "base_uri": "https://localhost:8080/"
        },
        "id": "ZqPiBodbcXWv",
        "outputId": "c4adc241-5bd1-4a04-d061-611e16909790"
      },
      "execution_count": null,
      "outputs": [
        {
          "output_type": "stream",
          "name": "stdout",
          "text": [
            "Wilcoxon test: stat=3.000, p-value=0.977\n",
            "Test Result:\n",
            "p-value = 0.9766\n",
            "H0 cannot be rejected on a level of significance of 0.05.\n"
          ]
        }
      ]
    },
    {
      "cell_type": "code",
      "source": [
        "alternative = \"less\"\n",
        "alpha = 0.05\n",
        "\n",
        "# Wilcoxon signed-rank test\n",
        "stat, p_value = scipy.stats.wilcoxon(performance_ga, performance_aco, alternative=alternative)\n",
        "print(f\"Wilcoxon test: stat={stat:.3f}, p-value={p_value:.3f}\")\n",
        "\n",
        "# Print results\n",
        "print_decision(p_value, alpha)"
      ],
      "metadata": {
        "colab": {
          "base_uri": "https://localhost:8080/"
        },
        "id": "knod1RMgcaGu",
        "outputId": "fafbbf1c-621e-4b04-ab70-0f54d7fdcf97"
      },
      "execution_count": null,
      "outputs": [
        {
          "output_type": "stream",
          "name": "stdout",
          "text": [
            "Wilcoxon test: stat=3.000, p-value=0.039\n",
            "Test Result:\n",
            "p-value = 0.0391\n",
            "H0 can be rejected on a level of significance of 0.05.\n"
          ]
        }
      ]
    },
    {
      "cell_type": "code",
      "source": [
        "plot_variance_comparison(sol_ga, sol_aco, size = \"Medium-Large\")"
      ],
      "metadata": {
        "colab": {
          "base_uri": "https://localhost:8080/",
          "height": 607
        },
        "id": "lwguK9umYa9_",
        "outputId": "ef05ae73-e365-4513-b9ab-165ed2394a05"
      },
      "execution_count": null,
      "outputs": [
        {
          "output_type": "display_data",
          "data": {
            "text/plain": [
              "<Figure size 1000x600 with 1 Axes>"
            ],
            "image/png": "[encoded data removed]"
          },
          "metadata": {}
        }
      ]
    },
    {
      "cell_type": "code",
      "source": [
        "# Create indices for instances\n",
        "indices = np.arange(len(performance_ga))\n",
        "\n",
        "# Calculate differences\n",
        "differences = np.array(performance_ga) - np.array(performance_aco)\n",
        "\n",
        "# Bar chart\n",
        "plt.bar(indices, differences, color=['blue' if d < 0 else 'orange' for d in differences])\n",
        "plt.axhline(0, color='black', linewidth=1)\n",
        "plt.title('Performance Difference (GA - ACO)')\n",
        "plt.xlabel('Instance')\n",
        "plt.ylabel('Difference in Performance')\n",
        "plt.grid(axis='y')\n",
        "plt.show()\n"
      ],
      "metadata": {
        "colab": {
          "base_uri": "https://localhost:8080/",
          "height": 472
        },
        "id": "k4-ZR2hz3n_x",
        "outputId": "3c4252f8-bcc0-4cc8-c52a-2b61400f2810"
      },
      "execution_count": null,
      "outputs": [
        {
          "output_type": "display_data",
          "data": {
            "text/plain": [
              "<Figure size 640x480 with 1 Axes>"
            ],
            "image/png": "[encoded data removed]"
          },
          "metadata": {}
        }
      ]
    },
    {
      "cell_type": "markdown",
      "source": [
        "### Large"
      ],
      "metadata": {
        "id": "iRNC2DPIUktU"
      }
    },
    {
      "cell_type": "code",
      "source": [
        "file_path = \"/content/res_ga/large.txt\"\n",
        "sol_ga = process_file(file_path, \"large\")\n",
        "\n",
        "file_path = \"/content/res_aco/large.txt\"\n",
        "sol_aco = process_file(file_path, \"large\")\n",
        "\n",
        "performance_ga = np.array([result[1] for result in sol_ga])\n",
        "performance_aco = np.array([result[1] for result in sol_aco])"
      ],
      "metadata": {
        "id": "o8i3yfGtj0Sh",
        "colab": {
          "base_uri": "https://localhost:8080/"
        },
        "outputId": "149db317-3354-4d28-a76d-8e56f9baea4f"
      },
      "execution_count": null,
      "outputs": [
        {
          "output_type": "stream",
          "name": "stdout",
          "text": [
            "Instance: content/test/large/inst_1000_60_00001 - Min Cost: 14932274808.00 - Avg Cost: 14940999432.80 - Std. Dev: 7357125.34\n",
            "Instance: content/test/large/inst_1000_60_00002 - Min Cost: 5237006884.00 - Avg Cost: 5240647169.60 - Std. Dev: 3089238.81\n",
            "Instance: content/test/large/inst_1000_60_00003 - Min Cost: 2635439581.00 - Avg Cost: 2638299603.00 - Std. Dev: 2365392.52\n",
            "Instance: content/test/large/inst_1000_60_00004 - Min Cost: 1567803702.00 - Avg Cost: 1570023131.40 - Std. Dev: 2031316.78\n",
            "Instance: content/test/large/inst_1000_60_00005 - Min Cost: 1029816197.00 - Avg Cost: 1032566067.00 - Std. Dev: 1721904.19\n",
            "Instance: content/test/large/inst_1000_60_00006 - Min Cost: 741743231.00 - Avg Cost: 743305842.60 - Std. Dev: 1086723.04\n",
            "Instance: content/test/large/inst_1000_60_00007 - Min Cost: 543493785.00 - Avg Cost: 544783865.00 - Std. Dev: 1146068.40\n",
            "Instance: content/test/large/inst_1000_60_00008 - Min Cost: 427098622.00 - Avg Cost: 428572345.00 - Std. Dev: 1394135.51\n",
            "Instance: content/test/large/inst_1000_60_00009 - Min Cost: 338921218.00 - Avg Cost: 339849467.60 - Std. Dev: 785969.81\n",
            "Instance: content/test/large/inst_1000_60_00010 - Min Cost: 279832332.00 - Avg Cost: 280491496.60 - Std. Dev: 589023.15\n",
            "Instance: content/test/large/inst_1000_60_00001 - Min Cost: 14938700536.00 - Avg Cost: 14949043833.20 - Std. Dev: 6175014.85\n",
            "Instance: content/test/large/inst_1000_60_00002 - Min Cost: 5242882641.00 - Avg Cost: 5246346534.80 - Std. Dev: 3791464.89\n",
            "Instance: content/test/large/inst_1000_60_00003 - Min Cost: 2634833834.00 - Avg Cost: 2640399842.00 - Std. Dev: 3974877.33\n",
            "Instance: content/test/large/inst_1000_60_00004 - Min Cost: 1567506530.00 - Avg Cost: 1569566241.00 - Std. Dev: 2913571.32\n",
            "Instance: content/test/large/inst_1000_60_00005 - Min Cost: 1031095066.00 - Avg Cost: 1033549667.80 - Std. Dev: 1690216.79\n",
            "Instance: content/test/large/inst_1000_60_00006 - Min Cost: 742361199.00 - Avg Cost: 743453149.80 - Std. Dev: 831018.25\n",
            "Instance: content/test/large/inst_1000_60_00007 - Min Cost: 544850023.00 - Avg Cost: 546250284.60 - Std. Dev: 928333.89\n",
            "Instance: content/test/large/inst_1000_60_00008 - Min Cost: 428199472.00 - Avg Cost: 429575880.80 - Std. Dev: 801121.14\n",
            "Instance: content/test/large/inst_1000_60_00009 - Min Cost: 339496726.00 - Avg Cost: 340487030.80 - Std. Dev: 734226.19\n",
            "Instance: content/test/large/inst_1000_60_00010 - Min Cost: 280403135.00 - Avg Cost: 280713800.40 - Std. Dev: 280287.69\n"
          ]
        }
      ]
    },
    {
      "cell_type": "code",
      "source": [
        "plot_hist(performance_ga - performance_aco, \"difference\")"
      ],
      "metadata": {
        "colab": {
          "base_uri": "https://localhost:8080/",
          "height": 485
        },
        "id": "AzELRGQ4PFvi",
        "outputId": "292ffa31-e132-4108-fef5-c445fd00fa52"
      },
      "execution_count": null,
      "outputs": [
        {
          "output_type": "display_data",
          "data": {
            "text/plain": [
              "<Figure size 640x480 with 1 Axes>"
            ],
            "image/png": "[encoded data removed]"
          },
          "metadata": {}
        }
      ]
    },
    {
      "cell_type": "code",
      "source": [
        "# Paired\n",
        "alternative = \"two-sided\"\n",
        "alpha = 0.05\n",
        "\n",
        "# Wilcoxon signed-rank test\n",
        "stat, p_value = wilcoxon(performance_ga, performance_aco, alternative=alternative)\n",
        "print(f\"Wilcoxon test: stat={stat:.3f}, p-value={p_value:.3f}\")\n",
        "\n",
        "# Print results\n",
        "print_decision(p_value, alpha)"
      ],
      "metadata": {
        "colab": {
          "base_uri": "https://localhost:8080/"
        },
        "id": "gc3dkpnIO1QT",
        "outputId": "9bfc3dfa-fd91-4f31-fa62-7b18a0a3feff"
      },
      "execution_count": null,
      "outputs": [
        {
          "output_type": "stream",
          "name": "stdout",
          "text": [
            "Wilcoxon test: stat=5.000, p-value=0.020\n",
            "Test Result:\n",
            "p-value = 0.0195\n",
            "H0 can be rejected on a level of significance of 0.05.\n"
          ]
        }
      ]
    },
    {
      "cell_type": "code",
      "source": [
        "alternative = \"greater\"\n",
        "alpha = 0.05\n",
        "\n",
        "# Wilcoxon signed-rank test\n",
        "stat, p_value = wilcoxon(performance_ga, performance_aco, alternative=alternative)\n",
        "print(f\"Wilcoxon test: stat={stat:.3f}, p-value={p_value:.3f}\")\n",
        "\n",
        "# Print results\n",
        "print_decision(p_value, alpha)"
      ],
      "metadata": {
        "id": "Z5j5DjtOctDV",
        "outputId": "cb32dfc7-0f6c-483e-aaa7-6f55f0ec3c62",
        "colab": {
          "base_uri": "https://localhost:8080/"
        }
      },
      "execution_count": null,
      "outputs": [
        {
          "output_type": "stream",
          "name": "stdout",
          "text": [
            "Wilcoxon test: stat=5.000, p-value=0.993\n",
            "Test Result:\n",
            "p-value = 0.9932\n",
            "H0 cannot be rejected on a level of significance of 0.05.\n"
          ]
        }
      ]
    },
    {
      "cell_type": "code",
      "source": [
        "alternative = \"less\"\n",
        "alpha = 0.05\n",
        "\n",
        "# Wilcoxon signed-rank test\n",
        "stat, p_value = wilcoxon(performance_ga, performance_aco, alternative=alternative)\n",
        "print(f\"Wilcoxon test: stat={stat:.3f}, p-value={p_value:.3f}\")\n",
        "\n",
        "# Print results\n",
        "print_decision(p_value, alpha)"
      ],
      "metadata": {
        "id": "FoLXhecMcweE",
        "outputId": "4bce456b-896e-4091-cb63-1ad15f921c8a",
        "colab": {
          "base_uri": "https://localhost:8080/"
        }
      },
      "execution_count": null,
      "outputs": [
        {
          "output_type": "stream",
          "name": "stdout",
          "text": [
            "Wilcoxon test: stat=5.000, p-value=0.010\n",
            "Test Result:\n",
            "p-value = 0.0098\n",
            "H0 can be rejected on a level of significance of 0.05.\n"
          ]
        }
      ]
    },
    {
      "cell_type": "code",
      "source": [
        "plot_variance_comparison(sol_ga, sol_aco, size = \"Large\")"
      ],
      "metadata": {
        "colab": {
          "base_uri": "https://localhost:8080/",
          "height": 607
        },
        "id": "ojSdFwHyT9O0",
        "outputId": "178eb874-a015-429b-b486-4aa82f6dbe46"
      },
      "execution_count": null,
      "outputs": [
        {
          "output_type": "display_data",
          "data": {
            "text/plain": [
              "<Figure size 1000x600 with 1 Axes>"
            ],
            "image/png": "[encoded data removed]"
          },
          "metadata": {}
        }
      ]
    },
    {
      "cell_type": "code",
      "source": [
        "# Create indices for instances\n",
        "indices = np.arange(len(performance_ga))\n",
        "\n",
        "# Calculate differences\n",
        "differences = np.array(performance_ga) - np.array(performance_aco)\n",
        "\n",
        "# Bar chart\n",
        "plt.bar(indices, differences, color=['blue' if d < 0 else 'orange' for d in differences])\n",
        "plt.axhline(0, color='black', linewidth=1)\n",
        "plt.title('Performance Difference (GA - ACO)')\n",
        "plt.xlabel('Instance')\n",
        "plt.ylabel('Difference in Performance')\n",
        "plt.grid(axis='y')\n",
        "plt.show()\n"
      ],
      "metadata": {
        "id": "XdhHhbw9Ssvv",
        "colab": {
          "base_uri": "https://localhost:8080/",
          "height": 472
        },
        "outputId": "eb93a450-9a06-4877-b87c-d72829b56637"
      },
      "execution_count": null,
      "outputs": [
        {
          "output_type": "display_data",
          "data": {
            "text/plain": [
              "<Figure size 640x480 with 1 Axes>"
            ],
            "image/png": "[encoded data removed]"
          },
          "metadata": {}
        }
      ]
    }
  ]
}